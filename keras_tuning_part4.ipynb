{
  "nbformat": 4,
  "nbformat_minor": 0,
  "metadata": {
    "colab": {
      "name": "keras_tuning_part4.ipynb",
      "provenance": [],
      "collapsed_sections": [],
      "authorship_tag": "ABX9TyM7dcu5jFeJfCBirLuNm+x8",
      "include_colab_link": true
    },
    "kernelspec": {
      "name": "python3",
      "display_name": "Python 3"
    },
    "accelerator": "GPU"
  },
  "cells": [
    {
      "cell_type": "markdown",
      "metadata": {
        "id": "view-in-github",
        "colab_type": "text"
      },
      "source": [
        "<a href=\"https://colab.research.google.com/github/dcpatton/keras_tuner/blob/master/keras_tuning_part4.ipynb\" target=\"_parent\"><img src=\"https://colab.research.google.com/assets/colab-badge.svg\" alt=\"Open In Colab\"/></a>"
      ]
    },
    {
      "cell_type": "code",
      "metadata": {
        "id": "-D4x5py-Ni17",
        "outputId": "8ab41e63-485a-4cdf-8d9b-4f2a0ccc02e0",
        "colab": {
          "base_uri": "https://localhost:8080/"
        }
      },
      "source": [
        "import tensorflow as tf\n",
        "import random\n",
        "\n",
        "seed = 52\n",
        "tf.random.set_seed(seed)\n",
        "random.seed(seed)\n",
        "\n",
        "print('TensorFlow version = ' + tf.__version__)\n",
        "\n",
        "accuracies = [] # for metric tracking"
      ],
      "execution_count": null,
      "outputs": [
        {
          "output_type": "stream",
          "text": [
            "TensorFlow version = 2.3.0\n"
          ],
          "name": "stdout"
        }
      ]
    },
    {
      "cell_type": "code",
      "metadata": {
        "id": "fNIU2uPxNqe3",
        "outputId": "13bb03eb-5bdb-4666-8070-027fa20c21f8",
        "colab": {
          "base_uri": "https://localhost:8080/"
        }
      },
      "source": [
        "!pip install keras-tuner -q\n",
        "import kerastuner as kt\n",
        "print('Keras Tuner version = ' + kt.__version__)"
      ],
      "execution_count": null,
      "outputs": [
        {
          "output_type": "stream",
          "text": [
            "\u001b[?25l\r\u001b[K     |██████                          | 10kB 24.1MB/s eta 0:00:01\r\u001b[K     |████████████                    | 20kB 7.2MB/s eta 0:00:01\r\u001b[K     |██████████████████              | 30kB 7.5MB/s eta 0:00:01\r\u001b[K     |████████████████████████        | 40kB 9.0MB/s eta 0:00:01\r\u001b[K     |██████████████████████████████  | 51kB 7.4MB/s eta 0:00:01\r\u001b[K     |████████████████████████████████| 61kB 4.9MB/s \n",
            "\u001b[?25h  Building wheel for keras-tuner (setup.py) ... \u001b[?25l\u001b[?25hdone\n",
            "  Building wheel for terminaltables (setup.py) ... \u001b[?25l\u001b[?25hdone\n",
            "Keras Tuner version = 1.0.1\n"
          ],
          "name": "stdout"
        }
      ]
    },
    {
      "cell_type": "markdown",
      "metadata": {
        "id": "cw1Sk_zuNwLO"
      },
      "source": [
        "## Load CIFAR10"
      ]
    },
    {
      "cell_type": "code",
      "metadata": {
        "id": "4mgEG982NzEK",
        "outputId": "b454cde4-44c6-468d-ab59-6ee7eee6ce74",
        "colab": {
          "base_uri": "https://localhost:8080/"
        }
      },
      "source": [
        "(train_images, train_labels), (test_images, test_labels) = tf.keras.datasets.cifar10.load_data()\n",
        "# Normalize the data\n",
        "train_images, test_images = train_images / 255.0, test_images / 255.0"
      ],
      "execution_count": null,
      "outputs": [
        {
          "output_type": "stream",
          "text": [
            "Downloading data from https://www.cs.toronto.edu/~kriz/cifar-10-python.tar.gz\n",
            "170500096/170498071 [==============================] - 6s 0us/step\n"
          ],
          "name": "stdout"
        }
      ]
    },
    {
      "cell_type": "code",
      "metadata": {
        "id": "DUUmafBR_wOW"
      },
      "source": [
        "train_labels = tf.keras.utils.to_categorical(train_labels)\n",
        "test_labels = tf.keras.utils.to_categorical(test_labels)"
      ],
      "execution_count": null,
      "outputs": []
    },
    {
      "cell_type": "markdown",
      "metadata": {
        "id": "xEJCWL77OvQG"
      },
      "source": [
        "# Baseline"
      ]
    },
    {
      "cell_type": "code",
      "metadata": {
        "id": "io3Ig851OxJV",
        "outputId": "01a59210-f8d6-4e36-df52-0bf1468a23b3",
        "colab": {
          "base_uri": "https://localhost:8080/"
        }
      },
      "source": [
        "from tensorflow.keras.layers import Conv2D, Flatten, MaxPool2D, Dense\n",
        "from tensorflow.keras import Input, Model\n",
        "\n",
        "inp = Input(shape=(32, 32, 3), name='inp')\n",
        "x = Conv2D(16, 3, activation='relu')(inp)\n",
        "x = MaxPool2D()(x)\n",
        "x = Conv2D(32, 3, activation='relu')(x)\n",
        "x = MaxPool2D()(x)\n",
        "x = Conv2D(64, 3, activation='relu')(x)\n",
        "x = MaxPool2D()(x)\n",
        "x = Flatten()(x)\n",
        "x = Dense(64, activation='relu')(x)\n",
        "out = Dense(10, activation='softmax')(x)\n",
        "\n",
        "model = Model(inputs=[inp], outputs=[out])\n",
        "\n",
        "model.compile(optimizer=tf.keras.optimizers.Adam(learning_rate=1e-3),\n",
        "              loss=tf.keras.losses.CategoricalCrossentropy(from_logits=False), \n",
        "              metrics=['acc'])\n",
        "\n",
        "model.summary()"
      ],
      "execution_count": null,
      "outputs": [
        {
          "output_type": "stream",
          "text": [
            "Model: \"functional_1\"\n",
            "_________________________________________________________________\n",
            "Layer (type)                 Output Shape              Param #   \n",
            "=================================================================\n",
            "inp (InputLayer)             [(None, 32, 32, 3)]       0         \n",
            "_________________________________________________________________\n",
            "conv2d (Conv2D)              (None, 30, 30, 16)        448       \n",
            "_________________________________________________________________\n",
            "max_pooling2d (MaxPooling2D) (None, 15, 15, 16)        0         \n",
            "_________________________________________________________________\n",
            "conv2d_1 (Conv2D)            (None, 13, 13, 32)        4640      \n",
            "_________________________________________________________________\n",
            "max_pooling2d_1 (MaxPooling2 (None, 6, 6, 32)          0         \n",
            "_________________________________________________________________\n",
            "conv2d_2 (Conv2D)            (None, 4, 4, 64)          18496     \n",
            "_________________________________________________________________\n",
            "max_pooling2d_2 (MaxPooling2 (None, 2, 2, 64)          0         \n",
            "_________________________________________________________________\n",
            "flatten (Flatten)            (None, 256)               0         \n",
            "_________________________________________________________________\n",
            "dense (Dense)                (None, 64)                16448     \n",
            "_________________________________________________________________\n",
            "dense_1 (Dense)              (None, 10)                650       \n",
            "=================================================================\n",
            "Total params: 40,682\n",
            "Trainable params: 40,682\n",
            "Non-trainable params: 0\n",
            "_________________________________________________________________\n"
          ],
          "name": "stdout"
        }
      ]
    },
    {
      "cell_type": "code",
      "metadata": {
        "id": "iXzoHx2sPRre",
        "outputId": "8d2ee3f3-6389-413a-c213-72a9513291fa",
        "colab": {
          "base_uri": "https://localhost:8080/"
        }
      },
      "source": [
        "filepath = 'model.h5'\n",
        "mc = tf.keras.callbacks.ModelCheckpoint(filepath, save_best_only=True, \n",
        "                                        save_weights_only=True)\n",
        "es = tf.keras.callbacks.EarlyStopping(patience=10, verbose=1)\n",
        "\n",
        "history = model.fit(train_images, train_labels, epochs=200, \n",
        "                    validation_data=(test_images, test_labels), \n",
        "                    callbacks=[mc, es], verbose=2, batch_size=8)"
      ],
      "execution_count": null,
      "outputs": [
        {
          "output_type": "stream",
          "text": [
            "Epoch 1/200\n",
            "6250/6250 - 18s - loss: 1.5417 - acc: 0.4367 - val_loss: 1.3074 - val_acc: 0.5258\n",
            "Epoch 2/200\n",
            "6250/6250 - 18s - loss: 1.2058 - acc: 0.5702 - val_loss: 1.1273 - val_acc: 0.6004\n",
            "Epoch 3/200\n",
            "6250/6250 - 18s - loss: 1.0827 - acc: 0.6173 - val_loss: 1.0635 - val_acc: 0.6216\n",
            "Epoch 4/200\n",
            "6250/6250 - 18s - loss: 1.0051 - acc: 0.6466 - val_loss: 1.0197 - val_acc: 0.6421\n",
            "Epoch 5/200\n",
            "6250/6250 - 18s - loss: 0.9475 - acc: 0.6655 - val_loss: 1.0516 - val_acc: 0.6359\n",
            "Epoch 6/200\n",
            "6250/6250 - 18s - loss: 0.9065 - acc: 0.6784 - val_loss: 1.0328 - val_acc: 0.6380\n",
            "Epoch 7/200\n",
            "6250/6250 - 18s - loss: 0.8722 - acc: 0.6929 - val_loss: 0.9789 - val_acc: 0.6525\n",
            "Epoch 8/200\n",
            "6250/6250 - 18s - loss: 0.8417 - acc: 0.7034 - val_loss: 0.9983 - val_acc: 0.6631\n",
            "Epoch 9/200\n",
            "6250/6250 - 18s - loss: 0.8151 - acc: 0.7127 - val_loss: 1.0119 - val_acc: 0.6499\n",
            "Epoch 10/200\n",
            "6250/6250 - 18s - loss: 0.7907 - acc: 0.7218 - val_loss: 0.9750 - val_acc: 0.6647\n",
            "Epoch 11/200\n",
            "6250/6250 - 18s - loss: 0.7656 - acc: 0.7299 - val_loss: 0.9908 - val_acc: 0.6586\n",
            "Epoch 12/200\n",
            "6250/6250 - 18s - loss: 0.7455 - acc: 0.7359 - val_loss: 0.9777 - val_acc: 0.6681\n",
            "Epoch 13/200\n",
            "6250/6250 - 18s - loss: 0.7273 - acc: 0.7410 - val_loss: 1.0132 - val_acc: 0.6594\n",
            "Epoch 14/200\n",
            "6250/6250 - 18s - loss: 0.7105 - acc: 0.7477 - val_loss: 0.9855 - val_acc: 0.6717\n",
            "Epoch 15/200\n",
            "6250/6250 - 18s - loss: 0.6972 - acc: 0.7527 - val_loss: 0.9983 - val_acc: 0.6671\n",
            "Epoch 16/200\n",
            "6250/6250 - 18s - loss: 0.6793 - acc: 0.7611 - val_loss: 1.0243 - val_acc: 0.6579\n",
            "Epoch 17/200\n",
            "6250/6250 - 20s - loss: 0.6719 - acc: 0.7631 - val_loss: 1.0242 - val_acc: 0.6640\n",
            "Epoch 18/200\n",
            "6250/6250 - 18s - loss: 0.6569 - acc: 0.7677 - val_loss: 1.0274 - val_acc: 0.6664\n",
            "Epoch 19/200\n",
            "6250/6250 - 18s - loss: 0.6478 - acc: 0.7691 - val_loss: 1.0119 - val_acc: 0.6690\n",
            "Epoch 20/200\n",
            "6250/6250 - 18s - loss: 0.6368 - acc: 0.7732 - val_loss: 1.0522 - val_acc: 0.6671\n",
            "Epoch 00020: early stopping\n"
          ],
          "name": "stdout"
        }
      ]
    },
    {
      "cell_type": "code",
      "metadata": {
        "id": "Z_6gEfqfQu36",
        "outputId": "5290b5e7-546a-47df-e73a-675b8e736191",
        "colab": {
          "base_uri": "https://localhost:8080/"
        }
      },
      "source": [
        "model.load_weights(filepath)\n",
        "metrics = model.evaluate(test_images, test_labels, verbose=0)\n",
        "print('Loss = ' + str(metrics[0]))\n",
        "print('Accuracy = ' + str(metrics[1]))\n",
        "accuracies.append(metrics[1])"
      ],
      "execution_count": null,
      "outputs": [
        {
          "output_type": "stream",
          "text": [
            "Loss = 0.9750430583953857\n",
            "Accuracy = 0.6646999716758728\n"
          ],
          "name": "stdout"
        }
      ]
    },
    {
      "cell_type": "markdown",
      "metadata": {
        "id": "fLzVJqWSQ3el"
      },
      "source": [
        "# Hyperband Tuner"
      ]
    },
    {
      "cell_type": "code",
      "metadata": {
        "id": "STk-QwaCRVw-"
      },
      "source": [
        "def build_hypermodel(hp):\n",
        "  inp = Input(shape=(32, 32, 3), name='inp')\n",
        "  x = Conv2D(hp.Int('f_1', 16, 96, 16), 3, activation='relu')(inp)\n",
        "  x = MaxPool2D()(x)\n",
        "  x = Conv2D(hp.Int('f_2', 32, 128, 32), 3, activation='relu')(x)\n",
        "  x = MaxPool2D()(x)\n",
        "  x = Conv2D(hp.Int('f_3', 64, 128, 32), 3, activation='relu')(x)\n",
        "  x = MaxPool2D()(x)\n",
        "  x = Flatten()(x)\n",
        "  x = Dense(hp.Int('h_1', 64, 512, 64), activation='relu')(x)\n",
        "  out = Dense(10, activation='softmax')(x)\n",
        "\n",
        "  model = Model(inputs=[inp], outputs=[out])\n",
        "\n",
        "  model.compile(optimizer=tf.keras.optimizers.Adam(learning_rate=1e-3),\n",
        "                loss=tf.keras.losses.CategoricalCrossentropy(from_logits=False), \n",
        "                metrics=['acc'])\n",
        "\n",
        "  return model"
      ],
      "execution_count": null,
      "outputs": []
    },
    {
      "cell_type": "code",
      "metadata": {
        "id": "ZWC1Z5GyCcf5"
      },
      "source": [
        "import IPython\n",
        "\n",
        "class ClearTrainingOutput(tf.keras.callbacks.Callback):\n",
        "  def on_train_end(*args, **kwargs):\n",
        "    IPython.display.clear_output(wait = True)"
      ],
      "execution_count": null,
      "outputs": []
    },
    {
      "cell_type": "code",
      "metadata": {
        "id": "ar14jEwNe4_S"
      },
      "source": [
        "# helper function to perform tuning\n",
        "def tune():\n",
        "\n",
        "  tuner = kt.Hyperband(hypermodel=build_hypermodel, \n",
        "                     objective='val_loss', \n",
        "                     max_epochs=100, \n",
        "                     factor=3, \n",
        "                     hyperband_iterations=1, \n",
        "                     directory='test_dir',\n",
        "                     project_name='a',\n",
        "                     seed=seed,\n",
        "                     overwrite=True)\n",
        "  \n",
        "  es = tf.keras.callbacks.EarlyStopping(patience=10)\n",
        "  tuner.search(train_images, train_labels, epochs=200, \n",
        "              validation_data=(test_images, test_labels), \n",
        "              verbose=0, callbacks=[es, ClearTrainingOutput()])\n",
        "  \n",
        "  return tuner"
      ],
      "execution_count": null,
      "outputs": []
    },
    {
      "cell_type": "code",
      "metadata": {
        "id": "ef1HELngAwKw",
        "outputId": "c1131a86-9cfc-40b1-d336-ac193af63594",
        "colab": {
          "base_uri": "https://localhost:8080/",
          "height": 329
        }
      },
      "source": [
        "tuner = tune()"
      ],
      "execution_count": null,
      "outputs": [
        {
          "output_type": "display_data",
          "data": {
            "text/html": [
              "<span style=\"color:#4527A0\"><h1 style=\"font-size:18px\">Trial complete</h1></span>"
            ],
            "text/plain": [
              "<IPython.core.display.HTML object>"
            ]
          },
          "metadata": {
            "tags": []
          }
        },
        {
          "output_type": "display_data",
          "data": {
            "text/html": [
              "<span style=\"color:#4527A0\"><h1 style=\"font-size:18px\">Trial summary</h1></span>"
            ],
            "text/plain": [
              "<IPython.core.display.HTML object>"
            ]
          },
          "metadata": {
            "tags": []
          }
        },
        {
          "output_type": "display_data",
          "data": {
            "text/html": [
              "<span style=\"color:cyan\"> |-Trial ID: 4438d0c20d1c870f8409ee9a0dbdd50e</span>"
            ],
            "text/plain": [
              "<IPython.core.display.HTML object>"
            ]
          },
          "metadata": {
            "tags": []
          }
        },
        {
          "output_type": "display_data",
          "data": {
            "text/html": [
              "<span style=\"color:cyan\"> |-Score: 0.8581926822662354</span>"
            ],
            "text/plain": [
              "<IPython.core.display.HTML object>"
            ]
          },
          "metadata": {
            "tags": []
          }
        },
        {
          "output_type": "display_data",
          "data": {
            "text/html": [
              "<span style=\"color:cyan\"> |-Best step: 0</span>"
            ],
            "text/plain": [
              "<IPython.core.display.HTML object>"
            ]
          },
          "metadata": {
            "tags": []
          }
        },
        {
          "output_type": "display_data",
          "data": {
            "text/html": [
              "<span style=\"color:#7E57C2\"><h2 style=\"font-size:16px\">Hyperparameters:</h2></span>"
            ],
            "text/plain": [
              "<IPython.core.display.HTML object>"
            ]
          },
          "metadata": {
            "tags": []
          }
        },
        {
          "output_type": "display_data",
          "data": {
            "text/html": [
              "<span style=\"color:cyan\"> |-f_1: 96</span>"
            ],
            "text/plain": [
              "<IPython.core.display.HTML object>"
            ]
          },
          "metadata": {
            "tags": []
          }
        },
        {
          "output_type": "display_data",
          "data": {
            "text/html": [
              "<span style=\"color:blue\"> |-f_2: 96</span>"
            ],
            "text/plain": [
              "<IPython.core.display.HTML object>"
            ]
          },
          "metadata": {
            "tags": []
          }
        },
        {
          "output_type": "display_data",
          "data": {
            "text/html": [
              "<span style=\"color:cyan\"> |-f_3: 128</span>"
            ],
            "text/plain": [
              "<IPython.core.display.HTML object>"
            ]
          },
          "metadata": {
            "tags": []
          }
        },
        {
          "output_type": "display_data",
          "data": {
            "text/html": [
              "<span style=\"color:blue\"> |-h_1: 320</span>"
            ],
            "text/plain": [
              "<IPython.core.display.HTML object>"
            ]
          },
          "metadata": {
            "tags": []
          }
        },
        {
          "output_type": "display_data",
          "data": {
            "text/html": [
              "<span style=\"color:cyan\"> |-tuner/bracket: 0</span>"
            ],
            "text/plain": [
              "<IPython.core.display.HTML object>"
            ]
          },
          "metadata": {
            "tags": []
          }
        },
        {
          "output_type": "display_data",
          "data": {
            "text/html": [
              "<span style=\"color:blue\"> |-tuner/epochs: 100</span>"
            ],
            "text/plain": [
              "<IPython.core.display.HTML object>"
            ]
          },
          "metadata": {
            "tags": []
          }
        },
        {
          "output_type": "display_data",
          "data": {
            "text/html": [
              "<span style=\"color:cyan\"> |-tuner/initial_epoch: 0</span>"
            ],
            "text/plain": [
              "<IPython.core.display.HTML object>"
            ]
          },
          "metadata": {
            "tags": []
          }
        },
        {
          "output_type": "display_data",
          "data": {
            "text/html": [
              "<span style=\"color:blue\"> |-tuner/round: 0</span>"
            ],
            "text/plain": [
              "<IPython.core.display.HTML object>"
            ]
          },
          "metadata": {
            "tags": []
          }
        },
        {
          "output_type": "stream",
          "text": [
            "INFO:tensorflow:Oracle triggered exit\n"
          ],
          "name": "stdout"
        }
      ]
    },
    {
      "cell_type": "code",
      "metadata": {
        "id": "oQEk_lvCC2r-",
        "outputId": "71647b9a-8449-4090-a55e-72274643e1db",
        "colab": {
          "base_uri": "https://localhost:8080/"
        }
      },
      "source": [
        "best_hps = tuner.get_best_hyperparameters(num_trials = 1)[0]\n",
        "print(f\"\"\"\n",
        "The hyperparameter search is complete. The optimal filter sizes are {best_hps.get('f_1')}\n",
        ", {best_hps.get('f_2')}, and {best_hps.get('f_3')}. The optimal hidden_units is {best_hps.get('h_1')}.\n",
        "\"\"\")"
      ],
      "execution_count": null,
      "outputs": [
        {
          "output_type": "stream",
          "text": [
            "\n",
            "The hyperparameter search is complete. The optimal filter sizes are 32\n",
            ", 128, and 128. The optimal hidden_units is 256.\n",
            "\n"
          ],
          "name": "stdout"
        }
      ]
    },
    {
      "cell_type": "code",
      "metadata": {
        "id": "UbuJTidbADSs"
      },
      "source": [
        "def train(model):\n",
        "  mc = tf.keras.callbacks.ModelCheckpoint(filepath, save_best_only=True, \n",
        "                                        save_weights_only=True)\n",
        "  es = tf.keras.callbacks.EarlyStopping(patience=10, verbose=1)\n",
        "\n",
        "  history = model.fit(train_images, train_labels, epochs=200, \n",
        "                    validation_data=(test_images, test_labels), \n",
        "                    callbacks=[mc, es], verbose=2, batch_size=8)\n",
        "  return history"
      ],
      "execution_count": null,
      "outputs": []
    },
    {
      "cell_type": "code",
      "metadata": {
        "id": "wGvmZ_JiDQXl"
      },
      "source": [
        "model = tuner.hypermodel.build(best_hps)"
      ],
      "execution_count": null,
      "outputs": []
    },
    {
      "cell_type": "code",
      "metadata": {
        "id": "eq8nsKcXDTsY",
        "outputId": "bbf3fbba-b7da-484f-f4b3-59e68f240a1b",
        "colab": {
          "base_uri": "https://localhost:8080/"
        }
      },
      "source": [
        "history = train(model)"
      ],
      "execution_count": null,
      "outputs": [
        {
          "output_type": "stream",
          "text": [
            "Epoch 1/200\n",
            "6250/6250 - 18s - loss: 1.4315 - acc: 0.4802 - val_loss: 1.1498 - val_acc: 0.5948\n",
            "Epoch 2/200\n",
            "6250/6250 - 18s - loss: 1.0620 - acc: 0.6284 - val_loss: 1.0545 - val_acc: 0.6316\n",
            "Epoch 3/200\n",
            "6250/6250 - 18s - loss: 0.9126 - acc: 0.6809 - val_loss: 1.0337 - val_acc: 0.6405\n",
            "Epoch 4/200\n",
            "6250/6250 - 18s - loss: 0.8139 - acc: 0.7157 - val_loss: 0.8752 - val_acc: 0.6969\n",
            "Epoch 5/200\n",
            "6250/6250 - 18s - loss: 0.7424 - acc: 0.7383 - val_loss: 0.8808 - val_acc: 0.6979\n",
            "Epoch 6/200\n",
            "6250/6250 - 18s - loss: 0.6810 - acc: 0.7607 - val_loss: 0.9369 - val_acc: 0.6913\n",
            "Epoch 7/200\n",
            "6250/6250 - 18s - loss: 0.6298 - acc: 0.7775 - val_loss: 0.9255 - val_acc: 0.6992\n",
            "Epoch 8/200\n",
            "6250/6250 - 18s - loss: 0.5833 - acc: 0.7944 - val_loss: 0.9351 - val_acc: 0.7007\n",
            "Epoch 9/200\n",
            "6250/6250 - 19s - loss: 0.5407 - acc: 0.8083 - val_loss: 1.0400 - val_acc: 0.6869\n",
            "Epoch 10/200\n",
            "6250/6250 - 18s - loss: 0.5048 - acc: 0.8201 - val_loss: 1.0098 - val_acc: 0.7046\n",
            "Epoch 11/200\n",
            "6250/6250 - 18s - loss: 0.4825 - acc: 0.8293 - val_loss: 1.0253 - val_acc: 0.7019\n",
            "Epoch 12/200\n",
            "6250/6250 - 18s - loss: 0.4499 - acc: 0.8408 - val_loss: 1.1223 - val_acc: 0.7040\n",
            "Epoch 13/200\n",
            "6250/6250 - 18s - loss: 0.4282 - acc: 0.8484 - val_loss: 1.1256 - val_acc: 0.6942\n",
            "Epoch 14/200\n",
            "6250/6250 - 18s - loss: 0.4028 - acc: 0.8603 - val_loss: 1.1794 - val_acc: 0.6979\n",
            "Epoch 00014: early stopping\n"
          ],
          "name": "stdout"
        }
      ]
    },
    {
      "cell_type": "code",
      "metadata": {
        "id": "MXOXolD3Du5T",
        "outputId": "618af1bb-9e11-41c1-e01c-b759326d17dd",
        "colab": {
          "base_uri": "https://localhost:8080/",
          "height": 839
        }
      },
      "source": [
        "import matplotlib.pyplot as plt\n",
        "import seaborn as sns\n",
        "\n",
        "def plot_training(history):\n",
        "\n",
        "  history = history.history\n",
        "\n",
        "  fig, (ax1, ax2) = plt.subplots(2, 1, sharex='col', figsize=(20, 14))\n",
        "\n",
        "  ax1.plot(history['loss'], label='Training')\n",
        "  ax1.plot(history['val_loss'], label='Validation')\n",
        "  ax1.legend(loc='best')\n",
        "  ax1.set_title('Loss')\n",
        "\n",
        "  ax2.plot(history['acc'], label='Training')\n",
        "  ax2.plot(history['val_acc'], label='Validation')\n",
        "  ax2.legend(loc='best')\n",
        "  ax2.set_title('Accuracy')\n",
        "\n",
        "  plt.xlabel('Epochs')\n",
        "  sns.despine()\n",
        "  plt.show()\n",
        "\n",
        "plot_training(history)"
      ],
      "execution_count": null,
      "outputs": [
        {
          "output_type": "display_data",
          "data": {
            "image/png": "[encoded data removed]",
            "text/plain": [
              "<Figure size 1440x1008 with 2 Axes>"
            ]
          },
          "metadata": {
            "tags": [],
            "needs_background": "light"
          }
        }
      ]
    },
    {
      "cell_type": "code",
      "metadata": {
        "id": "en_-4xsODduy",
        "outputId": "739a7978-6f2d-4493-c138-d4ed7952bdff",
        "colab": {
          "base_uri": "https://localhost:8080/"
        }
      },
      "source": [
        "def print_metrics():\n",
        "  model.load_weights(filepath)\n",
        "  metrics = model.evaluate(test_images, test_labels, verbose=0)\n",
        "  print('Loss = ' + str(metrics[0]))\n",
        "  print('Accuracy = ' + str(metrics[1]))\n",
        "  accuracies.append(metrics[1])\n",
        "\n",
        "print_metrics()"
      ],
      "execution_count": null,
      "outputs": [
        {
          "output_type": "stream",
          "text": [
            "Loss = 0.8752447962760925\n",
            "Accuracy = 0.6969000101089478\n"
          ],
          "name": "stdout"
        }
      ]
    },
    {
      "cell_type": "markdown",
      "metadata": {
        "id": "0YIEWTN8D3Ek"
      },
      "source": [
        "# Tune Dropout"
      ]
    },
    {
      "cell_type": "code",
      "metadata": {
        "id": "xmvmlEPAcMmb"
      },
      "source": [
        "from tensorflow.keras.layers import Dropout\n",
        "\n",
        "def build_hypermodel(hp):\n",
        "  inp = Input(shape=(32, 32, 3), name='inp')\n",
        "  x = Conv2D(48, 3, activation='relu')(inp)\n",
        "  x = MaxPool2D()(x)\n",
        "  x = Conv2D(96, 3, activation='relu')(x)\n",
        "  x = MaxPool2D()(x)\n",
        "  x = Conv2D(128, 3, activation='relu')(x)\n",
        "  x = MaxPool2D()(x)\n",
        "  x = Flatten()(x)\n",
        "  dp = hp.Float('dp_1', min_value=0.0, max_value=0.5, step=0.1)\n",
        "  x = Dropout(dp)(x)\n",
        "  x = Dense(512, activation='relu')(x)\n",
        "  out = Dense(10, activation='softmax')(x)\n",
        "\n",
        "  model = Model(inputs=[inp], outputs=[out])\n",
        "\n",
        "  model.compile(optimizer=tf.keras.optimizers.Adam(learning_rate=1e-3),\n",
        "                loss=tf.keras.losses.CategoricalCrossentropy(from_logits=False), \n",
        "                metrics=['acc'])\n",
        "\n",
        "  return model"
      ],
      "execution_count": null,
      "outputs": []
    },
    {
      "cell_type": "code",
      "metadata": {
        "id": "LzuCmIYtcM4O",
        "outputId": "8820368b-c9a8-4a53-dcfe-384e80019e45",
        "colab": {
          "base_uri": "https://localhost:8080/",
          "height": 278
        }
      },
      "source": [
        "tuner = tune()"
      ],
      "execution_count": null,
      "outputs": [
        {
          "output_type": "display_data",
          "data": {
            "text/html": [
              "<span style=\"color:#4527A0\"><h1 style=\"font-size:18px\">Trial complete</h1></span>"
            ],
            "text/plain": [
              "<IPython.core.display.HTML object>"
            ]
          },
          "metadata": {
            "tags": []
          }
        },
        {
          "output_type": "display_data",
          "data": {
            "text/html": [
              "<span style=\"color:#4527A0\"><h1 style=\"font-size:18px\">Trial summary</h1></span>"
            ],
            "text/plain": [
              "<IPython.core.display.HTML object>"
            ]
          },
          "metadata": {
            "tags": []
          }
        },
        {
          "output_type": "display_data",
          "data": {
            "text/html": [
              "<span style=\"color:cyan\"> |-Trial ID: a23ac6b2238a19e9bcd2022f3aeca549</span>"
            ],
            "text/plain": [
              "<IPython.core.display.HTML object>"
            ]
          },
          "metadata": {
            "tags": []
          }
        },
        {
          "output_type": "display_data",
          "data": {
            "text/html": [
              "<span style=\"color:cyan\"> |-Score: 1.1444330215454102</span>"
            ],
            "text/plain": [
              "<IPython.core.display.HTML object>"
            ]
          },
          "metadata": {
            "tags": []
          }
        },
        {
          "output_type": "display_data",
          "data": {
            "text/html": [
              "<span style=\"color:cyan\"> |-Best step: 0</span>"
            ],
            "text/plain": [
              "<IPython.core.display.HTML object>"
            ]
          },
          "metadata": {
            "tags": []
          }
        },
        {
          "output_type": "display_data",
          "data": {
            "text/html": [
              "<span style=\"color:#7E57C2\"><h2 style=\"font-size:16px\">Hyperparameters:</h2></span>"
            ],
            "text/plain": [
              "<IPython.core.display.HTML object>"
            ]
          },
          "metadata": {
            "tags": []
          }
        },
        {
          "output_type": "display_data",
          "data": {
            "text/html": [
              "<span style=\"color:cyan\"> |-dp_1: 0.4</span>"
            ],
            "text/plain": [
              "<IPython.core.display.HTML object>"
            ]
          },
          "metadata": {
            "tags": []
          }
        },
        {
          "output_type": "display_data",
          "data": {
            "text/html": [
              "<span style=\"color:blue\"> |-tuner/bracket: 4</span>"
            ],
            "text/plain": [
              "<IPython.core.display.HTML object>"
            ]
          },
          "metadata": {
            "tags": []
          }
        },
        {
          "output_type": "display_data",
          "data": {
            "text/html": [
              "<span style=\"color:cyan\"> |-tuner/epochs: 2</span>"
            ],
            "text/plain": [
              "<IPython.core.display.HTML object>"
            ]
          },
          "metadata": {
            "tags": []
          }
        },
        {
          "output_type": "display_data",
          "data": {
            "text/html": [
              "<span style=\"color:blue\"> |-tuner/initial_epoch: 0</span>"
            ],
            "text/plain": [
              "<IPython.core.display.HTML object>"
            ]
          },
          "metadata": {
            "tags": []
          }
        },
        {
          "output_type": "display_data",
          "data": {
            "text/html": [
              "<span style=\"color:cyan\"> |-tuner/round: 0</span>"
            ],
            "text/plain": [
              "<IPython.core.display.HTML object>"
            ]
          },
          "metadata": {
            "tags": []
          }
        },
        {
          "output_type": "stream",
          "text": [
            "INFO:tensorflow:Oracle triggered exit\n"
          ],
          "name": "stdout"
        }
      ]
    },
    {
      "cell_type": "code",
      "metadata": {
        "id": "b4Zpr-h2cNAQ",
        "outputId": "ca37d2de-fe32-4d67-c9e7-f61745ce6f02",
        "colab": {
          "base_uri": "https://localhost:8080/"
        }
      },
      "source": [
        "best_hps = tuner.get_best_hyperparameters(num_trials = 1)[0]\n",
        "print(f\"\"\"\n",
        "The hyperparameter search is complete. The optimal dropout size is {best_hps.get('dp_1')}.\n",
        "\"\"\")"
      ],
      "execution_count": null,
      "outputs": [
        {
          "output_type": "stream",
          "text": [
            "\n",
            "The hyperparameter search is complete. The optimal dropout size is 0.2.\n",
            "\n"
          ],
          "name": "stdout"
        }
      ]
    },
    {
      "cell_type": "code",
      "metadata": {
        "id": "eBGas6v_cNM6",
        "outputId": "987c842c-db05-4f02-f1bc-92ba132a9b2b",
        "colab": {
          "base_uri": "https://localhost:8080/",
          "height": 1000
        }
      },
      "source": [
        "model = tuner.hypermodel.build(best_hps)\n",
        "history = train(model)\n",
        "plot_training(history)"
      ],
      "execution_count": null,
      "outputs": [
        {
          "output_type": "stream",
          "text": [
            "Epoch 1/200\n",
            "6250/6250 - 19s - loss: 1.5119 - acc: 0.4475 - val_loss: 1.3115 - val_acc: 0.5304\n",
            "Epoch 2/200\n",
            "6250/6250 - 18s - loss: 1.1786 - acc: 0.5814 - val_loss: 1.1293 - val_acc: 0.6084\n",
            "Epoch 3/200\n",
            "6250/6250 - 18s - loss: 1.0411 - acc: 0.6321 - val_loss: 1.0597 - val_acc: 0.6329\n",
            "Epoch 4/200\n",
            "6250/6250 - 18s - loss: 0.9522 - acc: 0.6643 - val_loss: 0.9123 - val_acc: 0.6781\n",
            "Epoch 5/200\n",
            "6250/6250 - 18s - loss: 0.8885 - acc: 0.6884 - val_loss: 0.9101 - val_acc: 0.6881\n",
            "Epoch 6/200\n",
            "6250/6250 - 18s - loss: 0.8379 - acc: 0.7048 - val_loss: 0.8875 - val_acc: 0.6983\n",
            "Epoch 7/200\n",
            "6250/6250 - 19s - loss: 0.8025 - acc: 0.7161 - val_loss: 0.9741 - val_acc: 0.6700\n",
            "Epoch 8/200\n",
            "6250/6250 - 19s - loss: 0.7688 - acc: 0.7299 - val_loss: 0.9028 - val_acc: 0.6903\n",
            "Epoch 9/200\n",
            "6250/6250 - 18s - loss: 0.7475 - acc: 0.7379 - val_loss: 0.9385 - val_acc: 0.6854\n",
            "Epoch 10/200\n",
            "6250/6250 - 18s - loss: 0.7218 - acc: 0.7483 - val_loss: 0.9034 - val_acc: 0.6965\n",
            "Epoch 11/200\n",
            "6250/6250 - 18s - loss: 0.6938 - acc: 0.7571 - val_loss: 0.9102 - val_acc: 0.6941\n",
            "Epoch 12/200\n",
            "6250/6250 - 18s - loss: 0.6738 - acc: 0.7652 - val_loss: 0.8986 - val_acc: 0.6953\n",
            "Epoch 13/200\n",
            "6250/6250 - 18s - loss: 0.6614 - acc: 0.7683 - val_loss: 0.9844 - val_acc: 0.6687\n",
            "Epoch 14/200\n",
            "6250/6250 - 18s - loss: 0.6494 - acc: 0.7748 - val_loss: 0.9091 - val_acc: 0.7039\n",
            "Epoch 15/200\n",
            "6250/6250 - 18s - loss: 0.6347 - acc: 0.7798 - val_loss: 0.9270 - val_acc: 0.6972\n",
            "Epoch 16/200\n",
            "6250/6250 - 18s - loss: 0.6230 - acc: 0.7825 - val_loss: 0.9757 - val_acc: 0.6957\n",
            "Epoch 00016: early stopping\n"
          ],
          "name": "stdout"
        },
        {
          "output_type": "display_data",
          "data": {
            "image/png": "[encoded data removed]",
            "text/plain": [
              "<Figure size 1440x1008 with 2 Axes>"
            ]
          },
          "metadata": {
            "tags": [],
            "needs_background": "light"
          }
        }
      ]
    },
    {
      "cell_type": "code",
      "metadata": {
        "id": "if4-n079erv-",
        "outputId": "1b89f520-30c0-438e-84aa-62c1e1ca1582",
        "colab": {
          "base_uri": "https://localhost:8080/"
        }
      },
      "source": [
        "print_metrics()"
      ],
      "execution_count": null,
      "outputs": [
        {
          "output_type": "stream",
          "text": [
            "Loss = 0.8874813318252563\n",
            "Accuracy = 0.6983000040054321\n"
          ],
          "name": "stdout"
        }
      ]
    },
    {
      "cell_type": "markdown",
      "metadata": {
        "id": "tmvUXr3WcHJ1"
      },
      "source": [
        "# Tune Image Augmentation"
      ]
    },
    {
      "cell_type": "code",
      "metadata": {
        "id": "SmsCKhRPnkki"
      },
      "source": [
        "(train_images, train_labels), (test_images, test_labels) = tf.keras.datasets.cifar10.load_data()\n",
        "train_labels = tf.keras.utils.to_categorical(train_labels)\n",
        "test_labels = tf.keras.utils.to_categorical(test_labels)"
      ],
      "execution_count": null,
      "outputs": []
    },
    {
      "cell_type": "code",
      "metadata": {
        "id": "IvoBX-w7w2m-"
      },
      "source": [
        "def build_hypermodel(hp):\n",
        "  inp = Input(shape=(32, 32, 3), name='inp')\n",
        "  f1 = hp.Float('f1', min_value=0.0, max_value=0.2, step=0.05)\n",
        "  x = tf.keras.layers.experimental.preprocessing.RandomRotation(f1)(inp)\n",
        "  x = tf.keras.layers.experimental.preprocessing.Rescaling(1.0 / 255)(x)\n",
        "  x = Conv2D(48, 3, activation='relu')(inp)\n",
        "  x = MaxPool2D()(x)\n",
        "  x = Conv2D(112, 3, activation='relu')(x)\n",
        "  x = MaxPool2D()(x)\n",
        "  x = Conv2D(128, 3, activation='relu')(x)\n",
        "  x = MaxPool2D()(x)\n",
        "  x = Flatten()(x)\n",
        "  x = Dropout(0.1)(x)\n",
        "  x = Dense(512, activation='relu')(x)\n",
        "  out = Dense(10, activation='softmax')(x)\n",
        "\n",
        "  model = Model(inputs=[inp], outputs=[out])\n",
        "\n",
        "  model.compile(optimizer=tf.keras.optimizers.Adam(learning_rate=1e-3),\n",
        "                loss=tf.keras.losses.CategoricalCrossentropy(from_logits=False), \n",
        "                metrics=['acc'])\n",
        "\n",
        "  return model"
      ],
      "execution_count": null,
      "outputs": []
    },
    {
      "cell_type": "code",
      "metadata": {
        "id": "i07nyPesw2sF",
        "outputId": "0f0d5f6c-0ab6-4c37-add0-4b7d71207071",
        "colab": {
          "base_uri": "https://localhost:8080/",
          "height": 278
        }
      },
      "source": [
        "tuner = tune()"
      ],
      "execution_count": null,
      "outputs": [
        {
          "output_type": "display_data",
          "data": {
            "text/html": [
              "<span style=\"color:#4527A0\"><h1 style=\"font-size:18px\">Trial complete</h1></span>"
            ],
            "text/plain": [
              "<IPython.core.display.HTML object>"
            ]
          },
          "metadata": {
            "tags": []
          }
        },
        {
          "output_type": "display_data",
          "data": {
            "text/html": [
              "<span style=\"color:#4527A0\"><h1 style=\"font-size:18px\">Trial summary</h1></span>"
            ],
            "text/plain": [
              "<IPython.core.display.HTML object>"
            ]
          },
          "metadata": {
            "tags": []
          }
        },
        {
          "output_type": "display_data",
          "data": {
            "text/html": [
              "<span style=\"color:cyan\"> |-Trial ID: 4e86924e16a298469ae14488671c7d81</span>"
            ],
            "text/plain": [
              "<IPython.core.display.HTML object>"
            ]
          },
          "metadata": {
            "tags": []
          }
        },
        {
          "output_type": "display_data",
          "data": {
            "text/html": [
              "<span style=\"color:cyan\"> |-Score: 1.1862801313400269</span>"
            ],
            "text/plain": [
              "<IPython.core.display.HTML object>"
            ]
          },
          "metadata": {
            "tags": []
          }
        },
        {
          "output_type": "display_data",
          "data": {
            "text/html": [
              "<span style=\"color:cyan\"> |-Best step: 0</span>"
            ],
            "text/plain": [
              "<IPython.core.display.HTML object>"
            ]
          },
          "metadata": {
            "tags": []
          }
        },
        {
          "output_type": "display_data",
          "data": {
            "text/html": [
              "<span style=\"color:#7E57C2\"><h2 style=\"font-size:16px\">Hyperparameters:</h2></span>"
            ],
            "text/plain": [
              "<IPython.core.display.HTML object>"
            ]
          },
          "metadata": {
            "tags": []
          }
        },
        {
          "output_type": "display_data",
          "data": {
            "text/html": [
              "<span style=\"color:cyan\"> |-f1: 0.15000000000000002</span>"
            ],
            "text/plain": [
              "<IPython.core.display.HTML object>"
            ]
          },
          "metadata": {
            "tags": []
          }
        },
        {
          "output_type": "display_data",
          "data": {
            "text/html": [
              "<span style=\"color:blue\"> |-tuner/bracket: 4</span>"
            ],
            "text/plain": [
              "<IPython.core.display.HTML object>"
            ]
          },
          "metadata": {
            "tags": []
          }
        },
        {
          "output_type": "display_data",
          "data": {
            "text/html": [
              "<span style=\"color:cyan\"> |-tuner/epochs: 2</span>"
            ],
            "text/plain": [
              "<IPython.core.display.HTML object>"
            ]
          },
          "metadata": {
            "tags": []
          }
        },
        {
          "output_type": "display_data",
          "data": {
            "text/html": [
              "<span style=\"color:blue\"> |-tuner/initial_epoch: 0</span>"
            ],
            "text/plain": [
              "<IPython.core.display.HTML object>"
            ]
          },
          "metadata": {
            "tags": []
          }
        },
        {
          "output_type": "display_data",
          "data": {
            "text/html": [
              "<span style=\"color:cyan\"> |-tuner/round: 0</span>"
            ],
            "text/plain": [
              "<IPython.core.display.HTML object>"
            ]
          },
          "metadata": {
            "tags": []
          }
        },
        {
          "output_type": "stream",
          "text": [
            "INFO:tensorflow:Oracle triggered exit\n"
          ],
          "name": "stdout"
        }
      ]
    },
    {
      "cell_type": "code",
      "metadata": {
        "id": "bnaQXiUOw21e",
        "outputId": "6e4bab1a-b70b-48ab-a959-3ff89ed656de",
        "colab": {
          "base_uri": "https://localhost:8080/"
        }
      },
      "source": [
        "best_hps = tuner.get_best_hyperparameters(num_trials = 1)[0]\n",
        "print(f\"\"\"\n",
        "The hyperparameter search is complete. The optimal rotation factor is {best_hps.get('f1')}.\n",
        "\"\"\")"
      ],
      "execution_count": null,
      "outputs": [
        {
          "output_type": "stream",
          "text": [
            "\n",
            "The hyperparameter search is complete. The optimal rotation factor is 0.15000000000000002.\n",
            "\n"
          ],
          "name": "stdout"
        }
      ]
    },
    {
      "cell_type": "code",
      "metadata": {
        "id": "iUjww5MNz7mW",
        "outputId": "80c296db-ca2f-491b-ea3d-e9ffba483aa9",
        "colab": {
          "base_uri": "https://localhost:8080/"
        }
      },
      "source": [
        "model = tuner.hypermodel.build(best_hps)\n",
        "history = train(model)\n",
        "plot_training(history)"
      ],
      "execution_count": null,
      "outputs": [
        {
          "output_type": "stream",
          "text": [
            "Epoch 1/200\n",
            "6250/6250 - 18s - loss: 1.7472 - acc: 0.3850 - val_loss: 1.4892 - val_acc: 0.4728\n",
            "Epoch 2/200\n",
            "6250/6250 - 18s - loss: 1.4941 - acc: 0.4719 - val_loss: 1.5122 - val_acc: 0.4576\n",
            "Epoch 3/200\n",
            "6250/6250 - 18s - loss: 1.4010 - acc: 0.5080 - val_loss: 1.3702 - val_acc: 0.5315\n",
            "Epoch 4/200\n",
            "6250/6250 - 18s - loss: 1.3345 - acc: 0.5326 - val_loss: 1.2687 - val_acc: 0.5525\n",
            "Epoch 5/200\n",
            "6250/6250 - 20s - loss: 1.2827 - acc: 0.5546 - val_loss: 1.2647 - val_acc: 0.5618\n",
            "Epoch 6/200\n",
            "6250/6250 - 18s - loss: 1.2429 - acc: 0.5699 - val_loss: 1.2603 - val_acc: 0.5807\n",
            "Epoch 7/200\n",
            "6250/6250 - 18s - loss: 1.2080 - acc: 0.5844 - val_loss: 1.2034 - val_acc: 0.5888\n",
            "Epoch 8/200\n",
            "6250/6250 - 18s - loss: 1.1976 - acc: 0.5932 - val_loss: 1.1814 - val_acc: 0.6001\n",
            "Epoch 9/200\n",
            "6250/6250 - 18s - loss: 1.1669 - acc: 0.6024 - val_loss: 1.3072 - val_acc: 0.5593\n",
            "Epoch 10/200\n",
            "6250/6250 - 18s - loss: 1.1491 - acc: 0.6102 - val_loss: 1.1777 - val_acc: 0.5990\n",
            "Epoch 11/200\n",
            "6250/6250 - 18s - loss: 1.1253 - acc: 0.6197 - val_loss: 1.2039 - val_acc: 0.6025\n",
            "Epoch 12/200\n",
            "6250/6250 - 18s - loss: 1.1138 - acc: 0.6218 - val_loss: 1.1766 - val_acc: 0.6170\n",
            "Epoch 13/200\n",
            "6250/6250 - 18s - loss: 1.0929 - acc: 0.6331 - val_loss: 1.1555 - val_acc: 0.6167\n",
            "Epoch 14/200\n",
            "6250/6250 - 18s - loss: 1.0720 - acc: 0.6401 - val_loss: 1.2716 - val_acc: 0.5793\n",
            "Epoch 15/200\n",
            "6250/6250 - 18s - loss: 1.0621 - acc: 0.6466 - val_loss: 1.1645 - val_acc: 0.6231\n",
            "Epoch 16/200\n",
            "6250/6250 - 18s - loss: 1.0681 - acc: 0.6456 - val_loss: 1.2246 - val_acc: 0.5993\n",
            "Epoch 17/200\n",
            "6250/6250 - 18s - loss: 1.0532 - acc: 0.6535 - val_loss: 1.2229 - val_acc: 0.6065\n",
            "Epoch 18/200\n",
            "6250/6250 - 18s - loss: 1.0111 - acc: 0.6674 - val_loss: 1.2252 - val_acc: 0.6095\n",
            "Epoch 19/200\n",
            "6250/6250 - 18s - loss: 1.0093 - acc: 0.6709 - val_loss: 1.2444 - val_acc: 0.6086\n",
            "Epoch 20/200\n",
            "6250/6250 - 18s - loss: 0.9853 - acc: 0.6772 - val_loss: 1.3108 - val_acc: 0.5967\n",
            "Epoch 21/200\n",
            "6250/6250 - 18s - loss: 1.0016 - acc: 0.6764 - val_loss: 1.2362 - val_acc: 0.6340\n",
            "Epoch 22/200\n",
            "6250/6250 - 19s - loss: 0.9939 - acc: 0.6778 - val_loss: 1.2782 - val_acc: 0.6063\n",
            "Epoch 23/200\n",
            "6250/6250 - 18s - loss: 0.9682 - acc: 0.6904 - val_loss: 1.3050 - val_acc: 0.6202\n",
            "Epoch 00023: early stopping\n"
          ],
          "name": "stdout"
        },
        {
          "output_type": "display_data",
          "data": {
            "image/png": "[encoded data removed]",
            "text/plain": [
              "<Figure size 1440x1008 with 2 Axes>"
            ]
          },
          "metadata": {
            "tags": [],
            "needs_background": "light"
          }
        }
      ]
    },
    {
      "cell_type": "code",
      "metadata": {
        "id": "RuEBFJHwz7wM",
        "outputId": "e4b6cb04-3bee-4944-c8cd-64baecb05a89",
        "colab": {
          "base_uri": "https://localhost:8080/"
        }
      },
      "source": [
        "print_metrics()"
      ],
      "execution_count": null,
      "outputs": [
        {
          "output_type": "stream",
          "text": [
            "Loss = 1.1554672718048096\n",
            "Accuracy = 0.6166999936103821\n"
          ],
          "name": "stdout"
        }
      ]
    },
    {
      "cell_type": "markdown",
      "metadata": {
        "id": "6W0btLAL0EY6"
      },
      "source": [
        "# Results"
      ]
    },
    {
      "cell_type": "code",
      "metadata": {
        "id": "78CA2Dox0IDX",
        "outputId": "f56159aa-5e54-419c-d116-5f29d61f1523",
        "colab": {
          "base_uri": "https://localhost:8080/"
        }
      },
      "source": [
        "labels = ['baseline', 'tuned-f', 'tuned-d', 'tuned-a']\n",
        "\n",
        "x_pos = [i for i, _ in enumerate(labels)]\n",
        "\n",
        "plt.bar(x_pos, accuracies, color='green')\n",
        "plt.ylabel(\"Accuracy\")\n",
        "plt.title(\"Keras Tuner Results by Model\")\n",
        "\n",
        "plt.xticks(x_pos, labels)\n",
        "\n",
        "plt.show()"
      ],
      "execution_count": null,
      "outputs": [
        {
          "output_type": "display_data",
          "data": {
            "image/png": "[encoded data removed]",
            "text/plain": [
              "<Figure size 432x288 with 1 Axes>"
            ]
          },
          "metadata": {
            "tags": [],
            "needs_background": "light"
          }
        }
      ]
    }
  ]
}