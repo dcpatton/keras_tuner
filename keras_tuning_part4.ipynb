{
  "nbformat": 4,
  "nbformat_minor": 0,
  "metadata": {
    "colab": {
      "name": "keras_tuning_part4.ipynb",
      "provenance": [],
      "authorship_tag": "ABX9TyO/fssczkoCUtSLA36ov3SP",
      "include_colab_link": true
    },
    "kernelspec": {
      "name": "python3",
      "display_name": "Python 3"
    },
    "accelerator": "GPU"
  },
  "cells": [
    {
      "cell_type": "markdown",
      "metadata": {
        "id": "view-in-github",
        "colab_type": "text"
      },
      "source": [
        "<a href=\"https://colab.research.google.com/github/dcpatton/keras_tuner/blob/master/keras_tuning_part4.ipynb\" target=\"_parent\"><img src=\"https://colab.research.google.com/assets/colab-badge.svg\" alt=\"Open In Colab\"/></a>"
      ]
    },
    {
      "cell_type": "code",
      "metadata": {
        "id": "-D4x5py-Ni17",
        "colab_type": "code",
        "colab": {
          "base_uri": "https://localhost:8080/",
          "height": 34
        },
        "outputId": "d4465941-ba62-458e-dbac-c855b6af8259"
      },
      "source": [
        "import tensorflow as tf\n",
        "import random\n",
        "\n",
        "seed = 52\n",
        "tf.random.set_seed(seed)\n",
        "random.seed(seed)\n",
        "\n",
        "print('TensorFlow version = ' + tf.__version__)\n",
        "\n",
        "accuracies = [] # for metric tracking"
      ],
      "execution_count": 1,
      "outputs": [
        {
          "output_type": "stream",
          "text": [
            "TensorFlow version = 2.3.0\n"
          ],
          "name": "stdout"
        }
      ]
    },
    {
      "cell_type": "code",
      "metadata": {
        "id": "fNIU2uPxNqe3",
        "colab_type": "code",
        "colab": {
          "base_uri": "https://localhost:8080/",
          "height": 85
        },
        "outputId": "f8017ffc-e943-4339-fb9b-f132017c9986"
      },
      "source": [
        "!pip install keras-tuner -q\n",
        "import kerastuner as kt\n",
        "print('Keras Tuner version = ' + kt.__version__)"
      ],
      "execution_count": 2,
      "outputs": [
        {
          "output_type": "stream",
          "text": [
            "\u001b[?25l\r\u001b[K     |██████                          | 10kB 20.7MB/s eta 0:00:01\r\u001b[K     |████████████                    | 20kB 6.3MB/s eta 0:00:01\r\u001b[K     |██████████████████              | 30kB 6.8MB/s eta 0:00:01\r\u001b[K     |████████████████████████        | 40kB 8.0MB/s eta 0:00:01\r\u001b[K     |██████████████████████████████  | 51kB 6.6MB/s eta 0:00:01\r\u001b[K     |████████████████████████████████| 61kB 4.5MB/s \n",
            "\u001b[?25h  Building wheel for keras-tuner (setup.py) ... \u001b[?25l\u001b[?25hdone\n",
            "  Building wheel for terminaltables (setup.py) ... \u001b[?25l\u001b[?25hdone\n",
            "Keras Tuner version = 1.0.1\n"
          ],
          "name": "stdout"
        }
      ]
    },
    {
      "cell_type": "markdown",
      "metadata": {
        "id": "cw1Sk_zuNwLO",
        "colab_type": "text"
      },
      "source": [
        "## Load CIFAR10"
      ]
    },
    {
      "cell_type": "code",
      "metadata": {
        "id": "4mgEG982NzEK",
        "colab_type": "code",
        "colab": {
          "base_uri": "https://localhost:8080/",
          "height": 51
        },
        "outputId": "32fe0741-f1d1-49f2-be3f-a726558324f2"
      },
      "source": [
        "(train_images, train_labels), (test_images, test_labels) = tf.keras.datasets.cifar10.load_data()\n",
        "# Normalize the data\n",
        "train_images, test_images = train_images / 255.0, test_images / 255.0"
      ],
      "execution_count": 3,
      "outputs": [
        {
          "output_type": "stream",
          "text": [
            "Downloading data from https://www.cs.toronto.edu/~kriz/cifar-10-python.tar.gz\n",
            "170500096/170498071 [==============================] - 6s 0us/step\n"
          ],
          "name": "stdout"
        }
      ]
    },
    {
      "cell_type": "code",
      "metadata": {
        "id": "DUUmafBR_wOW",
        "colab_type": "code",
        "colab": {}
      },
      "source": [
        "train_labels = tf.keras.utils.to_categorical(train_labels)\n",
        "test_labels = tf.keras.utils.to_categorical(test_labels)"
      ],
      "execution_count": 4,
      "outputs": []
    },
    {
      "cell_type": "markdown",
      "metadata": {
        "id": "xEJCWL77OvQG",
        "colab_type": "text"
      },
      "source": [
        "# Baseline"
      ]
    },
    {
      "cell_type": "code",
      "metadata": {
        "id": "io3Ig851OxJV",
        "colab_type": "code",
        "colab": {
          "base_uri": "https://localhost:8080/",
          "height": 493
        },
        "outputId": "78ce18f7-085a-4b47-decf-d7ad5d91633d"
      },
      "source": [
        "from tensorflow.keras.layers import Conv2D, Flatten, MaxPool2D, Dense\n",
        "from tensorflow.keras import Input, Model\n",
        "\n",
        "inp = Input(shape=(32, 32, 3), name='inp')\n",
        "x = Conv2D(32, 3, activation='elu')(inp)\n",
        "x = MaxPool2D()(x)\n",
        "x = Conv2D(64, 3, activation='elu')(x)\n",
        "x = MaxPool2D()(x)\n",
        "x = Conv2D(128, 3, activation='elu')(x)\n",
        "x = MaxPool2D()(x)\n",
        "x = Flatten()(x)\n",
        "x = Dense(64, activation='swish')(x)\n",
        "out = Dense(10, activation='softmax')(x)\n",
        "\n",
        "model = Model(inputs=[inp], outputs=[out])\n",
        "\n",
        "model.compile(optimizer=tf.keras.optimizers.Adam(learning_rate=1e-3),\n",
        "              loss=tf.keras.losses.CategoricalCrossentropy(from_logits=False), \n",
        "              metrics=['acc'])\n",
        "\n",
        "model.summary()"
      ],
      "execution_count": 5,
      "outputs": [
        {
          "output_type": "stream",
          "text": [
            "Model: \"functional_1\"\n",
            "_________________________________________________________________\n",
            "Layer (type)                 Output Shape              Param #   \n",
            "=================================================================\n",
            "inp (InputLayer)             [(None, 32, 32, 3)]       0         \n",
            "_________________________________________________________________\n",
            "conv2d (Conv2D)              (None, 30, 30, 32)        896       \n",
            "_________________________________________________________________\n",
            "max_pooling2d (MaxPooling2D) (None, 15, 15, 32)        0         \n",
            "_________________________________________________________________\n",
            "conv2d_1 (Conv2D)            (None, 13, 13, 64)        18496     \n",
            "_________________________________________________________________\n",
            "max_pooling2d_1 (MaxPooling2 (None, 6, 6, 64)          0         \n",
            "_________________________________________________________________\n",
            "conv2d_2 (Conv2D)            (None, 4, 4, 128)         73856     \n",
            "_________________________________________________________________\n",
            "max_pooling2d_2 (MaxPooling2 (None, 2, 2, 128)         0         \n",
            "_________________________________________________________________\n",
            "flatten (Flatten)            (None, 512)               0         \n",
            "_________________________________________________________________\n",
            "dense (Dense)                (None, 64)                32832     \n",
            "_________________________________________________________________\n",
            "dense_1 (Dense)              (None, 10)                650       \n",
            "=================================================================\n",
            "Total params: 126,730\n",
            "Trainable params: 126,730\n",
            "Non-trainable params: 0\n",
            "_________________________________________________________________\n"
          ],
          "name": "stdout"
        }
      ]
    },
    {
      "cell_type": "code",
      "metadata": {
        "id": "iXzoHx2sPRre",
        "colab_type": "code",
        "colab": {
          "base_uri": "https://localhost:8080/",
          "height": 544
        },
        "outputId": "25dbf7ff-f354-4307-ccec-d695c89268db"
      },
      "source": [
        "filepath = 'model.h5'\n",
        "mc = tf.keras.callbacks.ModelCheckpoint(filepath, save_best_only=True, \n",
        "                                        save_weights_only=True)\n",
        "es = tf.keras.callbacks.EarlyStopping(patience=10, verbose=1)\n",
        "\n",
        "history = model.fit(train_images, train_labels, epochs=200, \n",
        "                    validation_data=(test_images, test_labels), \n",
        "                    callbacks=[mc, es], verbose=2)"
      ],
      "execution_count": 6,
      "outputs": [
        {
          "output_type": "stream",
          "text": [
            "Epoch 1/200\n",
            "1563/1563 - 7s - loss: 1.3606 - acc: 0.5176 - val_loss: 1.1198 - val_acc: 0.6016\n",
            "Epoch 2/200\n",
            "1563/1563 - 6s - loss: 1.0051 - acc: 0.6472 - val_loss: 1.0046 - val_acc: 0.6511\n",
            "Epoch 3/200\n",
            "1563/1563 - 6s - loss: 0.8513 - acc: 0.7029 - val_loss: 0.9233 - val_acc: 0.6860\n",
            "Epoch 4/200\n",
            "1563/1563 - 6s - loss: 0.7459 - acc: 0.7388 - val_loss: 0.9063 - val_acc: 0.6882\n",
            "Epoch 5/200\n",
            "1563/1563 - 6s - loss: 0.6583 - acc: 0.7691 - val_loss: 0.8839 - val_acc: 0.7119\n",
            "Epoch 6/200\n",
            "1563/1563 - 6s - loss: 0.5805 - acc: 0.7972 - val_loss: 0.9156 - val_acc: 0.7082\n",
            "Epoch 7/200\n",
            "1563/1563 - 6s - loss: 0.5120 - acc: 0.8188 - val_loss: 0.9645 - val_acc: 0.7022\n",
            "Epoch 8/200\n",
            "1563/1563 - 6s - loss: 0.4534 - acc: 0.8415 - val_loss: 0.9828 - val_acc: 0.7026\n",
            "Epoch 9/200\n",
            "1563/1563 - 6s - loss: 0.4017 - acc: 0.8596 - val_loss: 1.0369 - val_acc: 0.6969\n",
            "Epoch 10/200\n",
            "1563/1563 - 6s - loss: 0.3545 - acc: 0.8740 - val_loss: 1.1093 - val_acc: 0.7077\n",
            "Epoch 11/200\n",
            "1563/1563 - 6s - loss: 0.3174 - acc: 0.8865 - val_loss: 1.2378 - val_acc: 0.6804\n",
            "Epoch 12/200\n",
            "1563/1563 - 6s - loss: 0.2854 - acc: 0.8984 - val_loss: 1.2276 - val_acc: 0.7074\n",
            "Epoch 13/200\n",
            "1563/1563 - 6s - loss: 0.2561 - acc: 0.9080 - val_loss: 1.3269 - val_acc: 0.7092\n",
            "Epoch 14/200\n",
            "1563/1563 - 6s - loss: 0.2335 - acc: 0.9175 - val_loss: 1.3895 - val_acc: 0.7009\n",
            "Epoch 15/200\n",
            "1563/1563 - 6s - loss: 0.2107 - acc: 0.9246 - val_loss: 1.4737 - val_acc: 0.6886\n",
            "Epoch 00015: early stopping\n"
          ],
          "name": "stdout"
        }
      ]
    },
    {
      "cell_type": "code",
      "metadata": {
        "id": "Z_6gEfqfQu36",
        "colab_type": "code",
        "colab": {
          "base_uri": "https://localhost:8080/",
          "height": 51
        },
        "outputId": "5d7cfd98-9136-440c-bada-820668680a94"
      },
      "source": [
        "model.load_weights(filepath)\n",
        "metrics = model.evaluate(test_images, test_labels, verbose=0)\n",
        "print('Loss = ' + str(metrics[0]))\n",
        "print('Accuracy = ' + str(metrics[1]))\n",
        "accuracies.append(metrics[1])"
      ],
      "execution_count": 7,
      "outputs": [
        {
          "output_type": "stream",
          "text": [
            "Loss = 0.8839487433433533\n",
            "Accuracy = 0.711899995803833\n"
          ],
          "name": "stdout"
        }
      ]
    },
    {
      "cell_type": "markdown",
      "metadata": {
        "id": "fLzVJqWSQ3el",
        "colab_type": "text"
      },
      "source": [
        "# Hyperband Tuner"
      ]
    },
    {
      "cell_type": "code",
      "metadata": {
        "id": "STk-QwaCRVw-",
        "colab_type": "code",
        "colab": {}
      },
      "source": [
        "def build_hypermodel(hp):\n",
        "  inp = Input(shape=(32, 32, 3), name='inp')\n",
        "  x = Conv2D(hp.Int('f_1', 16, 256, 16), 3, activation='elu')(inp)\n",
        "  x = MaxPool2D()(x)\n",
        "  x = Conv2D(hp.Int('f_2', 16, 256, 16), 3, activation='elu')(x)\n",
        "  x = MaxPool2D()(x)\n",
        "  x = Conv2D(hp.Int('f_3', 16, 256, 16), 3, activation='elu')(x)\n",
        "  x = MaxPool2D()(x)\n",
        "  x = Flatten()(x)\n",
        "  x = Dense(hp.Int('h_1', 32, 512, 32), activation='swish')(x)\n",
        "  out = Dense(10, activation='softmax')(x)\n",
        "\n",
        "  model = Model(inputs=[inp], outputs=[out])\n",
        "\n",
        "  model.compile(optimizer=tf.keras.optimizers.Adam(learning_rate=1e-3),\n",
        "                loss=tf.keras.losses.CategoricalCrossentropy(from_logits=False), \n",
        "                metrics=['acc'])\n",
        "\n",
        "  return model"
      ],
      "execution_count": 8,
      "outputs": []
    },
    {
      "cell_type": "code",
      "metadata": {
        "id": "ZWC1Z5GyCcf5",
        "colab_type": "code",
        "colab": {}
      },
      "source": [
        "import IPython\n",
        "\n",
        "class ClearTrainingOutput(tf.keras.callbacks.Callback):\n",
        "  def on_train_end(*args, **kwargs):\n",
        "    IPython.display.clear_output(wait = True)"
      ],
      "execution_count": 9,
      "outputs": []
    },
    {
      "cell_type": "code",
      "metadata": {
        "id": "ar14jEwNe4_S",
        "colab_type": "code",
        "colab": {}
      },
      "source": [
        "# helper function to perform tuning\n",
        "def tune():\n",
        "\n",
        "  tuner = kt.Hyperband(hypermodel=build_hypermodel, \n",
        "                     objective='val_loss', \n",
        "                     max_epochs=100, \n",
        "                     factor=3, \n",
        "                     hyperband_iterations=1, \n",
        "                     directory='test_dir',\n",
        "                     project_name='a',\n",
        "                     seed=seed,\n",
        "                     overwrite=True)\n",
        "  \n",
        "  es = tf.keras.callbacks.EarlyStopping(patience=10)\n",
        "  tuner.search(train_images, train_labels, epochs=200, \n",
        "              validation_data=(test_images, test_labels), \n",
        "              verbose=0, callbacks=[es, ClearTrainingOutput()])\n",
        "  \n",
        "  return tuner"
      ],
      "execution_count": 16,
      "outputs": []
    },
    {
      "cell_type": "code",
      "metadata": {
        "id": "ef1HELngAwKw",
        "colab_type": "code",
        "colab": {
          "base_uri": "https://localhost:8080/",
          "height": 329
        },
        "outputId": "b8153928-8b2e-4e18-a239-18e24a36bd4e"
      },
      "source": [
        "tuner = tune()"
      ],
      "execution_count": 17,
      "outputs": [
        {
          "output_type": "display_data",
          "data": {
            "text/html": [
              "<span style=\"color:#4527A0\"><h1 style=\"font-size:18px\">Trial complete</h1></span>"
            ],
            "text/plain": [
              "<IPython.core.display.HTML object>"
            ]
          },
          "metadata": {
            "tags": []
          }
        },
        {
          "output_type": "display_data",
          "data": {
            "text/html": [
              "<span style=\"color:#4527A0\"><h1 style=\"font-size:18px\">Trial summary</h1></span>"
            ],
            "text/plain": [
              "<IPython.core.display.HTML object>"
            ]
          },
          "metadata": {
            "tags": []
          }
        },
        {
          "output_type": "display_data",
          "data": {
            "text/html": [
              "<span style=\"color:cyan\"> |-Trial ID: 9b9fa79dc27ad908fb74dc55a479f8bb</span>"
            ],
            "text/plain": [
              "<IPython.core.display.HTML object>"
            ]
          },
          "metadata": {
            "tags": []
          }
        },
        {
          "output_type": "display_data",
          "data": {
            "text/html": [
              "<span style=\"color:cyan\"> |-Score: 0.8681046962738037</span>"
            ],
            "text/plain": [
              "<IPython.core.display.HTML object>"
            ]
          },
          "metadata": {
            "tags": []
          }
        },
        {
          "output_type": "display_data",
          "data": {
            "text/html": [
              "<span style=\"color:cyan\"> |-Best step: 0</span>"
            ],
            "text/plain": [
              "<IPython.core.display.HTML object>"
            ]
          },
          "metadata": {
            "tags": []
          }
        },
        {
          "output_type": "display_data",
          "data": {
            "text/html": [
              "<span style=\"color:#7E57C2\"><h2 style=\"font-size:16px\">Hyperparameters:</h2></span>"
            ],
            "text/plain": [
              "<IPython.core.display.HTML object>"
            ]
          },
          "metadata": {
            "tags": []
          }
        },
        {
          "output_type": "display_data",
          "data": {
            "text/html": [
              "<span style=\"color:cyan\"> |-f_1: 80</span>"
            ],
            "text/plain": [
              "<IPython.core.display.HTML object>"
            ]
          },
          "metadata": {
            "tags": []
          }
        },
        {
          "output_type": "display_data",
          "data": {
            "text/html": [
              "<span style=\"color:blue\"> |-f_2: 16</span>"
            ],
            "text/plain": [
              "<IPython.core.display.HTML object>"
            ]
          },
          "metadata": {
            "tags": []
          }
        },
        {
          "output_type": "display_data",
          "data": {
            "text/html": [
              "<span style=\"color:cyan\"> |-f_3: 224</span>"
            ],
            "text/plain": [
              "<IPython.core.display.HTML object>"
            ]
          },
          "metadata": {
            "tags": []
          }
        },
        {
          "output_type": "display_data",
          "data": {
            "text/html": [
              "<span style=\"color:blue\"> |-h_1: 128</span>"
            ],
            "text/plain": [
              "<IPython.core.display.HTML object>"
            ]
          },
          "metadata": {
            "tags": []
          }
        },
        {
          "output_type": "display_data",
          "data": {
            "text/html": [
              "<span style=\"color:cyan\"> |-tuner/bracket: 0</span>"
            ],
            "text/plain": [
              "<IPython.core.display.HTML object>"
            ]
          },
          "metadata": {
            "tags": []
          }
        },
        {
          "output_type": "display_data",
          "data": {
            "text/html": [
              "<span style=\"color:blue\"> |-tuner/epochs: 100</span>"
            ],
            "text/plain": [
              "<IPython.core.display.HTML object>"
            ]
          },
          "metadata": {
            "tags": []
          }
        },
        {
          "output_type": "display_data",
          "data": {
            "text/html": [
              "<span style=\"color:cyan\"> |-tuner/initial_epoch: 0</span>"
            ],
            "text/plain": [
              "<IPython.core.display.HTML object>"
            ]
          },
          "metadata": {
            "tags": []
          }
        },
        {
          "output_type": "display_data",
          "data": {
            "text/html": [
              "<span style=\"color:blue\"> |-tuner/round: 0</span>"
            ],
            "text/plain": [
              "<IPython.core.display.HTML object>"
            ]
          },
          "metadata": {
            "tags": []
          }
        },
        {
          "output_type": "stream",
          "text": [
            "INFO:tensorflow:Oracle triggered exit\n"
          ],
          "name": "stdout"
        }
      ]
    },
    {
      "cell_type": "code",
      "metadata": {
        "id": "oQEk_lvCC2r-",
        "colab_type": "code",
        "colab": {
          "base_uri": "https://localhost:8080/",
          "height": 85
        },
        "outputId": "f9881aba-8743-46ca-86b2-1e99a42e91ac"
      },
      "source": [
        "best_hps = tuner.get_best_hyperparameters(num_trials = 1)[0]\n",
        "print(f\"\"\"\n",
        "The hyperparameter search is complete. The optimal filter sizes are {best_hps.get('f_1')}\n",
        ", {best_hps.get('f_2')}, and {best_hps.get('f_3')}. The optimal hidden_units is {best_hps.get('h_1')}.\n",
        "\"\"\")"
      ],
      "execution_count": 18,
      "outputs": [
        {
          "output_type": "stream",
          "text": [
            "\n",
            "The hyperparameter search is complete. The optimal filter sizes are 32\n",
            ", 64, and 192. The optimal hidden_units is 352.\n",
            "\n"
          ],
          "name": "stdout"
        }
      ]
    },
    {
      "cell_type": "code",
      "metadata": {
        "id": "UbuJTidbADSs",
        "colab_type": "code",
        "colab": {}
      },
      "source": [
        "def train(model):\n",
        "  mc = tf.keras.callbacks.ModelCheckpoint(filepath, save_best_only=True, \n",
        "                                        save_weights_only=True)\n",
        "  es = tf.keras.callbacks.EarlyStopping(patience=10, verbose=1)\n",
        "\n",
        "  history = model.fit(train_images, train_labels, epochs=200, \n",
        "                    validation_data=(test_images, test_labels), \n",
        "                    callbacks=[mc, es], verbose=2)\n",
        "  return history"
      ],
      "execution_count": 19,
      "outputs": []
    },
    {
      "cell_type": "code",
      "metadata": {
        "id": "wGvmZ_JiDQXl",
        "colab_type": "code",
        "colab": {}
      },
      "source": [
        "model = tuner.hypermodel.build(best_hps)"
      ],
      "execution_count": 20,
      "outputs": []
    },
    {
      "cell_type": "code",
      "metadata": {
        "id": "eq8nsKcXDTsY",
        "colab_type": "code",
        "colab": {
          "base_uri": "https://localhost:8080/",
          "height": 476
        },
        "outputId": "a4afe4d5-acef-4f48-9e5b-9cd5c577b41d"
      },
      "source": [
        "history = train(model)"
      ],
      "execution_count": 21,
      "outputs": [
        {
          "output_type": "stream",
          "text": [
            "Epoch 1/200\n",
            "1563/1563 - 6s - loss: 1.3286 - acc: 0.5280 - val_loss: 1.1246 - val_acc: 0.6066\n",
            "Epoch 2/200\n",
            "1563/1563 - 6s - loss: 0.9441 - acc: 0.6680 - val_loss: 0.9304 - val_acc: 0.6785\n",
            "Epoch 3/200\n",
            "1563/1563 - 6s - loss: 0.7443 - acc: 0.7395 - val_loss: 0.8568 - val_acc: 0.7118\n",
            "Epoch 4/200\n",
            "1563/1563 - 6s - loss: 0.5854 - acc: 0.7961 - val_loss: 0.8667 - val_acc: 0.7222\n",
            "Epoch 5/200\n",
            "1563/1563 - 6s - loss: 0.4557 - acc: 0.8419 - val_loss: 0.9430 - val_acc: 0.7131\n",
            "Epoch 6/200\n",
            "1563/1563 - 6s - loss: 0.3367 - acc: 0.8826 - val_loss: 1.0370 - val_acc: 0.7184\n",
            "Epoch 7/200\n",
            "1563/1563 - 6s - loss: 0.2590 - acc: 0.9089 - val_loss: 1.1939 - val_acc: 0.7044\n",
            "Epoch 8/200\n",
            "1563/1563 - 6s - loss: 0.2094 - acc: 0.9271 - val_loss: 1.2643 - val_acc: 0.7136\n",
            "Epoch 9/200\n",
            "1563/1563 - 6s - loss: 0.1787 - acc: 0.9381 - val_loss: 1.4173 - val_acc: 0.7081\n",
            "Epoch 10/200\n",
            "1563/1563 - 6s - loss: 0.1658 - acc: 0.9425 - val_loss: 1.5155 - val_acc: 0.7136\n",
            "Epoch 11/200\n",
            "1563/1563 - 6s - loss: 0.1424 - acc: 0.9519 - val_loss: 1.6905 - val_acc: 0.7019\n",
            "Epoch 12/200\n",
            "1563/1563 - 6s - loss: 0.1431 - acc: 0.9518 - val_loss: 1.7204 - val_acc: 0.7062\n",
            "Epoch 13/200\n",
            "1563/1563 - 6s - loss: 0.1353 - acc: 0.9542 - val_loss: 1.8253 - val_acc: 0.7125\n",
            "Epoch 00013: early stopping\n"
          ],
          "name": "stdout"
        }
      ]
    },
    {
      "cell_type": "code",
      "metadata": {
        "id": "MXOXolD3Du5T",
        "colab_type": "code",
        "colab": {
          "base_uri": "https://localhost:8080/",
          "height": 893
        },
        "outputId": "95b5e720-9846-4ee2-fa30-b38a288684c6"
      },
      "source": [
        "import matplotlib.pyplot as plt\n",
        "import seaborn as sns\n",
        "\n",
        "def plot_training(history):\n",
        "\n",
        "  history = history.history\n",
        "\n",
        "  fig, (ax1, ax2) = plt.subplots(2, 1, sharex='col', figsize=(20, 14))\n",
        "\n",
        "  ax1.plot(history['loss'], label='Training')\n",
        "  ax1.plot(history['val_loss'], label='Validation')\n",
        "  ax1.legend(loc='best')\n",
        "  ax1.set_title('Loss')\n",
        "\n",
        "  ax2.plot(history['acc'], label='Training')\n",
        "  ax2.plot(history['val_acc'], label='Validation')\n",
        "  ax2.legend(loc='best')\n",
        "  ax2.set_title('Accuracy')\n",
        "\n",
        "  plt.xlabel('Epochs')\n",
        "  sns.despine()\n",
        "  plt.show()\n",
        "\n",
        "plot_training(history)"
      ],
      "execution_count": 22,
      "outputs": [
        {
          "output_type": "stream",
          "text": [
            "/usr/local/lib/python3.6/dist-packages/statsmodels/tools/_testing.py:19: FutureWarning: pandas.util.testing is deprecated. Use the functions in the public API at pandas.testing instead.\n",
            "  import pandas.util.testing as tm\n"
          ],
          "name": "stderr"
        },
        {
          "output_type": "display_data",
          "data": {
            "image/png": "[encoded data removed]",
            "text/plain": [
              "<Figure size 1440x1008 with 2 Axes>"
            ]
          },
          "metadata": {
            "tags": [],
            "needs_background": "light"
          }
        }
      ]
    },
    {
      "cell_type": "code",
      "metadata": {
        "id": "en_-4xsODduy",
        "colab_type": "code",
        "colab": {
          "base_uri": "https://localhost:8080/",
          "height": 51
        },
        "outputId": "824f1847-36de-4bc7-8a2b-952f3a412091"
      },
      "source": [
        "def print_metrics():\n",
        "  model.load_weights(filepath)\n",
        "  metrics = model.evaluate(test_images, test_labels, verbose=0)\n",
        "  print('Loss = ' + str(metrics[0]))\n",
        "  print('Accuracy = ' + str(metrics[1]))\n",
        "  accuracies.append(metrics[1])\n",
        "\n",
        "print_metrics()"
      ],
      "execution_count": 23,
      "outputs": [
        {
          "output_type": "stream",
          "text": [
            "Loss = 0.8567730188369751\n",
            "Accuracy = 0.7117999792098999\n"
          ],
          "name": "stdout"
        }
      ]
    },
    {
      "cell_type": "markdown",
      "metadata": {
        "id": "0YIEWTN8D3Ek",
        "colab_type": "text"
      },
      "source": [
        "# Tune Dropout"
      ]
    },
    {
      "cell_type": "code",
      "metadata": {
        "id": "xmvmlEPAcMmb",
        "colab_type": "code",
        "colab": {}
      },
      "source": [
        "from tensorflow.keras.layers import Dropout\n",
        "\n",
        "def build_hypermodel(hp):\n",
        "  inp = Input(shape=(32, 32, 3), name='inp')\n",
        "  x = Conv2D(32, 3, activation='elu')(inp)\n",
        "  x = MaxPool2D()(x)\n",
        "  x = Conv2D(64, 3, activation='elu')(x)\n",
        "  x = MaxPool2D()(x)\n",
        "  x = Conv2D(128, 3, activation='elu')(x)\n",
        "  x = MaxPool2D()(x)\n",
        "  x = Flatten()(x)\n",
        "  dp = hp.Float('dp_1', min_value=0.0, max_value=0.2, step=0.1)\n",
        "  x = Dropout(dp)(x)\n",
        "  x = Dense(256, activation='swish')(x)\n",
        "  out = Dense(10, activation='softmax')(x)\n",
        "\n",
        "  model = Model(inputs=[inp], outputs=[out])\n",
        "\n",
        "  model.compile(optimizer=tf.keras.optimizers.Adam(learning_rate=1e-3),\n",
        "                loss=tf.keras.losses.CategoricalCrossentropy(from_logits=False), \n",
        "                metrics=['acc'])\n",
        "\n",
        "  return model"
      ],
      "execution_count": 26,
      "outputs": []
    },
    {
      "cell_type": "code",
      "metadata": {
        "id": "LzuCmIYtcM4O",
        "colab_type": "code",
        "colab": {
          "base_uri": "https://localhost:8080/",
          "height": 278
        },
        "outputId": "53d70c70-3909-4272-820b-25b3fd8f53e4"
      },
      "source": [
        "tuner = tune()"
      ],
      "execution_count": 27,
      "outputs": [
        {
          "output_type": "display_data",
          "data": {
            "text/html": [
              "<span style=\"color:#4527A0\"><h1 style=\"font-size:18px\">Trial complete</h1></span>"
            ],
            "text/plain": [
              "<IPython.core.display.HTML object>"
            ]
          },
          "metadata": {
            "tags": []
          }
        },
        {
          "output_type": "display_data",
          "data": {
            "text/html": [
              "<span style=\"color:#4527A0\"><h1 style=\"font-size:18px\">Trial summary</h1></span>"
            ],
            "text/plain": [
              "<IPython.core.display.HTML object>"
            ]
          },
          "metadata": {
            "tags": []
          }
        },
        {
          "output_type": "display_data",
          "data": {
            "text/html": [
              "<span style=\"color:cyan\"> |-Trial ID: 38b9126d1c3db05ca862b1f6ea8d229d</span>"
            ],
            "text/plain": [
              "<IPython.core.display.HTML object>"
            ]
          },
          "metadata": {
            "tags": []
          }
        },
        {
          "output_type": "display_data",
          "data": {
            "text/html": [
              "<span style=\"color:cyan\"> |-Score: 0.8028779029846191</span>"
            ],
            "text/plain": [
              "<IPython.core.display.HTML object>"
            ]
          },
          "metadata": {
            "tags": []
          }
        },
        {
          "output_type": "display_data",
          "data": {
            "text/html": [
              "<span style=\"color:cyan\"> |-Best step: 0</span>"
            ],
            "text/plain": [
              "<IPython.core.display.HTML object>"
            ]
          },
          "metadata": {
            "tags": []
          }
        },
        {
          "output_type": "display_data",
          "data": {
            "text/html": [
              "<span style=\"color:#7E57C2\"><h2 style=\"font-size:16px\">Hyperparameters:</h2></span>"
            ],
            "text/plain": [
              "<IPython.core.display.HTML object>"
            ]
          },
          "metadata": {
            "tags": []
          }
        },
        {
          "output_type": "display_data",
          "data": {
            "text/html": [
              "<span style=\"color:cyan\"> |-dp_1: 0.16605108364637983</span>"
            ],
            "text/plain": [
              "<IPython.core.display.HTML object>"
            ]
          },
          "metadata": {
            "tags": []
          }
        },
        {
          "output_type": "display_data",
          "data": {
            "text/html": [
              "<span style=\"color:blue\"> |-tuner/bracket: 0</span>"
            ],
            "text/plain": [
              "<IPython.core.display.HTML object>"
            ]
          },
          "metadata": {
            "tags": []
          }
        },
        {
          "output_type": "display_data",
          "data": {
            "text/html": [
              "<span style=\"color:cyan\"> |-tuner/epochs: 100</span>"
            ],
            "text/plain": [
              "<IPython.core.display.HTML object>"
            ]
          },
          "metadata": {
            "tags": []
          }
        },
        {
          "output_type": "display_data",
          "data": {
            "text/html": [
              "<span style=\"color:blue\"> |-tuner/initial_epoch: 0</span>"
            ],
            "text/plain": [
              "<IPython.core.display.HTML object>"
            ]
          },
          "metadata": {
            "tags": []
          }
        },
        {
          "output_type": "display_data",
          "data": {
            "text/html": [
              "<span style=\"color:cyan\"> |-tuner/round: 0</span>"
            ],
            "text/plain": [
              "<IPython.core.display.HTML object>"
            ]
          },
          "metadata": {
            "tags": []
          }
        },
        {
          "output_type": "stream",
          "text": [
            "INFO:tensorflow:Oracle triggered exit\n"
          ],
          "name": "stdout"
        }
      ]
    },
    {
      "cell_type": "code",
      "metadata": {
        "id": "b4Zpr-h2cNAQ",
        "colab_type": "code",
        "colab": {
          "base_uri": "https://localhost:8080/",
          "height": 68
        },
        "outputId": "71b3b148-de86-4598-dbb2-9aec2cb7362e"
      },
      "source": [
        "best_hps = tuner.get_best_hyperparameters(num_trials = 1)[0]\n",
        "print(f\"\"\"\n",
        "The hyperparameter search is complete. The optimal dropout size is {best_hps.get('dp_1')}.\n",
        "\"\"\")"
      ],
      "execution_count": 28,
      "outputs": [
        {
          "output_type": "stream",
          "text": [
            "\n",
            "The hyperparameter search is complete. The optimal dropout size is 0.4801627072938893.\n",
            "\n"
          ],
          "name": "stdout"
        }
      ]
    },
    {
      "cell_type": "code",
      "metadata": {
        "id": "eBGas6v_cNM6",
        "colab_type": "code",
        "colab": {}
      },
      "source": [
        "model = tuner.hypermodel.build(best_hps)\n"
      ],
      "execution_count": 29,
      "outputs": []
    },
    {
      "cell_type": "code",
      "metadata": {
        "id": "72R37nzLcNVW",
        "colab_type": "code",
        "colab": {
          "base_uri": "https://localhost:8080/",
          "height": 1000
        },
        "outputId": "d168c045-8590-4d6c-c546-07bcc6873c1b"
      },
      "source": [
        "history = train(model)"
      ],
      "execution_count": 30,
      "outputs": [
        {
          "output_type": "stream",
          "text": [
            "Epoch 1/200\n",
            "1563/1563 - 5s - loss: 1.4531 - acc: 0.4766 - val_loss: 1.1891 - val_acc: 0.5812\n",
            "Epoch 2/200\n",
            "1563/1563 - 5s - loss: 1.1533 - acc: 0.5932 - val_loss: 1.0566 - val_acc: 0.6275\n",
            "Epoch 3/200\n",
            "1563/1563 - 5s - loss: 1.0232 - acc: 0.6421 - val_loss: 0.9024 - val_acc: 0.6841\n",
            "Epoch 4/200\n",
            "1563/1563 - 5s - loss: 0.9388 - acc: 0.6702 - val_loss: 0.8764 - val_acc: 0.6953\n",
            "Epoch 5/200\n",
            "1563/1563 - 5s - loss: 0.8748 - acc: 0.6943 - val_loss: 0.8392 - val_acc: 0.7162\n",
            "Epoch 6/200\n",
            "1563/1563 - 5s - loss: 0.8348 - acc: 0.7074 - val_loss: 0.7966 - val_acc: 0.7218\n",
            "Epoch 7/200\n",
            "1563/1563 - 6s - loss: 0.7905 - acc: 0.7225 - val_loss: 0.7958 - val_acc: 0.7274\n",
            "Epoch 8/200\n",
            "1563/1563 - 5s - loss: 0.7603 - acc: 0.7330 - val_loss: 0.7759 - val_acc: 0.7291\n",
            "Epoch 9/200\n",
            "1563/1563 - 5s - loss: 0.7295 - acc: 0.7449 - val_loss: 0.7662 - val_acc: 0.7348\n",
            "Epoch 10/200\n",
            "1563/1563 - 5s - loss: 0.6990 - acc: 0.7544 - val_loss: 0.7616 - val_acc: 0.7420\n",
            "Epoch 11/200\n",
            "1563/1563 - 5s - loss: 0.6793 - acc: 0.7634 - val_loss: 0.7467 - val_acc: 0.7459\n",
            "Epoch 12/200\n",
            "1563/1563 - 6s - loss: 0.6651 - acc: 0.7665 - val_loss: 0.7364 - val_acc: 0.7513\n",
            "Epoch 13/200\n",
            "1563/1563 - 6s - loss: 0.6432 - acc: 0.7738 - val_loss: 0.7545 - val_acc: 0.7444\n",
            "Epoch 14/200\n",
            "1563/1563 - 6s - loss: 0.6334 - acc: 0.7792 - val_loss: 0.7548 - val_acc: 0.7440\n",
            "Epoch 15/200\n",
            "1563/1563 - 5s - loss: 0.6244 - acc: 0.7803 - val_loss: 0.7634 - val_acc: 0.7373\n",
            "Epoch 16/200\n",
            "1563/1563 - 5s - loss: 0.6096 - acc: 0.7872 - val_loss: 0.7483 - val_acc: 0.7464\n",
            "Epoch 17/200\n",
            "1563/1563 - 5s - loss: 0.5978 - acc: 0.7897 - val_loss: 0.7886 - val_acc: 0.7360\n",
            "Epoch 18/200\n",
            "1563/1563 - 5s - loss: 0.5729 - acc: 0.8007 - val_loss: 0.7452 - val_acc: 0.7500\n",
            "Epoch 19/200\n",
            "1563/1563 - 5s - loss: 0.5713 - acc: 0.7999 - val_loss: 0.7400 - val_acc: 0.7563\n",
            "Epoch 20/200\n",
            "1563/1563 - 5s - loss: 0.5615 - acc: 0.8038 - val_loss: 0.7248 - val_acc: 0.7557\n",
            "Epoch 21/200\n",
            "1563/1563 - 6s - loss: 0.5553 - acc: 0.8067 - val_loss: 0.7782 - val_acc: 0.7385\n",
            "Epoch 22/200\n",
            "1563/1563 - 6s - loss: 0.5486 - acc: 0.8079 - val_loss: 0.7546 - val_acc: 0.7444\n",
            "Epoch 23/200\n",
            "1563/1563 - 5s - loss: 0.5392 - acc: 0.8114 - val_loss: 0.7552 - val_acc: 0.7521\n",
            "Epoch 24/200\n",
            "1563/1563 - 5s - loss: 0.5308 - acc: 0.8142 - val_loss: 0.7414 - val_acc: 0.7532\n",
            "Epoch 25/200\n",
            "1563/1563 - 5s - loss: 0.5219 - acc: 0.8186 - val_loss: 0.7492 - val_acc: 0.7563\n",
            "Epoch 26/200\n",
            "1563/1563 - 5s - loss: 0.5198 - acc: 0.8186 - val_loss: 0.7481 - val_acc: 0.7589\n",
            "Epoch 27/200\n",
            "1563/1563 - 5s - loss: 0.5130 - acc: 0.8189 - val_loss: 0.7553 - val_acc: 0.7462\n",
            "Epoch 28/200\n",
            "1563/1563 - 5s - loss: 0.5118 - acc: 0.8245 - val_loss: 0.7603 - val_acc: 0.7406\n",
            "Epoch 29/200\n",
            "1563/1563 - 6s - loss: 0.5013 - acc: 0.8266 - val_loss: 0.7519 - val_acc: 0.7544\n",
            "Epoch 30/200\n",
            "1563/1563 - 5s - loss: 0.4970 - acc: 0.8272 - val_loss: 0.7428 - val_acc: 0.7557\n",
            "Epoch 00030: early stopping\n"
          ],
          "name": "stdout"
        }
      ]
    },
    {
      "cell_type": "code",
      "metadata": {
        "id": "r5wGhV6TenhD",
        "colab_type": "code",
        "colab": {
          "base_uri": "https://localhost:8080/",
          "height": 839
        },
        "outputId": "dc53282a-932e-42d5-f503-612f3bdbdf76"
      },
      "source": [
        "plot_training(history)"
      ],
      "execution_count": 31,
      "outputs": [
        {
          "output_type": "display_data",
          "data": {
            "image/png": "[encoded data removed]",
            "text/plain": [
              "<Figure size 1440x1008 with 2 Axes>"
            ]
          },
          "metadata": {
            "tags": [],
            "needs_background": "light"
          }
        }
      ]
    },
    {
      "cell_type": "code",
      "metadata": {
        "id": "if4-n079erv-",
        "colab_type": "code",
        "colab": {
          "base_uri": "https://localhost:8080/",
          "height": 51
        },
        "outputId": "91281582-834d-488e-e3ae-b6950a7b08e3"
      },
      "source": [
        "print_metrics()"
      ],
      "execution_count": 32,
      "outputs": [
        {
          "output_type": "stream",
          "text": [
            "Loss = 0.7248120903968811\n",
            "Accuracy = 0.7556999921798706\n"
          ],
          "name": "stdout"
        }
      ]
    },
    {
      "cell_type": "markdown",
      "metadata": {
        "id": "tmvUXr3WcHJ1",
        "colab_type": "text"
      },
      "source": [
        "# Tune Image Augmentation"
      ]
    },
    {
      "cell_type": "code",
      "metadata": {
        "id": "IvoBX-w7w2m-",
        "colab_type": "code",
        "colab": {}
      },
      "source": [
        "def build_hypermodel(hp):\n",
        "  inp = Input(shape=(32, 32, 3), name='inp')\n",
        "  f1 = hp.Float('f1', min_value=0.1, max_value=0.2, step=0.05)\n",
        "  x = tf.keras.layers.experimental.preprocessing.RandomRotation(f1)(inp)\n",
        "  x = Conv2D(32, 3, activation='elu')(x)\n",
        "  x = MaxPool2D()(x)\n",
        "  x = Conv2D(64, 3, activation='elu')(x)\n",
        "  x = MaxPool2D()(x)\n",
        "  x = Conv2D(128, 3, activation='elu')(x)\n",
        "  x = MaxPool2D()(x)\n",
        "  x = Flatten()(x)\n",
        "  x = Dense(256, activation='swish')(x)\n",
        "  out = Dense(10, activation='softmax')(x)\n",
        "\n",
        "  model = Model(inputs=[inp], outputs=[out])\n",
        "\n",
        "  model.compile(optimizer=tf.keras.optimizers.Adam(learning_rate=1e-3),\n",
        "                loss=tf.keras.losses.CategoricalCrossentropy(from_logits=False), \n",
        "                metrics=['acc'])\n",
        "\n",
        "  return model"
      ],
      "execution_count": 37,
      "outputs": []
    },
    {
      "cell_type": "code",
      "metadata": {
        "id": "i07nyPesw2sF",
        "colab_type": "code",
        "colab": {
          "base_uri": "https://localhost:8080/",
          "height": 295
        },
        "outputId": "25db291f-5de8-4713-e57d-95134aadafb2"
      },
      "source": [
        "tuner = tune()"
      ],
      "execution_count": 38,
      "outputs": [
        {
          "output_type": "display_data",
          "data": {
            "text/html": [
              "<span style=\"color:#4527A0\"><h1 style=\"font-size:18px\">Trial complete</h1></span>"
            ],
            "text/plain": [
              "<IPython.core.display.HTML object>"
            ]
          },
          "metadata": {
            "tags": []
          }
        },
        {
          "output_type": "display_data",
          "data": {
            "text/html": [
              "<span style=\"color:#4527A0\"><h1 style=\"font-size:18px\">Trial summary</h1></span>"
            ],
            "text/plain": [
              "<IPython.core.display.HTML object>"
            ]
          },
          "metadata": {
            "tags": []
          }
        },
        {
          "output_type": "display_data",
          "data": {
            "text/html": [
              "<span style=\"color:cyan\"> |-Trial ID: 51303fab308941d2fbb82908df3a5734</span>"
            ],
            "text/plain": [
              "<IPython.core.display.HTML object>"
            ]
          },
          "metadata": {
            "tags": []
          }
        },
        {
          "output_type": "display_data",
          "data": {
            "text/html": [
              "<span style=\"color:cyan\"> |-Score: 1.0274182558059692</span>"
            ],
            "text/plain": [
              "<IPython.core.display.HTML object>"
            ]
          },
          "metadata": {
            "tags": []
          }
        },
        {
          "output_type": "display_data",
          "data": {
            "text/html": [
              "<span style=\"color:cyan\"> |-Best step: 0</span>"
            ],
            "text/plain": [
              "<IPython.core.display.HTML object>"
            ]
          },
          "metadata": {
            "tags": []
          }
        },
        {
          "output_type": "display_data",
          "data": {
            "text/html": [
              "<span style=\"color:#7E57C2\"><h2 style=\"font-size:16px\">Hyperparameters:</h2></span>"
            ],
            "text/plain": [
              "<IPython.core.display.HTML object>"
            ]
          },
          "metadata": {
            "tags": []
          }
        },
        {
          "output_type": "display_data",
          "data": {
            "text/html": [
              "<span style=\"color:cyan\"> |-f1: 0.1</span>"
            ],
            "text/plain": [
              "<IPython.core.display.HTML object>"
            ]
          },
          "metadata": {
            "tags": []
          }
        },
        {
          "output_type": "display_data",
          "data": {
            "text/html": [
              "<span style=\"color:blue\"> |-tuner/bracket: 4</span>"
            ],
            "text/plain": [
              "<IPython.core.display.HTML object>"
            ]
          },
          "metadata": {
            "tags": []
          }
        },
        {
          "output_type": "display_data",
          "data": {
            "text/html": [
              "<span style=\"color:cyan\"> |-tuner/epochs: 2</span>"
            ],
            "text/plain": [
              "<IPython.core.display.HTML object>"
            ]
          },
          "metadata": {
            "tags": []
          }
        },
        {
          "output_type": "display_data",
          "data": {
            "text/html": [
              "<span style=\"color:blue\"> |-tuner/initial_epoch: 0</span>"
            ],
            "text/plain": [
              "<IPython.core.display.HTML object>"
            ]
          },
          "metadata": {
            "tags": []
          }
        },
        {
          "output_type": "display_data",
          "data": {
            "text/html": [
              "<span style=\"color:cyan\"> |-tuner/round: 0</span>"
            ],
            "text/plain": [
              "<IPython.core.display.HTML object>"
            ]
          },
          "metadata": {
            "tags": []
          }
        },
        {
          "output_type": "stream",
          "text": [
            "INFO:tensorflow:Oracle triggered exit\n"
          ],
          "name": "stdout"
        },
        {
          "output_type": "stream",
          "text": [
            "INFO:tensorflow:Oracle triggered exit\n"
          ],
          "name": "stderr"
        }
      ]
    },
    {
      "cell_type": "code",
      "metadata": {
        "id": "bnaQXiUOw21e",
        "colab_type": "code",
        "colab": {
          "base_uri": "https://localhost:8080/",
          "height": 68
        },
        "outputId": "2712537e-0f92-4036-cb93-16fb1220b47b"
      },
      "source": [
        "best_hps = tuner.get_best_hyperparameters(num_trials = 1)[0]\n",
        "print(f\"\"\"\n",
        "The hyperparameter search is complete. The optimal rotation factor is {best_hps.get('f1')}.\n",
        "\"\"\")"
      ],
      "execution_count": 39,
      "outputs": [
        {
          "output_type": "stream",
          "text": [
            "\n",
            "The hyperparameter search is complete. The optimal rotation factor is 0.1.\n",
            "\n"
          ],
          "name": "stdout"
        }
      ]
    },
    {
      "cell_type": "code",
      "metadata": {
        "id": "iUjww5MNz7mW",
        "colab_type": "code",
        "colab": {
          "base_uri": "https://localhost:8080/",
          "height": 1000
        },
        "outputId": "769382b6-9f52-4a47-e4a2-f87d2ae91889"
      },
      "source": [
        "model = tuner.hypermodel.build(best_hps)\n",
        "history = train(model)\n",
        "plot_training(history)"
      ],
      "execution_count": 40,
      "outputs": [
        {
          "output_type": "stream",
          "text": [
            "Epoch 1/200\n",
            "1563/1563 - 7s - loss: 1.5030 - acc: 0.4613 - val_loss: 1.2415 - val_acc: 0.5647\n",
            "Epoch 2/200\n",
            "1563/1563 - 7s - loss: 1.2055 - acc: 0.5744 - val_loss: 1.0459 - val_acc: 0.6306\n",
            "Epoch 3/200\n",
            "1563/1563 - 7s - loss: 1.0768 - acc: 0.6222 - val_loss: 1.0994 - val_acc: 0.6270\n",
            "Epoch 4/200\n",
            "1563/1563 - 7s - loss: 0.9848 - acc: 0.6553 - val_loss: 0.9623 - val_acc: 0.6667\n",
            "Epoch 5/200\n",
            "1563/1563 - 7s - loss: 0.9138 - acc: 0.6810 - val_loss: 0.9629 - val_acc: 0.6816\n",
            "Epoch 6/200\n",
            "1563/1563 - 7s - loss: 0.8553 - acc: 0.7009 - val_loss: 0.8927 - val_acc: 0.6989\n",
            "Epoch 7/200\n",
            "1563/1563 - 7s - loss: 0.8132 - acc: 0.7168 - val_loss: 0.9237 - val_acc: 0.6990\n",
            "Epoch 8/200\n",
            "1563/1563 - 7s - loss: 0.7755 - acc: 0.7285 - val_loss: 0.8635 - val_acc: 0.7137\n",
            "Epoch 9/200\n",
            "1563/1563 - 7s - loss: 0.7430 - acc: 0.7407 - val_loss: 0.8691 - val_acc: 0.7178\n",
            "Epoch 10/200\n",
            "1563/1563 - 7s - loss: 0.7190 - acc: 0.7490 - val_loss: 0.8943 - val_acc: 0.7107\n",
            "Epoch 11/200\n",
            "1563/1563 - 7s - loss: 0.6946 - acc: 0.7594 - val_loss: 0.8665 - val_acc: 0.7147\n",
            "Epoch 12/200\n",
            "1563/1563 - 7s - loss: 0.6733 - acc: 0.7658 - val_loss: 0.8590 - val_acc: 0.7267\n",
            "Epoch 13/200\n",
            "1563/1563 - 7s - loss: 0.6464 - acc: 0.7732 - val_loss: 0.8965 - val_acc: 0.7166\n",
            "Epoch 14/200\n",
            "1563/1563 - 7s - loss: 0.6365 - acc: 0.7777 - val_loss: 0.8935 - val_acc: 0.7189\n",
            "Epoch 15/200\n",
            "1563/1563 - 7s - loss: 0.6243 - acc: 0.7819 - val_loss: 0.9148 - val_acc: 0.7061\n",
            "Epoch 16/200\n",
            "1563/1563 - 7s - loss: 0.6061 - acc: 0.7872 - val_loss: 0.9577 - val_acc: 0.7119\n",
            "Epoch 17/200\n",
            "1563/1563 - 7s - loss: 0.5948 - acc: 0.7946 - val_loss: 0.9678 - val_acc: 0.7135\n",
            "Epoch 18/200\n",
            "1563/1563 - 7s - loss: 0.5786 - acc: 0.7974 - val_loss: 0.9520 - val_acc: 0.7141\n",
            "Epoch 19/200\n",
            "1563/1563 - 7s - loss: 0.5643 - acc: 0.8025 - val_loss: 0.9239 - val_acc: 0.7234\n",
            "Epoch 20/200\n",
            "1563/1563 - 7s - loss: 0.5522 - acc: 0.8058 - val_loss: 0.9177 - val_acc: 0.7283\n",
            "Epoch 21/200\n",
            "1563/1563 - 7s - loss: 0.5401 - acc: 0.8088 - val_loss: 1.0259 - val_acc: 0.7071\n",
            "Epoch 22/200\n",
            "1563/1563 - 7s - loss: 0.5302 - acc: 0.8142 - val_loss: 0.9346 - val_acc: 0.7209\n",
            "Epoch 00022: early stopping\n"
          ],
          "name": "stdout"
        },
        {
          "output_type": "display_data",
          "data": {
            "image/png": "[encoded data removed]",
            "text/plain": [
              "<Figure size 1440x1008 with 2 Axes>"
            ]
          },
          "metadata": {
            "tags": [],
            "needs_background": "light"
          }
        }
      ]
    },
    {
      "cell_type": "code",
      "metadata": {
        "id": "RuEBFJHwz7wM",
        "colab_type": "code",
        "colab": {
          "base_uri": "https://localhost:8080/",
          "height": 51
        },
        "outputId": "69657317-e2e6-4cc5-91ae-a853727370e8"
      },
      "source": [
        "print_metrics()"
      ],
      "execution_count": 41,
      "outputs": [
        {
          "output_type": "stream",
          "text": [
            "Loss = 0.8590092062950134\n",
            "Accuracy = 0.7267000079154968\n"
          ],
          "name": "stdout"
        }
      ]
    },
    {
      "cell_type": "markdown",
      "metadata": {
        "id": "6W0btLAL0EY6",
        "colab_type": "text"
      },
      "source": [
        "# Results"
      ]
    },
    {
      "cell_type": "code",
      "metadata": {
        "id": "78CA2Dox0IDX",
        "colab_type": "code",
        "colab": {
          "base_uri": "https://localhost:8080/",
          "height": 281
        },
        "outputId": "ffaaabce-4307-45da-a831-abfbbff16251"
      },
      "source": [
        "labels = ['baseline', 'tuned-f', 'tuned-d', 'tuned-a']\n",
        "\n",
        "x_pos = [i for i, _ in enumerate(labels)]\n",
        "\n",
        "plt.bar(x_pos, accuracies, color='green')\n",
        "plt.ylabel(\"Accuracy\")\n",
        "plt.title(\"Keras Tuner Results by Model\")\n",
        "\n",
        "plt.xticks(x_pos, labels)\n",
        "\n",
        "plt.show()"
      ],
      "execution_count": 42,
      "outputs": [
        {
          "output_type": "display_data",
          "data": {
            "image/png": "[encoded data removed]",
            "text/plain": [
              "<Figure size 432x288 with 1 Axes>"
            ]
          },
          "metadata": {
            "tags": [],
            "needs_background": "light"
          }
        }
      ]
    }
  ]
}