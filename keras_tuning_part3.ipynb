{
  "nbformat": 4,
  "nbformat_minor": 0,
  "metadata": {
    "colab": {
      "name": "keras_tuning_part3.ipynb",
      "provenance": [],
      "authorship_tag": "ABX9TyOavdP76WfyaTw7Mo4+yq+J",
      "include_colab_link": true
    },
    "kernelspec": {
      "name": "python3",
      "display_name": "Python 3"
    },
    "accelerator": "GPU"
  },
  "cells": [
    {
      "cell_type": "markdown",
      "metadata": {
        "id": "view-in-github",
        "colab_type": "text"
      },
      "source": [
        "<a href=\"https://colab.research.google.com/github/dcpatton/keras_tuner/blob/master/keras_tuning_part3.ipynb\" target=\"_parent\"><img src=\"https://colab.research.google.com/assets/colab-badge.svg\" alt=\"Open In Colab\"/></a>"
      ]
    },
    {
      "cell_type": "code",
      "metadata": {
        "id": "Gv31wccaCBMZ",
        "colab_type": "code",
        "colab": {
          "base_uri": "https://localhost:8080/",
          "height": 34
        },
        "outputId": "a5d862c0-2298-4feb-8800-92eb026fea83"
      },
      "source": [
        "import tensorflow as tf\n",
        "import random\n",
        "\n",
        "seed = 52\n",
        "tf.random.set_seed(seed)\n",
        "random.seed(seed)\n",
        "\n",
        "print('TensorFlow version = ' + tf.__version__)\n",
        "\n",
        "accuracies = [] # for metric tracking"
      ],
      "execution_count": 1,
      "outputs": [
        {
          "output_type": "stream",
          "text": [
            "TensorFlow version = 2.3.0\n"
          ],
          "name": "stdout"
        }
      ]
    },
    {
      "cell_type": "markdown",
      "metadata": {
        "id": "IZ1CCh6YCMtk",
        "colab_type": "text"
      },
      "source": [
        "## Install the Keras Tuner"
      ]
    },
    {
      "cell_type": "code",
      "metadata": {
        "id": "PzwM779kCKMm",
        "colab_type": "code",
        "colab": {
          "base_uri": "https://localhost:8080/",
          "height": 85
        },
        "outputId": "52f1e9d7-f8e4-4743-afbb-3fb0458b2ce3"
      },
      "source": [
        "!pip install keras-tuner -q\n",
        "import kerastuner as kt\n",
        "print('Keras Tuner version = ' + kt.__version__)"
      ],
      "execution_count": 2,
      "outputs": [
        {
          "output_type": "stream",
          "text": [
            "\u001b[?25l\r\u001b[K     |██████                          | 10kB 31.2MB/s eta 0:00:01\r\u001b[K     |████████████                    | 20kB 6.7MB/s eta 0:00:01\r\u001b[K     |██████████████████              | 30kB 8.0MB/s eta 0:00:01\r\u001b[K     |████████████████████████        | 40kB 8.6MB/s eta 0:00:01\r\u001b[K     |██████████████████████████████  | 51kB 7.6MB/s eta 0:00:01\r\u001b[K     |████████████████████████████████| 61kB 4.4MB/s \n",
            "\u001b[?25h  Building wheel for keras-tuner (setup.py) ... \u001b[?25l\u001b[?25hdone\n",
            "  Building wheel for terminaltables (setup.py) ... \u001b[?25l\u001b[?25hdone\n",
            "Keras Tuner version = 1.0.1\n"
          ],
          "name": "stdout"
        }
      ]
    },
    {
      "cell_type": "markdown",
      "metadata": {
        "id": "aQqY7cZGCR4c",
        "colab_type": "text"
      },
      "source": [
        "# Load CIFAR10"
      ]
    },
    {
      "cell_type": "code",
      "metadata": {
        "id": "Auwnrxc7CViN",
        "colab_type": "code",
        "colab": {
          "base_uri": "https://localhost:8080/",
          "height": 51
        },
        "outputId": "b15289a9-7c56-49c6-de0e-84766dfdea45"
      },
      "source": [
        "(train_images, train_labels), (test_images, test_labels) = tf.keras.datasets.cifar10.load_data()\n",
        "# Normalize the data\n",
        "train_images, test_images = train_images / 255.0, test_images / 255.0"
      ],
      "execution_count": 3,
      "outputs": [
        {
          "output_type": "stream",
          "text": [
            "Downloading data from https://www.cs.toronto.edu/~kriz/cifar-10-python.tar.gz\n",
            "170500096/170498071 [==============================] - 12s 0us/step\n"
          ],
          "name": "stdout"
        }
      ]
    },
    {
      "cell_type": "code",
      "metadata": {
        "id": "X-dXPP50Ci-i",
        "colab_type": "code",
        "colab": {
          "base_uri": "https://localhost:8080/",
          "height": 459
        },
        "outputId": "0116305d-f849-4bdb-dffc-e8e461bc12d0"
      },
      "source": [
        "from tensorflow.keras.layers import Conv2D, MaxPool2D, Flatten, Dense\n",
        "from tensorflow.keras import Input, Model\n",
        "\n",
        "input1 = Input(shape=(32, 32, 3), name='input1')\n",
        "x = Conv2D(32, 3, activation='elu')(input1)\n",
        "x = MaxPool2D()(x)\n",
        "x = Conv2D(64, 3, activation='elu')(x)\n",
        "x = MaxPool2D()(x)\n",
        "x = Conv2D(128, 3, activation='elu')(x)\n",
        "x = MaxPool2D()(x)\n",
        "x = Flatten()(x)\n",
        "out = Dense(10)(x)\n",
        "\n",
        "model = Model(inputs=[input1], outputs=[out])\n",
        "\n",
        "model.compile(optimizer=tf.keras.optimizers.SGD(learning_rate=0.01, momentum=0.0),\n",
        "              loss=tf.keras.losses.SparseCategoricalCrossentropy(from_logits=True), \n",
        "              metrics=['accuracy'])\n",
        "\n",
        "model.summary()"
      ],
      "execution_count": 4,
      "outputs": [
        {
          "output_type": "stream",
          "text": [
            "Model: \"functional_1\"\n",
            "_________________________________________________________________\n",
            "Layer (type)                 Output Shape              Param #   \n",
            "=================================================================\n",
            "input1 (InputLayer)          [(None, 32, 32, 3)]       0         \n",
            "_________________________________________________________________\n",
            "conv2d (Conv2D)              (None, 30, 30, 32)        896       \n",
            "_________________________________________________________________\n",
            "max_pooling2d (MaxPooling2D) (None, 15, 15, 32)        0         \n",
            "_________________________________________________________________\n",
            "conv2d_1 (Conv2D)            (None, 13, 13, 64)        18496     \n",
            "_________________________________________________________________\n",
            "max_pooling2d_1 (MaxPooling2 (None, 6, 6, 64)          0         \n",
            "_________________________________________________________________\n",
            "conv2d_2 (Conv2D)            (None, 4, 4, 128)         73856     \n",
            "_________________________________________________________________\n",
            "max_pooling2d_2 (MaxPooling2 (None, 2, 2, 128)         0         \n",
            "_________________________________________________________________\n",
            "flatten (Flatten)            (None, 512)               0         \n",
            "_________________________________________________________________\n",
            "dense (Dense)                (None, 10)                5130      \n",
            "=================================================================\n",
            "Total params: 98,378\n",
            "Trainable params: 98,378\n",
            "Non-trainable params: 0\n",
            "_________________________________________________________________\n"
          ],
          "name": "stdout"
        }
      ]
    },
    {
      "cell_type": "code",
      "metadata": {
        "id": "L5sYjIBTF_cd",
        "colab_type": "code",
        "colab": {}
      },
      "source": [
        "BATCH_SIZE = 128"
      ],
      "execution_count": 5,
      "outputs": []
    },
    {
      "cell_type": "code",
      "metadata": {
        "id": "-sSOJ94KFykH",
        "colab_type": "code",
        "colab": {
          "base_uri": "https://localhost:8080/",
          "height": 1000
        },
        "outputId": "5e35c457-562a-441b-908b-728134641da7"
      },
      "source": [
        "filepath = 'model.h5'\n",
        "mc = tf.keras.callbacks.ModelCheckpoint(filepath, save_best_only=True, \n",
        "                                        save_weights_only=True)\n",
        "es = tf.keras.callbacks.EarlyStopping(patience=10, verbose=1)\n",
        "\n",
        "history = model.fit(train_images, train_labels, epochs=200, batch_size=BATCH_SIZE, \n",
        "                    validation_data=(test_images, test_labels), \n",
        "                    callbacks=[mc, es], verbose=2)"
      ],
      "execution_count": 6,
      "outputs": [
        {
          "output_type": "stream",
          "text": [
            "Epoch 1/200\n",
            "391/391 - 2s - loss: 2.1962 - accuracy: 0.2044 - val_loss: 2.0399 - val_accuracy: 0.2935\n",
            "Epoch 2/200\n",
            "391/391 - 2s - loss: 1.9482 - accuracy: 0.3127 - val_loss: 1.8781 - val_accuracy: 0.3378\n",
            "Epoch 3/200\n",
            "391/391 - 1s - loss: 1.8207 - accuracy: 0.3580 - val_loss: 1.7761 - val_accuracy: 0.3631\n",
            "Epoch 4/200\n",
            "391/391 - 1s - loss: 1.7311 - accuracy: 0.3900 - val_loss: 1.6866 - val_accuracy: 0.4067\n",
            "Epoch 5/200\n",
            "391/391 - 1s - loss: 1.6537 - accuracy: 0.4181 - val_loss: 1.6132 - val_accuracy: 0.4269\n",
            "Epoch 6/200\n",
            "391/391 - 1s - loss: 1.5871 - accuracy: 0.4424 - val_loss: 1.5526 - val_accuracy: 0.4493\n",
            "Epoch 7/200\n",
            "391/391 - 1s - loss: 1.5292 - accuracy: 0.4635 - val_loss: 1.5202 - val_accuracy: 0.4638\n",
            "Epoch 8/200\n",
            "391/391 - 1s - loss: 1.4849 - accuracy: 0.4794 - val_loss: 1.5009 - val_accuracy: 0.4681\n",
            "Epoch 9/200\n",
            "391/391 - 1s - loss: 1.4413 - accuracy: 0.4950 - val_loss: 1.4336 - val_accuracy: 0.5003\n",
            "Epoch 10/200\n",
            "391/391 - 1s - loss: 1.4047 - accuracy: 0.5108 - val_loss: 1.4441 - val_accuracy: 0.4835\n",
            "Epoch 11/200\n",
            "391/391 - 1s - loss: 1.3696 - accuracy: 0.5248 - val_loss: 1.4287 - val_accuracy: 0.4997\n",
            "Epoch 12/200\n",
            "391/391 - 1s - loss: 1.3408 - accuracy: 0.5353 - val_loss: 1.3637 - val_accuracy: 0.5210\n",
            "Epoch 13/200\n",
            "391/391 - 1s - loss: 1.3130 - accuracy: 0.5458 - val_loss: 1.3610 - val_accuracy: 0.5274\n",
            "Epoch 14/200\n",
            "391/391 - 1s - loss: 1.2853 - accuracy: 0.5571 - val_loss: 1.3176 - val_accuracy: 0.5398\n",
            "Epoch 15/200\n",
            "391/391 - 1s - loss: 1.2598 - accuracy: 0.5647 - val_loss: 1.2788 - val_accuracy: 0.5540\n",
            "Epoch 16/200\n",
            "391/391 - 1s - loss: 1.2369 - accuracy: 0.5735 - val_loss: 1.2567 - val_accuracy: 0.5587\n",
            "Epoch 17/200\n",
            "391/391 - 1s - loss: 1.2125 - accuracy: 0.5828 - val_loss: 1.2438 - val_accuracy: 0.5683\n",
            "Epoch 18/200\n",
            "391/391 - 1s - loss: 1.1906 - accuracy: 0.5905 - val_loss: 1.2117 - val_accuracy: 0.5799\n",
            "Epoch 19/200\n",
            "391/391 - 1s - loss: 1.1688 - accuracy: 0.6000 - val_loss: 1.1958 - val_accuracy: 0.5844\n",
            "Epoch 20/200\n",
            "391/391 - 1s - loss: 1.1514 - accuracy: 0.6052 - val_loss: 1.1953 - val_accuracy: 0.5867\n",
            "Epoch 21/200\n",
            "391/391 - 1s - loss: 1.1312 - accuracy: 0.6113 - val_loss: 1.1803 - val_accuracy: 0.5926\n",
            "Epoch 22/200\n",
            "391/391 - 1s - loss: 1.1136 - accuracy: 0.6190 - val_loss: 1.1627 - val_accuracy: 0.5992\n",
            "Epoch 23/200\n",
            "391/391 - 1s - loss: 1.0927 - accuracy: 0.6265 - val_loss: 1.1516 - val_accuracy: 0.6003\n",
            "Epoch 24/200\n",
            "391/391 - 1s - loss: 1.0770 - accuracy: 0.6310 - val_loss: 1.1342 - val_accuracy: 0.6097\n",
            "Epoch 25/200\n",
            "391/391 - 1s - loss: 1.0614 - accuracy: 0.6365 - val_loss: 1.1287 - val_accuracy: 0.6131\n",
            "Epoch 26/200\n",
            "391/391 - 1s - loss: 1.0435 - accuracy: 0.6441 - val_loss: 1.1176 - val_accuracy: 0.6117\n",
            "Epoch 27/200\n",
            "391/391 - 1s - loss: 1.0279 - accuracy: 0.6491 - val_loss: 1.0885 - val_accuracy: 0.6238\n",
            "Epoch 28/200\n",
            "391/391 - 1s - loss: 1.0145 - accuracy: 0.6541 - val_loss: 1.1039 - val_accuracy: 0.6157\n",
            "Epoch 29/200\n",
            "391/391 - 1s - loss: 0.9985 - accuracy: 0.6595 - val_loss: 1.0817 - val_accuracy: 0.6291\n",
            "Epoch 30/200\n",
            "391/391 - 1s - loss: 0.9864 - accuracy: 0.6635 - val_loss: 1.0634 - val_accuracy: 0.6363\n",
            "Epoch 31/200\n",
            "391/391 - 1s - loss: 0.9757 - accuracy: 0.6670 - val_loss: 1.0743 - val_accuracy: 0.6316\n",
            "Epoch 32/200\n",
            "391/391 - 1s - loss: 0.9619 - accuracy: 0.6741 - val_loss: 1.0602 - val_accuracy: 0.6374\n",
            "Epoch 33/200\n",
            "391/391 - 1s - loss: 0.9493 - accuracy: 0.6765 - val_loss: 1.0429 - val_accuracy: 0.6433\n",
            "Epoch 34/200\n",
            "391/391 - 1s - loss: 0.9367 - accuracy: 0.6808 - val_loss: 1.0900 - val_accuracy: 0.6296\n",
            "Epoch 35/200\n",
            "391/391 - 1s - loss: 0.9269 - accuracy: 0.6857 - val_loss: 1.0752 - val_accuracy: 0.6281\n",
            "Epoch 36/200\n",
            "391/391 - 1s - loss: 0.9165 - accuracy: 0.6884 - val_loss: 1.0216 - val_accuracy: 0.6482\n",
            "Epoch 37/200\n",
            "391/391 - 1s - loss: 0.9053 - accuracy: 0.6926 - val_loss: 1.0269 - val_accuracy: 0.6466\n",
            "Epoch 38/200\n",
            "391/391 - 1s - loss: 0.8949 - accuracy: 0.6956 - val_loss: 1.0228 - val_accuracy: 0.6517\n",
            "Epoch 39/200\n",
            "391/391 - 1s - loss: 0.8833 - accuracy: 0.7002 - val_loss: 1.0119 - val_accuracy: 0.6569\n",
            "Epoch 40/200\n",
            "391/391 - 1s - loss: 0.8760 - accuracy: 0.7028 - val_loss: 1.0176 - val_accuracy: 0.6497\n",
            "Epoch 41/200\n",
            "391/391 - 1s - loss: 0.8628 - accuracy: 0.7062 - val_loss: 1.0156 - val_accuracy: 0.6544\n",
            "Epoch 42/200\n",
            "391/391 - 1s - loss: 0.8556 - accuracy: 0.7084 - val_loss: 1.0044 - val_accuracy: 0.6615\n",
            "Epoch 43/200\n",
            "391/391 - 1s - loss: 0.8458 - accuracy: 0.7115 - val_loss: 0.9863 - val_accuracy: 0.6659\n",
            "Epoch 44/200\n",
            "391/391 - 1s - loss: 0.8373 - accuracy: 0.7168 - val_loss: 1.0278 - val_accuracy: 0.6465\n",
            "Epoch 45/200\n",
            "391/391 - 1s - loss: 0.8276 - accuracy: 0.7180 - val_loss: 1.0045 - val_accuracy: 0.6572\n",
            "Epoch 46/200\n",
            "391/391 - 1s - loss: 0.8181 - accuracy: 0.7228 - val_loss: 0.9787 - val_accuracy: 0.6644\n",
            "Epoch 47/200\n",
            "391/391 - 1s - loss: 0.8091 - accuracy: 0.7266 - val_loss: 0.9881 - val_accuracy: 0.6694\n",
            "Epoch 48/200\n",
            "391/391 - 1s - loss: 0.8025 - accuracy: 0.7277 - val_loss: 0.9765 - val_accuracy: 0.6710\n",
            "Epoch 49/200\n",
            "391/391 - 1s - loss: 0.7927 - accuracy: 0.7308 - val_loss: 0.9772 - val_accuracy: 0.6665\n",
            "Epoch 50/200\n",
            "391/391 - 1s - loss: 0.7832 - accuracy: 0.7339 - val_loss: 0.9845 - val_accuracy: 0.6684\n",
            "Epoch 51/200\n",
            "391/391 - 1s - loss: 0.7756 - accuracy: 0.7374 - val_loss: 1.0049 - val_accuracy: 0.6620\n",
            "Epoch 52/200\n",
            "391/391 - 1s - loss: 0.7666 - accuracy: 0.7405 - val_loss: 0.9893 - val_accuracy: 0.6669\n",
            "Epoch 53/200\n",
            "391/391 - 1s - loss: 0.7597 - accuracy: 0.7411 - val_loss: 0.9690 - val_accuracy: 0.6731\n",
            "Epoch 54/200\n",
            "391/391 - 1s - loss: 0.7530 - accuracy: 0.7444 - val_loss: 0.9658 - val_accuracy: 0.6724\n",
            "Epoch 55/200\n",
            "391/391 - 1s - loss: 0.7425 - accuracy: 0.7474 - val_loss: 0.9894 - val_accuracy: 0.6687\n",
            "Epoch 56/200\n",
            "391/391 - 1s - loss: 0.7358 - accuracy: 0.7501 - val_loss: 0.9654 - val_accuracy: 0.6676\n",
            "Epoch 57/200\n",
            "391/391 - 1s - loss: 0.7275 - accuracy: 0.7531 - val_loss: 0.9682 - val_accuracy: 0.6739\n",
            "Epoch 58/200\n",
            "391/391 - 1s - loss: 0.7204 - accuracy: 0.7566 - val_loss: 0.9536 - val_accuracy: 0.6796\n",
            "Epoch 59/200\n",
            "391/391 - 1s - loss: 0.7136 - accuracy: 0.7599 - val_loss: 0.9685 - val_accuracy: 0.6753\n",
            "Epoch 60/200\n",
            "391/391 - 1s - loss: 0.7044 - accuracy: 0.7615 - val_loss: 0.9840 - val_accuracy: 0.6720\n",
            "Epoch 61/200\n",
            "391/391 - 1s - loss: 0.6978 - accuracy: 0.7640 - val_loss: 0.9425 - val_accuracy: 0.6861\n",
            "Epoch 62/200\n",
            "391/391 - 1s - loss: 0.6899 - accuracy: 0.7673 - val_loss: 0.9648 - val_accuracy: 0.6765\n",
            "Epoch 63/200\n",
            "391/391 - 1s - loss: 0.6816 - accuracy: 0.7702 - val_loss: 0.9615 - val_accuracy: 0.6792\n",
            "Epoch 64/200\n",
            "391/391 - 1s - loss: 0.6748 - accuracy: 0.7714 - val_loss: 0.9769 - val_accuracy: 0.6780\n",
            "Epoch 65/200\n",
            "391/391 - 1s - loss: 0.6694 - accuracy: 0.7736 - val_loss: 0.9553 - val_accuracy: 0.6836\n",
            "Epoch 66/200\n",
            "391/391 - 1s - loss: 0.6616 - accuracy: 0.7770 - val_loss: 0.9905 - val_accuracy: 0.6723\n",
            "Epoch 67/200\n",
            "391/391 - 1s - loss: 0.6560 - accuracy: 0.7778 - val_loss: 0.9667 - val_accuracy: 0.6810\n",
            "Epoch 68/200\n",
            "391/391 - 1s - loss: 0.6462 - accuracy: 0.7818 - val_loss: 0.9707 - val_accuracy: 0.6780\n",
            "Epoch 69/200\n",
            "391/391 - 1s - loss: 0.6376 - accuracy: 0.7856 - val_loss: 0.9633 - val_accuracy: 0.6841\n",
            "Epoch 70/200\n",
            "391/391 - 1s - loss: 0.6322 - accuracy: 0.7855 - val_loss: 0.9429 - val_accuracy: 0.6885\n",
            "Epoch 71/200\n",
            "391/391 - 1s - loss: 0.6251 - accuracy: 0.7891 - val_loss: 0.9902 - val_accuracy: 0.6742\n",
            "Epoch 00071: early stopping\n"
          ],
          "name": "stdout"
        }
      ]
    },
    {
      "cell_type": "code",
      "metadata": {
        "id": "-FLQSvPfF5Uw",
        "colab_type": "code",
        "colab": {
          "base_uri": "https://localhost:8080/",
          "height": 51
        },
        "outputId": "dde06d38-b03c-43e0-bb47-8b518ccd9911"
      },
      "source": [
        "model.load_weights(filepath)\n",
        "metrics = model.evaluate(test_images, test_labels, verbose=0)\n",
        "print('Loss = ' + str(metrics[0]))\n",
        "print('Accuracy = ' + str(metrics[1]))\n",
        "accuracies.append(metrics[1])"
      ],
      "execution_count": 7,
      "outputs": [
        {
          "output_type": "stream",
          "text": [
            "Loss = 0.9424615502357483\n",
            "Accuracy = 0.6861000061035156\n"
          ],
          "name": "stdout"
        }
      ]
    },
    {
      "cell_type": "markdown",
      "metadata": {
        "id": "90aNivWBGnDa",
        "colab_type": "text"
      },
      "source": [
        "Recall that the Keras tuned DNN achieved:\n",
        "\n",
        "\n",
        "```\n",
        "Loss = 1.955668330192566\n",
        "Accuracy = 0.5008000135421753\n",
        "```\n",
        "\n"
      ]
    },
    {
      "cell_type": "markdown",
      "metadata": {
        "id": "x0542FLrG2P_",
        "colab_type": "text"
      },
      "source": [
        "# Tune SGD parameters"
      ]
    },
    {
      "cell_type": "code",
      "metadata": {
        "id": "pCnFKYfHJ6gH",
        "colab_type": "code",
        "colab": {}
      },
      "source": [
        "from tensorflow.keras.optimizers import SGD\n",
        "\n",
        "def build_hypermodel(hp):\n",
        "  input1 = Input(shape=(32, 32, 3), name='input1')\n",
        "  x = Conv2D(32, 3, activation='elu')(input1)\n",
        "  x = MaxPool2D()(x)\n",
        "  x = Conv2D(64, 3, activation='elu')(x)\n",
        "  x = MaxPool2D()(x)\n",
        "  x = Conv2D(128, 3, activation='elu')(x)\n",
        "  x = MaxPool2D()(x)\n",
        "  x = Flatten()(x)\n",
        "  out = Dense(10)(x)\n",
        "\n",
        "  model = Model(inputs=[input1], outputs=[out])\n",
        "\n",
        "  optimizer = SGD(learning_rate=hp.Float(name='lr', min_value=0.005, max_value=0.05, step=0.005),\n",
        "                  momentum=hp.Float(name='mom', min_value=0.0, max_value=0.9, step=0.1))\n",
        "  model.compile(optimizer=optimizer,\n",
        "                loss=tf.keras.losses.SparseCategoricalCrossentropy(from_logits=True), \n",
        "                metrics=['accuracy'])\n",
        "\n",
        "  return model"
      ],
      "execution_count": 8,
      "outputs": []
    },
    {
      "cell_type": "code",
      "metadata": {
        "id": "6IENbbpELvRL",
        "colab_type": "code",
        "colab": {}
      },
      "source": [
        "tuner = kt.BayesianOptimization(hypermodel=build_hypermodel,\n",
        "                        objective='val_loss',\n",
        "                        max_trials=25,\n",
        "                        num_initial_points=2,\n",
        "                        directory='test_dir',\n",
        "                        project_name='a',\n",
        "                        seed=seed\n",
        "                        )"
      ],
      "execution_count": 9,
      "outputs": []
    },
    {
      "cell_type": "code",
      "metadata": {
        "id": "WOKfjGIHM7hS",
        "colab_type": "code",
        "colab": {}
      },
      "source": [
        "import IPython\n",
        "\n",
        "class ClearTrainingOutput(tf.keras.callbacks.Callback):\n",
        "  def on_train_end(*args, **kwargs):\n",
        "    IPython.display.clear_output(wait = True)"
      ],
      "execution_count": 10,
      "outputs": []
    },
    {
      "cell_type": "code",
      "metadata": {
        "id": "smcSJNBuL2Ku",
        "colab_type": "code",
        "colab": {
          "base_uri": "https://localhost:8080/",
          "height": 227
        },
        "outputId": "9c32b99d-2704-4eed-bcca-d5e58f81a168"
      },
      "source": [
        "es = tf.keras.callbacks.EarlyStopping(patience=10)\n",
        "tuner.search(train_images, train_labels, epochs=200, batch_size=BATCH_SIZE, \n",
        "             validation_data=(test_images, test_labels), \n",
        "             verbose=0, callbacks=[es, ClearTrainingOutput()])"
      ],
      "execution_count": 11,
      "outputs": [
        {
          "output_type": "display_data",
          "data": {
            "text/html": [
              "<span style=\"color:#4527A0\"><h1 style=\"font-size:18px\">Trial complete</h1></span>"
            ],
            "text/plain": [
              "<IPython.core.display.HTML object>"
            ]
          },
          "metadata": {
            "tags": []
          }
        },
        {
          "output_type": "display_data",
          "data": {
            "text/html": [
              "<span style=\"color:#4527A0\"><h1 style=\"font-size:18px\">Trial summary</h1></span>"
            ],
            "text/plain": [
              "<IPython.core.display.HTML object>"
            ]
          },
          "metadata": {
            "tags": []
          }
        },
        {
          "output_type": "display_data",
          "data": {
            "text/html": [
              "<span style=\"color:cyan\"> |-Trial ID: 5737c6a3a218e6fc89b77a92372a5511</span>"
            ],
            "text/plain": [
              "<IPython.core.display.HTML object>"
            ]
          },
          "metadata": {
            "tags": []
          }
        },
        {
          "output_type": "display_data",
          "data": {
            "text/html": [
              "<span style=\"color:cyan\"> |-Score: 0.9310649633407593</span>"
            ],
            "text/plain": [
              "<IPython.core.display.HTML object>"
            ]
          },
          "metadata": {
            "tags": []
          }
        },
        {
          "output_type": "display_data",
          "data": {
            "text/html": [
              "<span style=\"color:cyan\"> |-Best step: 0</span>"
            ],
            "text/plain": [
              "<IPython.core.display.HTML object>"
            ]
          },
          "metadata": {
            "tags": []
          }
        },
        {
          "output_type": "display_data",
          "data": {
            "text/html": [
              "<span style=\"color:#7E57C2\"><h2 style=\"font-size:16px\">Hyperparameters:</h2></span>"
            ],
            "text/plain": [
              "<IPython.core.display.HTML object>"
            ]
          },
          "metadata": {
            "tags": []
          }
        },
        {
          "output_type": "display_data",
          "data": {
            "text/html": [
              "<span style=\"color:cyan\"> |-lr: 0.005</span>"
            ],
            "text/plain": [
              "<IPython.core.display.HTML object>"
            ]
          },
          "metadata": {
            "tags": []
          }
        },
        {
          "output_type": "display_data",
          "data": {
            "text/html": [
              "<span style=\"color:blue\"> |-mom: 0.9</span>"
            ],
            "text/plain": [
              "<IPython.core.display.HTML object>"
            ]
          },
          "metadata": {
            "tags": []
          }
        },
        {
          "output_type": "stream",
          "text": [
            "INFO:tensorflow:Oracle triggered exit\n"
          ],
          "name": "stdout"
        }
      ]
    },
    {
      "cell_type": "code",
      "metadata": {
        "id": "ANXqND2uPawZ",
        "colab_type": "code",
        "colab": {
          "base_uri": "https://localhost:8080/",
          "height": 68
        },
        "outputId": "d2ed1150-f301-4e16-bb36-806e874dc442"
      },
      "source": [
        "best_hps = tuner.get_best_hyperparameters(num_trials = 1)[0]\n",
        "print(f\"\"\"\n",
        "The hyperparameter search is complete. The optimal learning rate is {best_hps.get('lr')}. The optimal momentum is {best_hps.get('mom')}.\n",
        "\"\"\")"
      ],
      "execution_count": 12,
      "outputs": [
        {
          "output_type": "stream",
          "text": [
            "\n",
            "The hyperparameter search is complete. The optimal learning rate is 0.005. The optimal momentum is 0.9.\n",
            "\n"
          ],
          "name": "stdout"
        }
      ]
    },
    {
      "cell_type": "code",
      "metadata": {
        "id": "2nzd52eDMdgt",
        "colab_type": "code",
        "colab": {}
      },
      "source": [
        "model = tuner.hypermodel.build(best_hps)"
      ],
      "execution_count": 13,
      "outputs": []
    },
    {
      "cell_type": "code",
      "metadata": {
        "id": "bhYn0mEtMnra",
        "colab_type": "code",
        "colab": {
          "base_uri": "https://localhost:8080/",
          "height": 34
        },
        "outputId": "887cafd5-89e1-4dad-fcd4-5039388edda2"
      },
      "source": [
        "mc = tf.keras.callbacks.ModelCheckpoint(filepath, save_best_only=True, \n",
        "                                        save_weights_only=True)\n",
        "es = tf.keras.callbacks.EarlyStopping(patience=10, verbose=1)\n",
        "\n",
        "history = model.fit(train_images, train_labels, epochs=200, batch_size=BATCH_SIZE, \n",
        "                    validation_data=(test_images, test_labels), \n",
        "                    callbacks=[mc, es], verbose=0)"
      ],
      "execution_count": 14,
      "outputs": [
        {
          "output_type": "stream",
          "text": [
            "Epoch 00028: early stopping\n"
          ],
          "name": "stdout"
        }
      ]
    },
    {
      "cell_type": "code",
      "metadata": {
        "id": "k6YkuEXeMwk3",
        "colab_type": "code",
        "colab": {
          "base_uri": "https://localhost:8080/",
          "height": 51
        },
        "outputId": "e21ba6f5-2261-462f-eba2-38ae515e5d73"
      },
      "source": [
        "model.load_weights(filepath)\n",
        "metrics = model.evaluate(test_images, test_labels, verbose=0)\n",
        "print('Loss = ' + str(metrics[0]))\n",
        "print('Accuracy = ' + str(metrics[1]))\n",
        "accuracies.append(metrics[1])"
      ],
      "execution_count": 15,
      "outputs": [
        {
          "output_type": "stream",
          "text": [
            "Loss = 0.9195582270622253\n",
            "Accuracy = 0.6908000111579895\n"
          ],
          "name": "stdout"
        }
      ]
    },
    {
      "cell_type": "markdown",
      "metadata": {
        "id": "JfOFFijDP74S",
        "colab_type": "text"
      },
      "source": [
        "# Tune optimizer choice"
      ]
    },
    {
      "cell_type": "code",
      "metadata": {
        "id": "FTCzZY3ZTBwA",
        "colab_type": "code",
        "colab": {}
      },
      "source": [
        "def build_hypermodel(hp):\n",
        "  input1 = Input(shape=(32, 32, 3), name='input1')\n",
        "  x = Conv2D(32, 3, activation='elu')(input1)\n",
        "  x = MaxPool2D()(x)\n",
        "  x = Conv2D(64, 3, activation='elu')(x)\n",
        "  x = MaxPool2D()(x)\n",
        "  x = Conv2D(128, 3, activation='elu')(x)\n",
        "  x = MaxPool2D()(x)\n",
        "  x = Flatten()(x)\n",
        "  out = Dense(10)(x)\n",
        "\n",
        "  model = Model(inputs=[input1], outputs=[out])\n",
        "\n",
        "  optimizer = hp.Choice('opt', values=['Adam', 'SGD', 'RMSprop'])\n",
        "  model.compile(optimizer=optimizer,\n",
        "                loss=tf.keras.losses.SparseCategoricalCrossentropy(from_logits=True), \n",
        "                metrics=['accuracy'])\n",
        "\n",
        "  return model"
      ],
      "execution_count": 16,
      "outputs": []
    },
    {
      "cell_type": "code",
      "metadata": {
        "id": "HZYSKFEDTzW3",
        "colab_type": "code",
        "colab": {}
      },
      "source": [
        "tuner = kt.BayesianOptimization(hypermodel=build_hypermodel,\n",
        "                        objective='val_loss',\n",
        "                        max_trials=25,\n",
        "                        num_initial_points=2,\n",
        "                        directory='test_dir',\n",
        "                        project_name='b',\n",
        "                        seed=seed\n",
        "                        )"
      ],
      "execution_count": 17,
      "outputs": []
    },
    {
      "cell_type": "code",
      "metadata": {
        "id": "LDa7_D3UT6Hi",
        "colab_type": "code",
        "colab": {
          "base_uri": "https://localhost:8080/",
          "height": 210
        },
        "outputId": "31aaa5c3-5d22-4e5f-e96c-976cd4d91ceb"
      },
      "source": [
        "es = tf.keras.callbacks.EarlyStopping(patience=10)\n",
        "tuner.search(train_images, train_labels, epochs=200, batch_size=BATCH_SIZE, \n",
        "             validation_data=(test_images, test_labels), \n",
        "             verbose=0, callbacks=[es, ClearTrainingOutput()])"
      ],
      "execution_count": 18,
      "outputs": [
        {
          "output_type": "display_data",
          "data": {
            "text/html": [
              "<span style=\"color:#4527A0\"><h1 style=\"font-size:18px\">Trial complete</h1></span>"
            ],
            "text/plain": [
              "<IPython.core.display.HTML object>"
            ]
          },
          "metadata": {
            "tags": []
          }
        },
        {
          "output_type": "display_data",
          "data": {
            "text/html": [
              "<span style=\"color:#4527A0\"><h1 style=\"font-size:18px\">Trial summary</h1></span>"
            ],
            "text/plain": [
              "<IPython.core.display.HTML object>"
            ]
          },
          "metadata": {
            "tags": []
          }
        },
        {
          "output_type": "display_data",
          "data": {
            "text/html": [
              "<span style=\"color:cyan\"> |-Trial ID: 43b0ca3284f48b33702b1451c52ad2f9</span>"
            ],
            "text/plain": [
              "<IPython.core.display.HTML object>"
            ]
          },
          "metadata": {
            "tags": []
          }
        },
        {
          "output_type": "display_data",
          "data": {
            "text/html": [
              "<span style=\"color:cyan\"> |-Score: 0.925728976726532</span>"
            ],
            "text/plain": [
              "<IPython.core.display.HTML object>"
            ]
          },
          "metadata": {
            "tags": []
          }
        },
        {
          "output_type": "display_data",
          "data": {
            "text/html": [
              "<span style=\"color:cyan\"> |-Best step: 0</span>"
            ],
            "text/plain": [
              "<IPython.core.display.HTML object>"
            ]
          },
          "metadata": {
            "tags": []
          }
        },
        {
          "output_type": "display_data",
          "data": {
            "text/html": [
              "<span style=\"color:#7E57C2\"><h2 style=\"font-size:16px\">Hyperparameters:</h2></span>"
            ],
            "text/plain": [
              "<IPython.core.display.HTML object>"
            ]
          },
          "metadata": {
            "tags": []
          }
        },
        {
          "output_type": "display_data",
          "data": {
            "text/html": [
              "<span style=\"color:cyan\"> |-opt: RMSprop</span>"
            ],
            "text/plain": [
              "<IPython.core.display.HTML object>"
            ]
          },
          "metadata": {
            "tags": []
          }
        },
        {
          "output_type": "stream",
          "text": [
            "INFO:tensorflow:Oracle triggered exit\n"
          ],
          "name": "stdout"
        }
      ]
    },
    {
      "cell_type": "code",
      "metadata": {
        "id": "xV9sws46T_ux",
        "colab_type": "code",
        "colab": {
          "base_uri": "https://localhost:8080/",
          "height": 68
        },
        "outputId": "45b3aa56-ffd9-422f-cc86-95a478fcfff8"
      },
      "source": [
        "best_hps = tuner.get_best_hyperparameters(num_trials = 1)[0]\n",
        "print(f\"\"\"\n",
        "The hyperparameter search is complete. The optimal optimizer is {best_hps.get('opt')}.\n",
        "\"\"\")"
      ],
      "execution_count": 19,
      "outputs": [
        {
          "output_type": "stream",
          "text": [
            "\n",
            "The hyperparameter search is complete. The optimal optimizer is RMSprop.\n",
            "\n"
          ],
          "name": "stdout"
        }
      ]
    },
    {
      "cell_type": "code",
      "metadata": {
        "id": "SaJLYsyeUG-E",
        "colab_type": "code",
        "colab": {}
      },
      "source": [
        "model = tuner.hypermodel.build(best_hps)"
      ],
      "execution_count": 20,
      "outputs": []
    },
    {
      "cell_type": "code",
      "metadata": {
        "id": "y4dmUPcRULZ2",
        "colab_type": "code",
        "colab": {
          "base_uri": "https://localhost:8080/",
          "height": 34
        },
        "outputId": "50b1d598-0ec1-43ff-a0e5-998cf0bc858f"
      },
      "source": [
        "mc = tf.keras.callbacks.ModelCheckpoint(filepath, save_best_only=True, \n",
        "                                        save_weights_only=True)\n",
        "es = tf.keras.callbacks.EarlyStopping(patience=10, verbose=1)\n",
        "\n",
        "history = model.fit(train_images, train_labels, epochs=200, batch_size=BATCH_SIZE, \n",
        "                    validation_data=(test_images, test_labels), \n",
        "                    callbacks=[mc, es], verbose=0)"
      ],
      "execution_count": 21,
      "outputs": [
        {
          "output_type": "stream",
          "text": [
            "Epoch 00019: early stopping\n"
          ],
          "name": "stdout"
        }
      ]
    },
    {
      "cell_type": "code",
      "metadata": {
        "id": "M17sT8V0USYt",
        "colab_type": "code",
        "colab": {
          "base_uri": "https://localhost:8080/",
          "height": 51
        },
        "outputId": "78d46cb4-63d2-4699-dbfd-9344b888bfd6"
      },
      "source": [
        "model.load_weights(filepath)\n",
        "metrics = model.evaluate(test_images, test_labels, verbose=0)\n",
        "print('Loss = ' + str(metrics[0]))\n",
        "print('Accuracy = ' + str(metrics[1]))\n",
        "accuracies.append(metrics[1])"
      ],
      "execution_count": 22,
      "outputs": [
        {
          "output_type": "stream",
          "text": [
            "Loss = 0.9308236241340637\n",
            "Accuracy = 0.6948000192642212\n"
          ],
          "name": "stdout"
        }
      ]
    },
    {
      "cell_type": "markdown",
      "metadata": {
        "id": "ut5wovQIUT7D",
        "colab_type": "text"
      },
      "source": [
        "# Tune RMSprop"
      ]
    },
    {
      "cell_type": "code",
      "metadata": {
        "id": "bkDyyG5IYHyL",
        "colab_type": "code",
        "colab": {}
      },
      "source": [
        "from tensorflow.keras.optimizers import RMSprop\n",
        "\n",
        "def build_hypermodel(hp):\n",
        "  input1 = Input(shape=(32, 32, 3), name='input1')\n",
        "  x = Conv2D(32, 3, activation='elu')(input1)\n",
        "  x = MaxPool2D()(x)\n",
        "  x = Conv2D(64, 3, activation='elu')(x)\n",
        "  x = MaxPool2D()(x)\n",
        "  x = Conv2D(128, 3, activation='elu')(x)\n",
        "  x = MaxPool2D()(x)\n",
        "  x = Flatten()(x)\n",
        "  out = Dense(10)(x)\n",
        "\n",
        "  model = Model(inputs=[input1], outputs=[out])\n",
        "\n",
        "  optimizer = RMSprop(learning_rate=hp.Float(name='lr', min_value=0.0005, max_value=0.002, step=0.0005),\n",
        "                  momentum=hp.Float(name='mom', min_value=0.0, max_value=0.9, step=0.1))\n",
        "  model.compile(optimizer=optimizer,\n",
        "                loss=tf.keras.losses.SparseCategoricalCrossentropy(from_logits=True), \n",
        "                metrics=['accuracy'])\n",
        "\n",
        "  return model"
      ],
      "execution_count": 23,
      "outputs": []
    },
    {
      "cell_type": "code",
      "metadata": {
        "id": "xawYJdzjYH6v",
        "colab_type": "code",
        "colab": {}
      },
      "source": [
        "tuner = kt.BayesianOptimization(hypermodel=build_hypermodel,\n",
        "                        objective='val_loss',\n",
        "                        max_trials=25,\n",
        "                        num_initial_points=2,\n",
        "                        directory='test_dir',\n",
        "                        project_name='c',\n",
        "                        seed=seed\n",
        "                        )"
      ],
      "execution_count": 24,
      "outputs": []
    },
    {
      "cell_type": "code",
      "metadata": {
        "id": "OhCyBaPpYH_h",
        "colab_type": "code",
        "colab": {
          "base_uri": "https://localhost:8080/",
          "height": 227
        },
        "outputId": "89b9c1e3-cf3f-4d4f-e155-7a795b803bc2"
      },
      "source": [
        "es = tf.keras.callbacks.EarlyStopping(patience=10)\n",
        "tuner.search(train_images, train_labels, epochs=200, batch_size=BATCH_SIZE, \n",
        "             validation_data=(test_images, test_labels), \n",
        "             verbose=0, callbacks=[es, ClearTrainingOutput()])"
      ],
      "execution_count": 25,
      "outputs": [
        {
          "output_type": "display_data",
          "data": {
            "text/html": [
              "<span style=\"color:#4527A0\"><h1 style=\"font-size:18px\">Trial complete</h1></span>"
            ],
            "text/plain": [
              "<IPython.core.display.HTML object>"
            ]
          },
          "metadata": {
            "tags": []
          }
        },
        {
          "output_type": "display_data",
          "data": {
            "text/html": [
              "<span style=\"color:#4527A0\"><h1 style=\"font-size:18px\">Trial summary</h1></span>"
            ],
            "text/plain": [
              "<IPython.core.display.HTML object>"
            ]
          },
          "metadata": {
            "tags": []
          }
        },
        {
          "output_type": "display_data",
          "data": {
            "text/html": [
              "<span style=\"color:cyan\"> |-Trial ID: 15b0dcf23c393f8cbcb3fa0bcf75551f</span>"
            ],
            "text/plain": [
              "<IPython.core.display.HTML object>"
            ]
          },
          "metadata": {
            "tags": []
          }
        },
        {
          "output_type": "display_data",
          "data": {
            "text/html": [
              "<span style=\"color:cyan\"> |-Score: 0.8828963041305542</span>"
            ],
            "text/plain": [
              "<IPython.core.display.HTML object>"
            ]
          },
          "metadata": {
            "tags": []
          }
        },
        {
          "output_type": "display_data",
          "data": {
            "text/html": [
              "<span style=\"color:cyan\"> |-Best step: 0</span>"
            ],
            "text/plain": [
              "<IPython.core.display.HTML object>"
            ]
          },
          "metadata": {
            "tags": []
          }
        },
        {
          "output_type": "display_data",
          "data": {
            "text/html": [
              "<span style=\"color:#7E57C2\"><h2 style=\"font-size:16px\">Hyperparameters:</h2></span>"
            ],
            "text/plain": [
              "<IPython.core.display.HTML object>"
            ]
          },
          "metadata": {
            "tags": []
          }
        },
        {
          "output_type": "display_data",
          "data": {
            "text/html": [
              "<span style=\"color:cyan\"> |-lr: 0.0005</span>"
            ],
            "text/plain": [
              "<IPython.core.display.HTML object>"
            ]
          },
          "metadata": {
            "tags": []
          }
        },
        {
          "output_type": "display_data",
          "data": {
            "text/html": [
              "<span style=\"color:blue\"> |-mom: 0.0</span>"
            ],
            "text/plain": [
              "<IPython.core.display.HTML object>"
            ]
          },
          "metadata": {
            "tags": []
          }
        },
        {
          "output_type": "stream",
          "text": [
            "INFO:tensorflow:Oracle triggered exit\n"
          ],
          "name": "stdout"
        }
      ]
    },
    {
      "cell_type": "code",
      "metadata": {
        "id": "_FyrgLjTYICX",
        "colab_type": "code",
        "colab": {
          "base_uri": "https://localhost:8080/",
          "height": 68
        },
        "outputId": "9028d420-ca65-401f-8400-6ffbf8e4cdd3"
      },
      "source": [
        "best_hps = tuner.get_best_hyperparameters(num_trials = 1)[0]\n",
        "print(f\"\"\"\n",
        "The hyperparameter search is complete. The optimal learning rate is {best_hps.get('lr')}. The optimal momentum is {best_hps.get('mom')}.\n",
        "\"\"\")"
      ],
      "execution_count": 26,
      "outputs": [
        {
          "output_type": "stream",
          "text": [
            "\n",
            "The hyperparameter search is complete. The optimal learning rate is 0.0005. The optimal momentum is 0.0.\n",
            "\n"
          ],
          "name": "stdout"
        }
      ]
    },
    {
      "cell_type": "code",
      "metadata": {
        "id": "Uf9NP-qaYIOi",
        "colab_type": "code",
        "colab": {}
      },
      "source": [
        "model = tuner.hypermodel.build(best_hps)"
      ],
      "execution_count": 27,
      "outputs": []
    },
    {
      "cell_type": "code",
      "metadata": {
        "id": "pvRcWqrbZJUB",
        "colab_type": "code",
        "colab": {
          "base_uri": "https://localhost:8080/",
          "height": 34
        },
        "outputId": "3d2db96e-0ad7-41b5-c183-025361325616"
      },
      "source": [
        "mc = tf.keras.callbacks.ModelCheckpoint(filepath, save_best_only=True, \n",
        "                                        save_weights_only=True)\n",
        "es = tf.keras.callbacks.EarlyStopping(patience=10, verbose=1)\n",
        "\n",
        "history = model.fit(train_images, train_labels, epochs=200, batch_size=BATCH_SIZE, \n",
        "                    validation_data=(test_images, test_labels), \n",
        "                    callbacks=[mc, es], verbose=0)"
      ],
      "execution_count": 28,
      "outputs": [
        {
          "output_type": "stream",
          "text": [
            "Epoch 00029: early stopping\n"
          ],
          "name": "stdout"
        }
      ]
    },
    {
      "cell_type": "code",
      "metadata": {
        "id": "W4WfibDmZJdm",
        "colab_type": "code",
        "colab": {
          "base_uri": "https://localhost:8080/",
          "height": 51
        },
        "outputId": "6eb65cca-7d94-41d6-f463-42067cd7a1cc"
      },
      "source": [
        "model.load_weights(filepath)\n",
        "metrics = model.evaluate(test_images, test_labels, verbose=0)\n",
        "print('Loss = ' + str(metrics[0]))\n",
        "print('Accuracy = ' + str(metrics[1]))\n",
        "accuracies.append(metrics[1])"
      ],
      "execution_count": 29,
      "outputs": [
        {
          "output_type": "stream",
          "text": [
            "Loss = 0.908846378326416\n",
            "Accuracy = 0.7063999772071838\n"
          ],
          "name": "stdout"
        }
      ]
    },
    {
      "cell_type": "markdown",
      "metadata": {
        "id": "qosBunrAZn0q",
        "colab_type": "text"
      },
      "source": [
        "# Results"
      ]
    },
    {
      "cell_type": "code",
      "metadata": {
        "id": "GciwCM7PZqH3",
        "colab_type": "code",
        "colab": {
          "base_uri": "https://localhost:8080/",
          "height": 281
        },
        "outputId": "1ef029a2-bd55-487b-ebe8-fc6bd47fa3a6"
      },
      "source": [
        "import matplotlib.pyplot as plt\n",
        "\n",
        "labels = ['baseline', 'tuned-SGD', 'RMSprop', 'tuned-RMSprop']\n",
        "\n",
        "x_pos = [i for i, _ in enumerate(labels)]\n",
        "\n",
        "plt.bar(x_pos, accuracies, color='green')\n",
        "plt.ylabel(\"Accuracy\")\n",
        "plt.title(\"Keras Tuner Results by Model\")\n",
        "\n",
        "plt.xticks(x_pos, labels)\n",
        "\n",
        "plt.show()"
      ],
      "execution_count": 30,
      "outputs": [
        {
          "output_type": "display_data",
          "data": {
            "image/png": "[encoded data removed]",
            "text/plain": [
              "<Figure size 432x288 with 1 Axes>"
            ]
          },
          "metadata": {
            "tags": [],
            "needs_background": "light"
          }
        }
      ]
    }
  ]
}