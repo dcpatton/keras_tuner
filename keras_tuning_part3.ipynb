{
  "nbformat": 4,
  "nbformat_minor": 0,
  "metadata": {
    "colab": {
      "name": "keras_tuning_part3.ipynb",
      "provenance": [],
      "authorship_tag": "ABX9TyMhce6RauKq14rc57lqslaS",
      "include_colab_link": true
    },
    "kernelspec": {
      "name": "python3",
      "display_name": "Python 3"
    },
    "accelerator": "GPU"
  },
  "cells": [
    {
      "cell_type": "markdown",
      "metadata": {
        "id": "view-in-github",
        "colab_type": "text"
      },
      "source": [
        "<a href=\"https://colab.research.google.com/github/dcpatton/keras_tuner/blob/master/keras_tuning_part3.ipynb\" target=\"_parent\"><img src=\"https://colab.research.google.com/assets/colab-badge.svg\" alt=\"Open In Colab\"/></a>"
      ]
    },
    {
      "cell_type": "code",
      "metadata": {
        "id": "Gv31wccaCBMZ",
        "colab_type": "code",
        "colab": {
          "base_uri": "https://localhost:8080/",
          "height": 34
        },
        "outputId": "8b0b179a-6868-44ab-c9c1-49fb7ecec177"
      },
      "source": [
        "import tensorflow as tf\n",
        "import random\n",
        "\n",
        "seed = 52\n",
        "tf.random.set_seed(seed)\n",
        "random.seed(seed)\n",
        "\n",
        "print('TensorFlow version = ' + tf.__version__)\n",
        "\n",
        "accuracies = [] # for metric tracking"
      ],
      "execution_count": 1,
      "outputs": [
        {
          "output_type": "stream",
          "text": [
            "TensorFlow version = 2.3.0\n"
          ],
          "name": "stdout"
        }
      ]
    },
    {
      "cell_type": "markdown",
      "metadata": {
        "id": "IZ1CCh6YCMtk",
        "colab_type": "text"
      },
      "source": [
        "## Install the Keras Tuner"
      ]
    },
    {
      "cell_type": "code",
      "metadata": {
        "id": "PzwM779kCKMm",
        "colab_type": "code",
        "colab": {
          "base_uri": "https://localhost:8080/",
          "height": 85
        },
        "outputId": "c73162a8-4638-49fd-e981-32f008ac1e0a"
      },
      "source": [
        "!pip install keras-tuner -q\n",
        "import kerastuner as kt\n",
        "print('Keras Tuner version = ' + kt.__version__)"
      ],
      "execution_count": 2,
      "outputs": [
        {
          "output_type": "stream",
          "text": [
            "\u001b[?25l\r\u001b[K     |██████                          | 10kB 22.8MB/s eta 0:00:01\r\u001b[K     |████████████                    | 20kB 1.8MB/s eta 0:00:01\r\u001b[K     |██████████████████              | 30kB 2.3MB/s eta 0:00:01\r\u001b[K     |████████████████████████        | 40kB 2.6MB/s eta 0:00:01\r\u001b[K     |██████████████████████████████  | 51kB 2.0MB/s eta 0:00:01\r\u001b[K     |████████████████████████████████| 61kB 1.9MB/s \n",
            "\u001b[?25h  Building wheel for keras-tuner (setup.py) ... \u001b[?25l\u001b[?25hdone\n",
            "  Building wheel for terminaltables (setup.py) ... \u001b[?25l\u001b[?25hdone\n",
            "Keras Tuner version = 1.0.1\n"
          ],
          "name": "stdout"
        }
      ]
    },
    {
      "cell_type": "markdown",
      "metadata": {
        "id": "aQqY7cZGCR4c",
        "colab_type": "text"
      },
      "source": [
        "## Load CIFAR10"
      ]
    },
    {
      "cell_type": "code",
      "metadata": {
        "id": "Auwnrxc7CViN",
        "colab_type": "code",
        "colab": {
          "base_uri": "https://localhost:8080/",
          "height": 51
        },
        "outputId": "90576d7a-a274-43dd-fcf3-9d1b179a01f4"
      },
      "source": [
        "(train_images, train_labels), (test_images, test_labels) = tf.keras.datasets.cifar10.load_data()\n",
        "# Normalize the data\n",
        "train_images, test_images = train_images / 255.0, test_images / 255.0"
      ],
      "execution_count": 3,
      "outputs": [
        {
          "output_type": "stream",
          "text": [
            "Downloading data from https://www.cs.toronto.edu/~kriz/cifar-10-python.tar.gz\n",
            "170500096/170498071 [==============================] - 16s 0us/step\n"
          ],
          "name": "stdout"
        }
      ]
    },
    {
      "cell_type": "code",
      "metadata": {
        "id": "OCVotInrTr95",
        "colab_type": "code",
        "colab": {}
      },
      "source": [
        "train_labels = tf.keras.utils.to_categorical(train_labels)\n",
        "test_labels = tf.keras.utils.to_categorical(test_labels)"
      ],
      "execution_count": 4,
      "outputs": []
    },
    {
      "cell_type": "markdown",
      "metadata": {
        "id": "PRKFxl3DOAbT",
        "colab_type": "text"
      },
      "source": [
        "# Baseline"
      ]
    },
    {
      "cell_type": "code",
      "metadata": {
        "id": "X-dXPP50Ci-i",
        "colab_type": "code",
        "colab": {
          "base_uri": "https://localhost:8080/",
          "height": 459
        },
        "outputId": "ef3b2ce9-2388-4220-d221-5fef8ff1b02d"
      },
      "source": [
        "from tensorflow.keras.layers import Conv2D, MaxPool2D, Flatten, Dense\n",
        "from tensorflow.keras import Input, Model\n",
        "\n",
        "input1 = Input(shape=(32, 32, 3), name='input1')\n",
        "x = Conv2D(32, 3, activation='elu')(input1)\n",
        "x = MaxPool2D()(x)\n",
        "x = Conv2D(64, 3, activation='elu')(x)\n",
        "x = MaxPool2D()(x)\n",
        "x = Conv2D(128, 3, activation='elu')(x)\n",
        "x = MaxPool2D()(x)\n",
        "x = Flatten()(x)\n",
        "out = Dense(10, activation='softmax')(x)\n",
        "\n",
        "model = Model(inputs=[input1], outputs=[out])\n",
        "\n",
        "model.compile(optimizer=tf.keras.optimizers.SGD(learning_rate=0.01, momentum=0.0),\n",
        "              loss=tf.keras.losses.CategoricalCrossentropy(from_logits=False), \n",
        "              metrics=['accuracy'])\n",
        "\n",
        "model.summary()"
      ],
      "execution_count": 5,
      "outputs": [
        {
          "output_type": "stream",
          "text": [
            "Model: \"functional_1\"\n",
            "_________________________________________________________________\n",
            "Layer (type)                 Output Shape              Param #   \n",
            "=================================================================\n",
            "input1 (InputLayer)          [(None, 32, 32, 3)]       0         \n",
            "_________________________________________________________________\n",
            "conv2d (Conv2D)              (None, 30, 30, 32)        896       \n",
            "_________________________________________________________________\n",
            "max_pooling2d (MaxPooling2D) (None, 15, 15, 32)        0         \n",
            "_________________________________________________________________\n",
            "conv2d_1 (Conv2D)            (None, 13, 13, 64)        18496     \n",
            "_________________________________________________________________\n",
            "max_pooling2d_1 (MaxPooling2 (None, 6, 6, 64)          0         \n",
            "_________________________________________________________________\n",
            "conv2d_2 (Conv2D)            (None, 4, 4, 128)         73856     \n",
            "_________________________________________________________________\n",
            "max_pooling2d_2 (MaxPooling2 (None, 2, 2, 128)         0         \n",
            "_________________________________________________________________\n",
            "flatten (Flatten)            (None, 512)               0         \n",
            "_________________________________________________________________\n",
            "dense (Dense)                (None, 10)                5130      \n",
            "=================================================================\n",
            "Total params: 98,378\n",
            "Trainable params: 98,378\n",
            "Non-trainable params: 0\n",
            "_________________________________________________________________\n"
          ],
          "name": "stdout"
        }
      ]
    },
    {
      "cell_type": "code",
      "metadata": {
        "id": "L5sYjIBTF_cd",
        "colab_type": "code",
        "colab": {}
      },
      "source": [
        "BATCH_SIZE = 128"
      ],
      "execution_count": 6,
      "outputs": []
    },
    {
      "cell_type": "code",
      "metadata": {
        "id": "-sSOJ94KFykH",
        "colab_type": "code",
        "colab": {
          "base_uri": "https://localhost:8080/",
          "height": 1000
        },
        "outputId": "aed008aa-a8b6-4314-ec5a-5f12de3b1ca2"
      },
      "source": [
        "filepath = 'model.h5'\n",
        "mc = tf.keras.callbacks.ModelCheckpoint(filepath, save_best_only=True, \n",
        "                                        save_weights_only=True)\n",
        "es = tf.keras.callbacks.EarlyStopping(patience=10, verbose=1)\n",
        "\n",
        "history = model.fit(train_images, train_labels, epochs=200, batch_size=BATCH_SIZE, \n",
        "                    validation_data=(test_images, test_labels), \n",
        "                    callbacks=[mc, es], verbose=2)"
      ],
      "execution_count": 7,
      "outputs": [
        {
          "output_type": "stream",
          "text": [
            "Epoch 1/200\n",
            "391/391 - 2s - loss: 2.1962 - accuracy: 0.2044 - val_loss: 2.0398 - val_accuracy: 0.2935\n",
            "Epoch 2/200\n",
            "391/391 - 2s - loss: 1.9482 - accuracy: 0.3126 - val_loss: 1.8781 - val_accuracy: 0.3381\n",
            "Epoch 3/200\n",
            "391/391 - 2s - loss: 1.8207 - accuracy: 0.3580 - val_loss: 1.7761 - val_accuracy: 0.3631\n",
            "Epoch 4/200\n",
            "391/391 - 2s - loss: 1.7311 - accuracy: 0.3900 - val_loss: 1.6867 - val_accuracy: 0.4070\n",
            "Epoch 5/200\n",
            "391/391 - 2s - loss: 1.6537 - accuracy: 0.4183 - val_loss: 1.6132 - val_accuracy: 0.4269\n",
            "Epoch 6/200\n",
            "391/391 - 2s - loss: 1.5871 - accuracy: 0.4422 - val_loss: 1.5526 - val_accuracy: 0.4498\n",
            "Epoch 7/200\n",
            "391/391 - 2s - loss: 1.5292 - accuracy: 0.4634 - val_loss: 1.5202 - val_accuracy: 0.4641\n",
            "Epoch 8/200\n",
            "391/391 - 2s - loss: 1.4849 - accuracy: 0.4793 - val_loss: 1.5007 - val_accuracy: 0.4679\n",
            "Epoch 9/200\n",
            "391/391 - 2s - loss: 1.4413 - accuracy: 0.4952 - val_loss: 1.4336 - val_accuracy: 0.5002\n",
            "Epoch 10/200\n",
            "391/391 - 2s - loss: 1.4047 - accuracy: 0.5109 - val_loss: 1.4442 - val_accuracy: 0.4832\n",
            "Epoch 11/200\n",
            "391/391 - 2s - loss: 1.3696 - accuracy: 0.5247 - val_loss: 1.4284 - val_accuracy: 0.4998\n",
            "Epoch 12/200\n",
            "391/391 - 2s - loss: 1.3408 - accuracy: 0.5353 - val_loss: 1.3638 - val_accuracy: 0.5209\n",
            "Epoch 13/200\n",
            "391/391 - 2s - loss: 1.3130 - accuracy: 0.5460 - val_loss: 1.3608 - val_accuracy: 0.5271\n",
            "Epoch 14/200\n",
            "391/391 - 2s - loss: 1.2853 - accuracy: 0.5570 - val_loss: 1.3178 - val_accuracy: 0.5394\n",
            "Epoch 15/200\n",
            "391/391 - 2s - loss: 1.2598 - accuracy: 0.5649 - val_loss: 1.2789 - val_accuracy: 0.5538\n",
            "Epoch 16/200\n",
            "391/391 - 2s - loss: 1.2369 - accuracy: 0.5736 - val_loss: 1.2567 - val_accuracy: 0.5591\n",
            "Epoch 17/200\n",
            "391/391 - 2s - loss: 1.2125 - accuracy: 0.5829 - val_loss: 1.2439 - val_accuracy: 0.5676\n",
            "Epoch 18/200\n",
            "391/391 - 2s - loss: 1.1905 - accuracy: 0.5904 - val_loss: 1.2117 - val_accuracy: 0.5794\n",
            "Epoch 19/200\n",
            "391/391 - 2s - loss: 1.1687 - accuracy: 0.5998 - val_loss: 1.1958 - val_accuracy: 0.5843\n",
            "Epoch 20/200\n",
            "391/391 - 2s - loss: 1.1514 - accuracy: 0.6053 - val_loss: 1.1951 - val_accuracy: 0.5867\n",
            "Epoch 21/200\n",
            "391/391 - 2s - loss: 1.1312 - accuracy: 0.6115 - val_loss: 1.1802 - val_accuracy: 0.5922\n",
            "Epoch 22/200\n",
            "391/391 - 2s - loss: 1.1136 - accuracy: 0.6195 - val_loss: 1.1627 - val_accuracy: 0.5986\n",
            "Epoch 23/200\n",
            "391/391 - 2s - loss: 1.0927 - accuracy: 0.6266 - val_loss: 1.1519 - val_accuracy: 0.5999\n",
            "Epoch 24/200\n",
            "391/391 - 2s - loss: 1.0769 - accuracy: 0.6309 - val_loss: 1.1342 - val_accuracy: 0.6089\n",
            "Epoch 25/200\n",
            "391/391 - 2s - loss: 1.0613 - accuracy: 0.6363 - val_loss: 1.1283 - val_accuracy: 0.6133\n",
            "Epoch 26/200\n",
            "391/391 - 2s - loss: 1.0434 - accuracy: 0.6443 - val_loss: 1.1176 - val_accuracy: 0.6110\n",
            "Epoch 27/200\n",
            "391/391 - 2s - loss: 1.0279 - accuracy: 0.6489 - val_loss: 1.0885 - val_accuracy: 0.6244\n",
            "Epoch 28/200\n",
            "391/391 - 2s - loss: 1.0145 - accuracy: 0.6541 - val_loss: 1.1036 - val_accuracy: 0.6158\n",
            "Epoch 29/200\n",
            "391/391 - 2s - loss: 0.9984 - accuracy: 0.6592 - val_loss: 1.0817 - val_accuracy: 0.6302\n",
            "Epoch 30/200\n",
            "391/391 - 2s - loss: 0.9863 - accuracy: 0.6634 - val_loss: 1.0631 - val_accuracy: 0.6364\n",
            "Epoch 31/200\n",
            "391/391 - 2s - loss: 0.9756 - accuracy: 0.6673 - val_loss: 1.0739 - val_accuracy: 0.6324\n",
            "Epoch 32/200\n",
            "391/391 - 2s - loss: 0.9619 - accuracy: 0.6742 - val_loss: 1.0604 - val_accuracy: 0.6382\n",
            "Epoch 33/200\n",
            "391/391 - 2s - loss: 0.9492 - accuracy: 0.6762 - val_loss: 1.0427 - val_accuracy: 0.6429\n",
            "Epoch 34/200\n",
            "391/391 - 2s - loss: 0.9367 - accuracy: 0.6807 - val_loss: 1.0904 - val_accuracy: 0.6292\n",
            "Epoch 35/200\n",
            "391/391 - 2s - loss: 0.9268 - accuracy: 0.6856 - val_loss: 1.0751 - val_accuracy: 0.6291\n",
            "Epoch 36/200\n",
            "391/391 - 2s - loss: 0.9164 - accuracy: 0.6883 - val_loss: 1.0218 - val_accuracy: 0.6478\n",
            "Epoch 37/200\n",
            "391/391 - 2s - loss: 0.9053 - accuracy: 0.6926 - val_loss: 1.0264 - val_accuracy: 0.6466\n",
            "Epoch 38/200\n",
            "391/391 - 2s - loss: 0.8949 - accuracy: 0.6953 - val_loss: 1.0228 - val_accuracy: 0.6517\n",
            "Epoch 39/200\n",
            "391/391 - 2s - loss: 0.8833 - accuracy: 0.7005 - val_loss: 1.0119 - val_accuracy: 0.6567\n",
            "Epoch 40/200\n",
            "391/391 - 2s - loss: 0.8760 - accuracy: 0.7027 - val_loss: 1.0175 - val_accuracy: 0.6501\n",
            "Epoch 41/200\n",
            "391/391 - 2s - loss: 0.8628 - accuracy: 0.7063 - val_loss: 1.0153 - val_accuracy: 0.6554\n",
            "Epoch 42/200\n",
            "391/391 - 2s - loss: 0.8556 - accuracy: 0.7089 - val_loss: 1.0042 - val_accuracy: 0.6621\n",
            "Epoch 43/200\n",
            "391/391 - 2s - loss: 0.8457 - accuracy: 0.7116 - val_loss: 0.9861 - val_accuracy: 0.6655\n",
            "Epoch 44/200\n",
            "391/391 - 2s - loss: 0.8372 - accuracy: 0.7168 - val_loss: 1.0271 - val_accuracy: 0.6483\n",
            "Epoch 45/200\n",
            "391/391 - 2s - loss: 0.8275 - accuracy: 0.7179 - val_loss: 1.0036 - val_accuracy: 0.6584\n",
            "Epoch 46/200\n",
            "391/391 - 2s - loss: 0.8180 - accuracy: 0.7236 - val_loss: 0.9783 - val_accuracy: 0.6662\n",
            "Epoch 47/200\n",
            "391/391 - 2s - loss: 0.8090 - accuracy: 0.7270 - val_loss: 0.9878 - val_accuracy: 0.6687\n",
            "Epoch 48/200\n",
            "391/391 - 2s - loss: 0.8024 - accuracy: 0.7277 - val_loss: 0.9767 - val_accuracy: 0.6703\n",
            "Epoch 49/200\n",
            "391/391 - 2s - loss: 0.7927 - accuracy: 0.7308 - val_loss: 0.9766 - val_accuracy: 0.6675\n",
            "Epoch 50/200\n",
            "391/391 - 2s - loss: 0.7831 - accuracy: 0.7342 - val_loss: 0.9843 - val_accuracy: 0.6683\n",
            "Epoch 51/200\n",
            "391/391 - 2s - loss: 0.7754 - accuracy: 0.7378 - val_loss: 1.0060 - val_accuracy: 0.6618\n",
            "Epoch 52/200\n",
            "391/391 - 2s - loss: 0.7665 - accuracy: 0.7404 - val_loss: 0.9896 - val_accuracy: 0.6666\n",
            "Epoch 53/200\n",
            "391/391 - 2s - loss: 0.7595 - accuracy: 0.7414 - val_loss: 0.9691 - val_accuracy: 0.6734\n",
            "Epoch 54/200\n",
            "391/391 - 2s - loss: 0.7529 - accuracy: 0.7445 - val_loss: 0.9655 - val_accuracy: 0.6737\n",
            "Epoch 55/200\n",
            "391/391 - 2s - loss: 0.7422 - accuracy: 0.7472 - val_loss: 0.9888 - val_accuracy: 0.6688\n",
            "Epoch 56/200\n",
            "391/391 - 2s - loss: 0.7357 - accuracy: 0.7507 - val_loss: 0.9652 - val_accuracy: 0.6690\n",
            "Epoch 57/200\n",
            "391/391 - 2s - loss: 0.7272 - accuracy: 0.7532 - val_loss: 0.9672 - val_accuracy: 0.6743\n",
            "Epoch 58/200\n",
            "391/391 - 2s - loss: 0.7202 - accuracy: 0.7559 - val_loss: 0.9534 - val_accuracy: 0.6793\n",
            "Epoch 59/200\n",
            "391/391 - 2s - loss: 0.7134 - accuracy: 0.7600 - val_loss: 0.9685 - val_accuracy: 0.6743\n",
            "Epoch 60/200\n",
            "391/391 - 2s - loss: 0.7041 - accuracy: 0.7611 - val_loss: 0.9834 - val_accuracy: 0.6731\n",
            "Epoch 61/200\n",
            "391/391 - 2s - loss: 0.6976 - accuracy: 0.7633 - val_loss: 0.9420 - val_accuracy: 0.6877\n",
            "Epoch 62/200\n",
            "391/391 - 2s - loss: 0.6896 - accuracy: 0.7672 - val_loss: 0.9651 - val_accuracy: 0.6767\n",
            "Epoch 63/200\n",
            "391/391 - 2s - loss: 0.6815 - accuracy: 0.7699 - val_loss: 0.9605 - val_accuracy: 0.6792\n",
            "Epoch 64/200\n",
            "391/391 - 2s - loss: 0.6747 - accuracy: 0.7716 - val_loss: 0.9768 - val_accuracy: 0.6765\n",
            "Epoch 65/200\n",
            "391/391 - 2s - loss: 0.6694 - accuracy: 0.7732 - val_loss: 0.9555 - val_accuracy: 0.6841\n",
            "Epoch 66/200\n",
            "391/391 - 2s - loss: 0.6614 - accuracy: 0.7767 - val_loss: 0.9913 - val_accuracy: 0.6735\n",
            "Epoch 67/200\n",
            "391/391 - 2s - loss: 0.6560 - accuracy: 0.7771 - val_loss: 0.9680 - val_accuracy: 0.6788\n",
            "Epoch 68/200\n",
            "391/391 - 2s - loss: 0.6461 - accuracy: 0.7810 - val_loss: 0.9720 - val_accuracy: 0.6782\n",
            "Epoch 69/200\n",
            "391/391 - 2s - loss: 0.6376 - accuracy: 0.7856 - val_loss: 0.9631 - val_accuracy: 0.6827\n",
            "Epoch 70/200\n",
            "391/391 - 2s - loss: 0.6322 - accuracy: 0.7856 - val_loss: 0.9432 - val_accuracy: 0.6879\n",
            "Epoch 71/200\n",
            "391/391 - 2s - loss: 0.6252 - accuracy: 0.7894 - val_loss: 0.9897 - val_accuracy: 0.6750\n",
            "Epoch 00071: early stopping\n"
          ],
          "name": "stdout"
        }
      ]
    },
    {
      "cell_type": "code",
      "metadata": {
        "id": "-FLQSvPfF5Uw",
        "colab_type": "code",
        "colab": {
          "base_uri": "https://localhost:8080/",
          "height": 51
        },
        "outputId": "f8375103-946c-4a9c-a177-caf92c603ed7"
      },
      "source": [
        "model.load_weights(filepath)\n",
        "metrics = model.evaluate(test_images, test_labels, verbose=0)\n",
        "print('Loss = ' + str(metrics[0]))\n",
        "print('Accuracy = ' + str(metrics[1]))\n",
        "accuracies.append(metrics[1])"
      ],
      "execution_count": 8,
      "outputs": [
        {
          "output_type": "stream",
          "text": [
            "Loss = 0.9419795870780945\n",
            "Accuracy = 0.6876999735832214\n"
          ],
          "name": "stdout"
        }
      ]
    },
    {
      "cell_type": "markdown",
      "metadata": {
        "id": "90aNivWBGnDa",
        "colab_type": "text"
      },
      "source": [
        "Recall that the Keras tuned DNN achieved:\n",
        "\n",
        "\n",
        "```\n",
        "Loss = 1.955668330192566\n",
        "Accuracy = 0.5008000135421753\n",
        "```\n",
        "\n"
      ]
    },
    {
      "cell_type": "markdown",
      "metadata": {
        "id": "x0542FLrG2P_",
        "colab_type": "text"
      },
      "source": [
        "# Tune SGD parameters"
      ]
    },
    {
      "cell_type": "code",
      "metadata": {
        "id": "pCnFKYfHJ6gH",
        "colab_type": "code",
        "colab": {}
      },
      "source": [
        "from tensorflow.keras.optimizers import SGD\n",
        "\n",
        "def build_hypermodel(hp):\n",
        "  input1 = Input(shape=(32, 32, 3), name='input1')\n",
        "  x = Conv2D(32, 3, activation='elu')(input1)\n",
        "  x = MaxPool2D()(x)\n",
        "  x = Conv2D(64, 3, activation='elu')(x)\n",
        "  x = MaxPool2D()(x)\n",
        "  x = Conv2D(128, 3, activation='elu')(x)\n",
        "  x = MaxPool2D()(x)\n",
        "  x = Flatten()(x)\n",
        "  out = Dense(10, activation='softmax')(x)\n",
        "\n",
        "  model = Model(inputs=[input1], outputs=[out])\n",
        "\n",
        "  optimizer = SGD(learning_rate=hp.Float(name='lr', min_value=0.005, max_value=0.05, step=0.005),\n",
        "                  momentum=hp.Float(name='mom', min_value=0.0, max_value=0.9, step=0.1))\n",
        "  model.compile(optimizer=optimizer,\n",
        "                loss=tf.keras.losses.CategoricalCrossentropy(from_logits=False), \n",
        "                metrics=['accuracy'])\n",
        "\n",
        "  return model"
      ],
      "execution_count": 9,
      "outputs": []
    },
    {
      "cell_type": "code",
      "metadata": {
        "id": "6IENbbpELvRL",
        "colab_type": "code",
        "colab": {}
      },
      "source": [
        "tuner = kt.BayesianOptimization(hypermodel=build_hypermodel,\n",
        "                        objective='val_loss',\n",
        "                        max_trials=25,\n",
        "                        num_initial_points=2,\n",
        "                        directory='test_dir',\n",
        "                        project_name='a',\n",
        "                        seed=seed\n",
        "                        )"
      ],
      "execution_count": 10,
      "outputs": []
    },
    {
      "cell_type": "code",
      "metadata": {
        "id": "WOKfjGIHM7hS",
        "colab_type": "code",
        "colab": {}
      },
      "source": [
        "import IPython\n",
        "\n",
        "class ClearTrainingOutput(tf.keras.callbacks.Callback):\n",
        "  def on_train_end(*args, **kwargs):\n",
        "    IPython.display.clear_output(wait = True)"
      ],
      "execution_count": 11,
      "outputs": []
    },
    {
      "cell_type": "code",
      "metadata": {
        "id": "smcSJNBuL2Ku",
        "colab_type": "code",
        "colab": {
          "base_uri": "https://localhost:8080/",
          "height": 227
        },
        "outputId": "5d029443-8c89-49c7-f32e-f9e87143a5c8"
      },
      "source": [
        "es = tf.keras.callbacks.EarlyStopping(patience=10)\n",
        "tuner.search(train_images, train_labels, epochs=200, batch_size=BATCH_SIZE, \n",
        "             validation_data=(test_images, test_labels), \n",
        "             verbose=0, callbacks=[es, ClearTrainingOutput()])"
      ],
      "execution_count": 12,
      "outputs": [
        {
          "output_type": "display_data",
          "data": {
            "text/html": [
              "<span style=\"color:#4527A0\"><h1 style=\"font-size:18px\">Trial complete</h1></span>"
            ],
            "text/plain": [
              "<IPython.core.display.HTML object>"
            ]
          },
          "metadata": {
            "tags": []
          }
        },
        {
          "output_type": "display_data",
          "data": {
            "text/html": [
              "<span style=\"color:#4527A0\"><h1 style=\"font-size:18px\">Trial summary</h1></span>"
            ],
            "text/plain": [
              "<IPython.core.display.HTML object>"
            ]
          },
          "metadata": {
            "tags": []
          }
        },
        {
          "output_type": "display_data",
          "data": {
            "text/html": [
              "<span style=\"color:cyan\"> |-Trial ID: 5ca39c8851f226c3a8ef58c9690ad300</span>"
            ],
            "text/plain": [
              "<IPython.core.display.HTML object>"
            ]
          },
          "metadata": {
            "tags": []
          }
        },
        {
          "output_type": "display_data",
          "data": {
            "text/html": [
              "<span style=\"color:cyan\"> |-Score: 0.9367585182189941</span>"
            ],
            "text/plain": [
              "<IPython.core.display.HTML object>"
            ]
          },
          "metadata": {
            "tags": []
          }
        },
        {
          "output_type": "display_data",
          "data": {
            "text/html": [
              "<span style=\"color:cyan\"> |-Best step: 0</span>"
            ],
            "text/plain": [
              "<IPython.core.display.HTML object>"
            ]
          },
          "metadata": {
            "tags": []
          }
        },
        {
          "output_type": "display_data",
          "data": {
            "text/html": [
              "<span style=\"color:#7E57C2\"><h2 style=\"font-size:16px\">Hyperparameters:</h2></span>"
            ],
            "text/plain": [
              "<IPython.core.display.HTML object>"
            ]
          },
          "metadata": {
            "tags": []
          }
        },
        {
          "output_type": "display_data",
          "data": {
            "text/html": [
              "<span style=\"color:cyan\"> |-lr: 0.049999999999999996</span>"
            ],
            "text/plain": [
              "<IPython.core.display.HTML object>"
            ]
          },
          "metadata": {
            "tags": []
          }
        },
        {
          "output_type": "display_data",
          "data": {
            "text/html": [
              "<span style=\"color:blue\"> |-mom: 0.0</span>"
            ],
            "text/plain": [
              "<IPython.core.display.HTML object>"
            ]
          },
          "metadata": {
            "tags": []
          }
        },
        {
          "output_type": "stream",
          "text": [
            "INFO:tensorflow:Oracle triggered exit\n"
          ],
          "name": "stdout"
        }
      ]
    },
    {
      "cell_type": "code",
      "metadata": {
        "id": "ANXqND2uPawZ",
        "colab_type": "code",
        "colab": {
          "base_uri": "https://localhost:8080/",
          "height": 68
        },
        "outputId": "6d142f8f-a530-4edb-bfaf-d71a2f1d9225"
      },
      "source": [
        "best_hps = tuner.get_best_hyperparameters(num_trials = 1)[0]\n",
        "print(f\"\"\"\n",
        "The hyperparameter search is complete. The optimal learning rate is {best_hps.get('lr')}. The optimal momentum is {best_hps.get('mom')}.\n",
        "\"\"\")"
      ],
      "execution_count": 13,
      "outputs": [
        {
          "output_type": "stream",
          "text": [
            "\n",
            "The hyperparameter search is complete. The optimal learning rate is 0.049999999999999996. The optimal momentum is 0.0.\n",
            "\n"
          ],
          "name": "stdout"
        }
      ]
    },
    {
      "cell_type": "code",
      "metadata": {
        "id": "2nzd52eDMdgt",
        "colab_type": "code",
        "colab": {}
      },
      "source": [
        "model = tuner.hypermodel.build(best_hps)"
      ],
      "execution_count": 14,
      "outputs": []
    },
    {
      "cell_type": "code",
      "metadata": {
        "id": "bhYn0mEtMnra",
        "colab_type": "code",
        "colab": {
          "base_uri": "https://localhost:8080/",
          "height": 34
        },
        "outputId": "8ec081a5-12e1-40d2-c845-d0c046dcc2fa"
      },
      "source": [
        "mc = tf.keras.callbacks.ModelCheckpoint(filepath, save_best_only=True, \n",
        "                                        save_weights_only=True)\n",
        "es = tf.keras.callbacks.EarlyStopping(patience=10, verbose=1)\n",
        "\n",
        "history = model.fit(train_images, train_labels, epochs=200, batch_size=BATCH_SIZE, \n",
        "                    validation_data=(test_images, test_labels), \n",
        "                    callbacks=[mc, es], verbose=0)"
      ],
      "execution_count": 15,
      "outputs": [
        {
          "output_type": "stream",
          "text": [
            "Epoch 00031: early stopping\n"
          ],
          "name": "stdout"
        }
      ]
    },
    {
      "cell_type": "code",
      "metadata": {
        "id": "k6YkuEXeMwk3",
        "colab_type": "code",
        "colab": {
          "base_uri": "https://localhost:8080/",
          "height": 51
        },
        "outputId": "e1e63061-328a-41bd-b6d3-2fa24267a9ea"
      },
      "source": [
        "model.load_weights(filepath)\n",
        "metrics = model.evaluate(test_images, test_labels, verbose=0)\n",
        "print('Loss = ' + str(metrics[0]))\n",
        "print('Accuracy = ' + str(metrics[1]))\n",
        "accuracies.append(metrics[1])"
      ],
      "execution_count": 16,
      "outputs": [
        {
          "output_type": "stream",
          "text": [
            "Loss = 0.9262975454330444\n",
            "Accuracy = 0.6952000260353088\n"
          ],
          "name": "stdout"
        }
      ]
    },
    {
      "cell_type": "markdown",
      "metadata": {
        "id": "JfOFFijDP74S",
        "colab_type": "text"
      },
      "source": [
        "# Tune optimizer choice"
      ]
    },
    {
      "cell_type": "code",
      "metadata": {
        "id": "FTCzZY3ZTBwA",
        "colab_type": "code",
        "colab": {}
      },
      "source": [
        "def build_hypermodel(hp):\n",
        "  input1 = Input(shape=(32, 32, 3), name='input1')\n",
        "  x = Conv2D(32, 3, activation='elu')(input1)\n",
        "  x = MaxPool2D()(x)\n",
        "  x = Conv2D(64, 3, activation='elu')(x)\n",
        "  x = MaxPool2D()(x)\n",
        "  x = Conv2D(128, 3, activation='elu')(x)\n",
        "  x = MaxPool2D()(x)\n",
        "  x = Flatten()(x)\n",
        "  out = Dense(10, activation='softmax')(x)\n",
        "\n",
        "  model = Model(inputs=[input1], outputs=[out])\n",
        "\n",
        "  optimizer = hp.Choice('opt', values=['Adam', 'SGD', 'RMSprop'])\n",
        "  model.compile(optimizer=optimizer,\n",
        "                loss=tf.keras.losses.CategoricalCrossentropy(from_logits=False), \n",
        "                metrics=['accuracy'])\n",
        "\n",
        "  return model"
      ],
      "execution_count": 17,
      "outputs": []
    },
    {
      "cell_type": "code",
      "metadata": {
        "id": "HZYSKFEDTzW3",
        "colab_type": "code",
        "colab": {}
      },
      "source": [
        "tuner = kt.BayesianOptimization(hypermodel=build_hypermodel,\n",
        "                        objective='val_loss',\n",
        "                        max_trials=25,\n",
        "                        num_initial_points=2,\n",
        "                        directory='test_dir',\n",
        "                        project_name='b',\n",
        "                        seed=seed\n",
        "                        )"
      ],
      "execution_count": 18,
      "outputs": []
    },
    {
      "cell_type": "code",
      "metadata": {
        "id": "LDa7_D3UT6Hi",
        "colab_type": "code",
        "colab": {
          "base_uri": "https://localhost:8080/",
          "height": 210
        },
        "outputId": "bc7284bf-add4-4295-df92-9fb6259e2107"
      },
      "source": [
        "es = tf.keras.callbacks.EarlyStopping(patience=10)\n",
        "tuner.search(train_images, train_labels, epochs=200, batch_size=BATCH_SIZE, \n",
        "             validation_data=(test_images, test_labels), \n",
        "             verbose=0, callbacks=[es, ClearTrainingOutput()])"
      ],
      "execution_count": 19,
      "outputs": [
        {
          "output_type": "display_data",
          "data": {
            "text/html": [
              "<span style=\"color:#4527A0\"><h1 style=\"font-size:18px\">Trial complete</h1></span>"
            ],
            "text/plain": [
              "<IPython.core.display.HTML object>"
            ]
          },
          "metadata": {
            "tags": []
          }
        },
        {
          "output_type": "display_data",
          "data": {
            "text/html": [
              "<span style=\"color:#4527A0\"><h1 style=\"font-size:18px\">Trial summary</h1></span>"
            ],
            "text/plain": [
              "<IPython.core.display.HTML object>"
            ]
          },
          "metadata": {
            "tags": []
          }
        },
        {
          "output_type": "display_data",
          "data": {
            "text/html": [
              "<span style=\"color:cyan\"> |-Trial ID: 7f4c38ce7214a1dd2939ff0557b1a175</span>"
            ],
            "text/plain": [
              "<IPython.core.display.HTML object>"
            ]
          },
          "metadata": {
            "tags": []
          }
        },
        {
          "output_type": "display_data",
          "data": {
            "text/html": [
              "<span style=\"color:cyan\"> |-Score: 0.9334912300109863</span>"
            ],
            "text/plain": [
              "<IPython.core.display.HTML object>"
            ]
          },
          "metadata": {
            "tags": []
          }
        },
        {
          "output_type": "display_data",
          "data": {
            "text/html": [
              "<span style=\"color:cyan\"> |-Best step: 0</span>"
            ],
            "text/plain": [
              "<IPython.core.display.HTML object>"
            ]
          },
          "metadata": {
            "tags": []
          }
        },
        {
          "output_type": "display_data",
          "data": {
            "text/html": [
              "<span style=\"color:#7E57C2\"><h2 style=\"font-size:16px\">Hyperparameters:</h2></span>"
            ],
            "text/plain": [
              "<IPython.core.display.HTML object>"
            ]
          },
          "metadata": {
            "tags": []
          }
        },
        {
          "output_type": "display_data",
          "data": {
            "text/html": [
              "<span style=\"color:cyan\"> |-opt: RMSprop</span>"
            ],
            "text/plain": [
              "<IPython.core.display.HTML object>"
            ]
          },
          "metadata": {
            "tags": []
          }
        },
        {
          "output_type": "stream",
          "text": [
            "INFO:tensorflow:Oracle triggered exit\n"
          ],
          "name": "stdout"
        }
      ]
    },
    {
      "cell_type": "code",
      "metadata": {
        "id": "xV9sws46T_ux",
        "colab_type": "code",
        "colab": {
          "base_uri": "https://localhost:8080/",
          "height": 68
        },
        "outputId": "ac410754-60c2-4565-e4df-eb7173962ea9"
      },
      "source": [
        "best_hps = tuner.get_best_hyperparameters(num_trials = 1)[0]\n",
        "print(f\"\"\"\n",
        "The hyperparameter search is complete. The optimal optimizer is {best_hps.get('opt')}.\n",
        "\"\"\")"
      ],
      "execution_count": 20,
      "outputs": [
        {
          "output_type": "stream",
          "text": [
            "\n",
            "The hyperparameter search is complete. The optimal optimizer is RMSprop.\n",
            "\n"
          ],
          "name": "stdout"
        }
      ]
    },
    {
      "cell_type": "code",
      "metadata": {
        "id": "SaJLYsyeUG-E",
        "colab_type": "code",
        "colab": {}
      },
      "source": [
        "model = tuner.hypermodel.build(best_hps)"
      ],
      "execution_count": 21,
      "outputs": []
    },
    {
      "cell_type": "code",
      "metadata": {
        "id": "y4dmUPcRULZ2",
        "colab_type": "code",
        "colab": {
          "base_uri": "https://localhost:8080/",
          "height": 34
        },
        "outputId": "f809f86e-432c-4633-c054-37d3f101d579"
      },
      "source": [
        "mc = tf.keras.callbacks.ModelCheckpoint(filepath, save_best_only=True, \n",
        "                                        save_weights_only=True)\n",
        "es = tf.keras.callbacks.EarlyStopping(patience=10, verbose=1)\n",
        "\n",
        "history = model.fit(train_images, train_labels, epochs=200, batch_size=BATCH_SIZE, \n",
        "                    validation_data=(test_images, test_labels), \n",
        "                    callbacks=[mc, es], verbose=0)"
      ],
      "execution_count": 22,
      "outputs": [
        {
          "output_type": "stream",
          "text": [
            "Epoch 00019: early stopping\n"
          ],
          "name": "stdout"
        }
      ]
    },
    {
      "cell_type": "code",
      "metadata": {
        "id": "M17sT8V0USYt",
        "colab_type": "code",
        "colab": {
          "base_uri": "https://localhost:8080/",
          "height": 51
        },
        "outputId": "cc56826c-b654-445c-de40-d607a7f9fe82"
      },
      "source": [
        "model.load_weights(filepath)\n",
        "metrics = model.evaluate(test_images, test_labels, verbose=0)\n",
        "print('Loss = ' + str(metrics[0]))\n",
        "print('Accuracy = ' + str(metrics[1]))\n",
        "accuracies.append(metrics[1])"
      ],
      "execution_count": 23,
      "outputs": [
        {
          "output_type": "stream",
          "text": [
            "Loss = 0.9152792096138\n",
            "Accuracy = 0.6977999806404114\n"
          ],
          "name": "stdout"
        }
      ]
    },
    {
      "cell_type": "markdown",
      "metadata": {
        "id": "ut5wovQIUT7D",
        "colab_type": "text"
      },
      "source": [
        "# Tune RMSprop"
      ]
    },
    {
      "cell_type": "code",
      "metadata": {
        "id": "bkDyyG5IYHyL",
        "colab_type": "code",
        "colab": {}
      },
      "source": [
        "from tensorflow.keras.optimizers import RMSprop\n",
        "\n",
        "def build_hypermodel(hp):\n",
        "  input1 = Input(shape=(32, 32, 3), name='input1')\n",
        "  x = Conv2D(32, 3, activation='elu')(input1)\n",
        "  x = MaxPool2D()(x)\n",
        "  x = Conv2D(64, 3, activation='elu')(x)\n",
        "  x = MaxPool2D()(x)\n",
        "  x = Conv2D(128, 3, activation='elu')(x)\n",
        "  x = MaxPool2D()(x)\n",
        "  x = Flatten()(x)\n",
        "  out = Dense(10, activation='softmax')(x)\n",
        "\n",
        "  model = Model(inputs=[input1], outputs=[out])\n",
        "\n",
        "  optimizer = RMSprop(learning_rate=hp.Float(name='lr', min_value=0.0005, max_value=0.002, step=0.0005),\n",
        "                  momentum=hp.Float(name='mom', min_value=0.0, max_value=0.9, step=0.1))\n",
        "  model.compile(optimizer=optimizer,\n",
        "                loss=tf.keras.losses.CategoricalCrossentropy(from_logits=False), \n",
        "                metrics=['accuracy'])\n",
        "\n",
        "  return model"
      ],
      "execution_count": 24,
      "outputs": []
    },
    {
      "cell_type": "code",
      "metadata": {
        "id": "xawYJdzjYH6v",
        "colab_type": "code",
        "colab": {}
      },
      "source": [
        "tuner = kt.BayesianOptimization(hypermodel=build_hypermodel,\n",
        "                        objective='val_loss',\n",
        "                        max_trials=25,\n",
        "                        num_initial_points=2,\n",
        "                        directory='test_dir',\n",
        "                        project_name='c',\n",
        "                        seed=seed\n",
        "                        )"
      ],
      "execution_count": 25,
      "outputs": []
    },
    {
      "cell_type": "code",
      "metadata": {
        "id": "OhCyBaPpYH_h",
        "colab_type": "code",
        "colab": {
          "base_uri": "https://localhost:8080/",
          "height": 227
        },
        "outputId": "18adb8dd-a429-40b2-8990-8b0db58e8d25"
      },
      "source": [
        "es = tf.keras.callbacks.EarlyStopping(patience=10)\n",
        "tuner.search(train_images, train_labels, epochs=200, batch_size=BATCH_SIZE, \n",
        "             validation_data=(test_images, test_labels), \n",
        "             verbose=0, callbacks=[es, ClearTrainingOutput()])"
      ],
      "execution_count": 26,
      "outputs": [
        {
          "output_type": "display_data",
          "data": {
            "text/html": [
              "<span style=\"color:#4527A0\"><h1 style=\"font-size:18px\">Trial complete</h1></span>"
            ],
            "text/plain": [
              "<IPython.core.display.HTML object>"
            ]
          },
          "metadata": {
            "tags": []
          }
        },
        {
          "output_type": "display_data",
          "data": {
            "text/html": [
              "<span style=\"color:#4527A0\"><h1 style=\"font-size:18px\">Trial summary</h1></span>"
            ],
            "text/plain": [
              "<IPython.core.display.HTML object>"
            ]
          },
          "metadata": {
            "tags": []
          }
        },
        {
          "output_type": "display_data",
          "data": {
            "text/html": [
              "<span style=\"color:cyan\"> |-Trial ID: 2b18b7af956521b8c3e3e82affba9310</span>"
            ],
            "text/plain": [
              "<IPython.core.display.HTML object>"
            ]
          },
          "metadata": {
            "tags": []
          }
        },
        {
          "output_type": "display_data",
          "data": {
            "text/html": [
              "<span style=\"color:cyan\"> |-Score: 0.8773066401481628</span>"
            ],
            "text/plain": [
              "<IPython.core.display.HTML object>"
            ]
          },
          "metadata": {
            "tags": []
          }
        },
        {
          "output_type": "display_data",
          "data": {
            "text/html": [
              "<span style=\"color:cyan\"> |-Best step: 0</span>"
            ],
            "text/plain": [
              "<IPython.core.display.HTML object>"
            ]
          },
          "metadata": {
            "tags": []
          }
        },
        {
          "output_type": "display_data",
          "data": {
            "text/html": [
              "<span style=\"color:#7E57C2\"><h2 style=\"font-size:16px\">Hyperparameters:</h2></span>"
            ],
            "text/plain": [
              "<IPython.core.display.HTML object>"
            ]
          },
          "metadata": {
            "tags": []
          }
        },
        {
          "output_type": "display_data",
          "data": {
            "text/html": [
              "<span style=\"color:cyan\"> |-lr: 0.0005</span>"
            ],
            "text/plain": [
              "<IPython.core.display.HTML object>"
            ]
          },
          "metadata": {
            "tags": []
          }
        },
        {
          "output_type": "display_data",
          "data": {
            "text/html": [
              "<span style=\"color:blue\"> |-mom: 0.0</span>"
            ],
            "text/plain": [
              "<IPython.core.display.HTML object>"
            ]
          },
          "metadata": {
            "tags": []
          }
        },
        {
          "output_type": "stream",
          "text": [
            "INFO:tensorflow:Oracle triggered exit\n"
          ],
          "name": "stdout"
        }
      ]
    },
    {
      "cell_type": "code",
      "metadata": {
        "id": "_FyrgLjTYICX",
        "colab_type": "code",
        "colab": {
          "base_uri": "https://localhost:8080/",
          "height": 68
        },
        "outputId": "1bdb7c99-9ef3-4037-bf5c-f1e518aa5e99"
      },
      "source": [
        "best_hps = tuner.get_best_hyperparameters(num_trials = 1)[0]\n",
        "print(f\"\"\"\n",
        "The hyperparameter search is complete. The optimal learning rate is {best_hps.get('lr')}. The optimal momentum is {best_hps.get('mom')}.\n",
        "\"\"\")"
      ],
      "execution_count": 27,
      "outputs": [
        {
          "output_type": "stream",
          "text": [
            "\n",
            "The hyperparameter search is complete. The optimal learning rate is 0.0005. The optimal momentum is 0.0.\n",
            "\n"
          ],
          "name": "stdout"
        }
      ]
    },
    {
      "cell_type": "code",
      "metadata": {
        "id": "Uf9NP-qaYIOi",
        "colab_type": "code",
        "colab": {}
      },
      "source": [
        "model = tuner.hypermodel.build(best_hps)"
      ],
      "execution_count": 28,
      "outputs": []
    },
    {
      "cell_type": "code",
      "metadata": {
        "id": "pvRcWqrbZJUB",
        "colab_type": "code",
        "colab": {
          "base_uri": "https://localhost:8080/",
          "height": 34
        },
        "outputId": "7fec1e4c-3130-4a47-d58a-5798da38b673"
      },
      "source": [
        "mc = tf.keras.callbacks.ModelCheckpoint(filepath, save_best_only=True, \n",
        "                                        save_weights_only=True)\n",
        "es = tf.keras.callbacks.EarlyStopping(patience=10, verbose=1)\n",
        "\n",
        "history = model.fit(train_images, train_labels, epochs=200, batch_size=BATCH_SIZE, \n",
        "                    validation_data=(test_images, test_labels), \n",
        "                    callbacks=[mc, es], verbose=0)"
      ],
      "execution_count": 29,
      "outputs": [
        {
          "output_type": "stream",
          "text": [
            "Epoch 00029: early stopping\n"
          ],
          "name": "stdout"
        }
      ]
    },
    {
      "cell_type": "code",
      "metadata": {
        "id": "W4WfibDmZJdm",
        "colab_type": "code",
        "colab": {
          "base_uri": "https://localhost:8080/",
          "height": 51
        },
        "outputId": "5d92be57-50cb-423b-fd90-12bb440341ac"
      },
      "source": [
        "model.load_weights(filepath)\n",
        "metrics = model.evaluate(test_images, test_labels, verbose=0)\n",
        "print('Loss = ' + str(metrics[0]))\n",
        "print('Accuracy = ' + str(metrics[1]))\n",
        "accuracies.append(metrics[1])"
      ],
      "execution_count": 30,
      "outputs": [
        {
          "output_type": "stream",
          "text": [
            "Loss = 0.9120068550109863\n",
            "Accuracy = 0.703000009059906\n"
          ],
          "name": "stdout"
        }
      ]
    },
    {
      "cell_type": "markdown",
      "metadata": {
        "id": "qosBunrAZn0q",
        "colab_type": "text"
      },
      "source": [
        "# Results"
      ]
    },
    {
      "cell_type": "code",
      "metadata": {
        "id": "GciwCM7PZqH3",
        "colab_type": "code",
        "colab": {
          "base_uri": "https://localhost:8080/",
          "height": 281
        },
        "outputId": "b5e7b0ab-d0ee-47ff-f330-954636e4982a"
      },
      "source": [
        "import matplotlib.pyplot as plt\n",
        "\n",
        "labels = ['baseline', 'tuned-SGD', 'RMSprop', 'tuned-RMSprop']\n",
        "\n",
        "x_pos = [i for i, _ in enumerate(labels)]\n",
        "\n",
        "plt.bar(x_pos, accuracies, color='green')\n",
        "plt.ylabel(\"Accuracy\")\n",
        "plt.title(\"Keras Tuner Results by Model\")\n",
        "\n",
        "plt.xticks(x_pos, labels)\n",
        "\n",
        "plt.show()"
      ],
      "execution_count": 31,
      "outputs": [
        {
          "output_type": "display_data",
          "data": {
            "image/png": "[encoded data removed]",
            "text/plain": [
              "<Figure size 432x288 with 1 Axes>"
            ]
          },
          "metadata": {
            "tags": [],
            "needs_background": "light"
          }
        }
      ]
    }
  ]
}